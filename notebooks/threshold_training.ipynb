{
  "cells": [
    {
      "cell_type": "code",
      "execution_count": 2,
      "metadata": {
        "colab": {
          "base_uri": "https://localhost:8080/"
        },
        "id": "NMPAtrVciYLO",
        "outputId": "37087823-5e94-48e1-d065-09b25fc92059"
      },
      "outputs": [
        {
          "name": "stdout",
          "output_type": "stream",
          "text": [
            "Requirement already satisfied: keras-tuner in /opt/homebrew/anaconda3/lib/python3.11/site-packages (1.4.7)\n",
            "Requirement already satisfied: keras in /opt/homebrew/anaconda3/lib/python3.11/site-packages (from keras-tuner) (3.3.3)\n",
            "Requirement already satisfied: packaging in /opt/homebrew/anaconda3/lib/python3.11/site-packages (from keras-tuner) (23.1)\n",
            "Requirement already satisfied: requests in /opt/homebrew/anaconda3/lib/python3.11/site-packages (from keras-tuner) (2.31.0)\n",
            "Requirement already satisfied: kt-legacy in /opt/homebrew/anaconda3/lib/python3.11/site-packages (from keras-tuner) (1.0.5)\n",
            "Requirement already satisfied: absl-py in /opt/homebrew/anaconda3/lib/python3.11/site-packages (from keras->keras-tuner) (2.1.0)\n",
            "Requirement already satisfied: numpy in /opt/homebrew/anaconda3/lib/python3.11/site-packages (from keras->keras-tuner) (1.26.4)\n",
            "Requirement already satisfied: rich in /opt/homebrew/anaconda3/lib/python3.11/site-packages (from keras->keras-tuner) (13.3.5)\n",
            "Requirement already satisfied: namex in /opt/homebrew/anaconda3/lib/python3.11/site-packages (from keras->keras-tuner) (0.0.8)\n",
            "Requirement already satisfied: h5py in /opt/homebrew/anaconda3/lib/python3.11/site-packages (from keras->keras-tuner) (3.11.0)\n",
            "Requirement already satisfied: optree in /opt/homebrew/anaconda3/lib/python3.11/site-packages (from keras->keras-tuner) (0.11.0)\n",
            "Requirement already satisfied: ml-dtypes in /opt/homebrew/anaconda3/lib/python3.11/site-packages (from keras->keras-tuner) (0.3.2)\n",
            "Requirement already satisfied: charset-normalizer<4,>=2 in /opt/homebrew/anaconda3/lib/python3.11/site-packages (from requests->keras-tuner) (2.0.4)\n",
            "Requirement already satisfied: idna<4,>=2.5 in /opt/homebrew/anaconda3/lib/python3.11/site-packages (from requests->keras-tuner) (3.4)\n",
            "Requirement already satisfied: urllib3<3,>=1.21.1 in /opt/homebrew/anaconda3/lib/python3.11/site-packages (from requests->keras-tuner) (2.0.7)\n",
            "Requirement already satisfied: certifi>=2017.4.17 in /opt/homebrew/anaconda3/lib/python3.11/site-packages (from requests->keras-tuner) (2024.2.2)\n",
            "Requirement already satisfied: typing-extensions>=4.0.0 in /opt/homebrew/anaconda3/lib/python3.11/site-packages (from optree->keras->keras-tuner) (4.9.0)\n",
            "Requirement already satisfied: markdown-it-py<3.0.0,>=2.2.0 in /opt/homebrew/anaconda3/lib/python3.11/site-packages (from rich->keras->keras-tuner) (2.2.0)\n",
            "Requirement already satisfied: pygments<3.0.0,>=2.13.0 in /opt/homebrew/anaconda3/lib/python3.11/site-packages (from rich->keras->keras-tuner) (2.15.1)\n",
            "Requirement already satisfied: mdurl~=0.1 in /opt/homebrew/anaconda3/lib/python3.11/site-packages (from markdown-it-py<3.0.0,>=2.2.0->rich->keras->keras-tuner) (0.1.0)\n"
          ]
        },
        {
          "name": "stderr",
          "output_type": "stream",
          "text": [
            "/var/folders/bp/pzmg_4bx0kxc4_jr5p1npj1h0000gn/T/ipykernel_15245/2416610556.py:23: DeprecationWarning: `import kerastuner` is deprecated, please use `import keras_tuner`.\n",
            "  from kerastuner import HyperModel\n"
          ]
        }
      ],
      "source": [
        "# Installing necessary packages\n",
        "!pip install keras-tuner\n",
        "\n",
        "# Importing necessary libraries\n",
        "import os\n",
        "import glob\n",
        "import re\n",
        "import numpy as np\n",
        "import pandas as pd\n",
        "import matplotlib.pyplot as plt\n",
        "\n",
        "from sklearn.model_selection import train_test_split, cross_val_score, RandomizedSearchCV\n",
        "from sklearn.preprocessing import MinMaxScaler, StandardScaler\n",
        "from sklearn.metrics import accuracy_score\n",
        "from sklearn.metrics import confusion_matrix\n",
        "from sklearn.metrics import roc_auc_score, average_precision_score\n",
        "from sklearn.metrics import roc_curve, auc, precision_recall_curve\n",
        "from xgboost import XGBClassifier\n",
        "\n",
        "import keras\n",
        "from keras.models import Sequential\n",
        "from keras.layers import Conv1D, MaxPooling1D, Flatten, Dense\n",
        "from kerastuner import HyperModel\n",
        "from kerastuner.tuners import RandomSearch\n",
        "from keras.callbacks import EarlyStopping\n",
        "from keras.layers import Dropout\n",
        "from keras.models import load_model, save_model\n",
        "\n",
        "import tensorflow as tf\n"
      ]
    },
    {
      "cell_type": "markdown",
      "metadata": {
        "id": "-mB72eearLmQ"
      },
      "source": [
        "# Data Pre-Processing"
      ]
    },
    {
      "cell_type": "code",
      "execution_count": 2,
      "metadata": {},
      "outputs": [],
      "source": [
        "np.random.seed(42)\n",
        "tf.random.set_seed(42)"
      ]
    },
    {
      "cell_type": "code",
      "execution_count": 8,
      "metadata": {
        "colab": {
          "base_uri": "https://localhost:8080/"
        },
        "id": "xWxivGf9wJrQ",
        "outputId": "2b35f11d-529a-4a65-da12-8badd06c6b47"
      },
      "outputs": [
        {
          "name": "stderr",
          "output_type": "stream",
          "text": [
            "/var/folders/bp/pzmg_4bx0kxc4_jr5p1npj1h0000gn/T/ipykernel_15245/2039990552.py:2: DtypeWarning: Columns (0) have mixed types. Specify dtype option on import or set low_memory=False.\n",
            "  df = pd.read_csv('liberman_manor_marcotti.csv')\n"
          ]
        }
      ],
      "source": [
        "# Load the dataset\n",
        "df = pd.read_csv('liberman_manor_marcotti.csv')\n",
        "\n",
        "grouped = df.groupby(['filename', 'Freq(Hz)'])\n",
        "\n",
        "# Remove rows with specific filenames\n",
        "exclude_filenames = [17, 48, 55, 71, 74, 80, 81, 91, 100, 103]\n",
        "df = grouped.filter(lambda group: group.shape[0] >= 5).reset_index(drop=True)\n",
        "df = df[~df['filename'].isin(exclude_filenames)]\n"
      ]
    },
    {
      "cell_type": "code",
      "execution_count": null,
      "metadata": {},
      "outputs": [],
      "source": [
        "# Create a unique identifier for each file-frequency combination\n",
        "df['file_freq'] = df['filename'].astype(str) + df['Freq(Hz)'].astype(str)\n",
        "unique_file_freq = df['file_freq'].unique()\n",
        "\n",
        "# Create the masks for different labs\n",
        "manor_mask = df['filename'].apply(lambda x: len(str(x)) > 9)\n",
        "marcotti_mask = df['filename'].apply(lambda x: len(str(x)) <= 3)\n",
        "liberman_mask = df['filename'].apply(lambda x: len(str(x)) > 3 and len(str(x)) < 9)\n",
        "\n",
        "# Apply the masks to split the data by lab\n",
        "manor_data = df[manor_mask]\n",
        "marcotti_data = df[marcotti_mask]\n",
        "liberman_data = df[liberman_mask]\n",
        "\n",
        "# Define a function to split data into train and test sets\n",
        "def split_data(data):\n",
        "    unique_file_freq = data['file_freq'].unique()\n",
        "    train_file_freq, test_file_freq = train_test_split(unique_file_freq, test_size=0.2, random_state=42)\n",
        "    train = data[data['file_freq'].isin(train_file_freq)]\n",
        "    test = data[data['file_freq'].isin(test_file_freq)]\n",
        "    return train, test\n",
        "\n",
        "# Split each lab's data into train and test sets\n",
        "manor_train, manor_test = split_data(manor_data)\n",
        "marcotti_train, marcotti_test = split_data(marcotti_data)\n",
        "liberman_train, liberman_test = split_data(liberman_data)\n",
        "\n",
        "# Combine the training and testing sets from all labs\n",
        "train = pd.concat([liberman_train, marcotti_train, manor_train])\n",
        "train['lab'] = train['filename'].apply(lambda x: 'manor' if len(str(x)) > 9 else ('marcotti' if len(str(x)) <= 3 else 'liberman'))\n",
        "\n",
        "# Count the number of samples for each lab in the training set\n",
        "lab_counts = train['lab'].value_counts()\n",
        "\n",
        "# Calculate the weights inversely proportional to the number of samples for each lab\n",
        "weights = {lab: 1.0 / count for lab, count in lab_counts.items()}\n",
        "\n",
        "# Assign the sample weights\n",
        "train['sample_weight'] = train['lab'].map(weights)\n",
        "\n",
        "# Prepare the sample weights for training\n",
        "sample_weights = np.array(train['sample_weight'])\n",
        "\n",
        "# Function to normalize each group by 'file_freq'\n",
        "def normalize_group(group):\n",
        "    # Drop columns that shouldn't be scaled\n",
        "    try:\n",
        "        data_to_scale = group.drop(columns=['Hearing', 'filename', 'file_freq', 'Freq(Hz)', 'Level(dB)', 'lab', 'sample_weight'])\n",
        "    except KeyError:\n",
        "        data_to_scale = group.drop(columns=['Hearing', 'filename', 'file_freq', 'Freq(Hz)', 'Level(dB)'])\n",
        "\n",
        "    # Flatten the data to scale all values across the group\n",
        "    flattened_data = data_to_scale.values.flatten().reshape(-1, 1)\n",
        "    \n",
        "    # Step 1: Standardize the data\n",
        "    scaler = StandardScaler()\n",
        "    standardized_data = scaler.fit_transform(flattened_data)\n",
        "\n",
        "    # Step 2: Apply min-max scaling\n",
        "    min_max_scaler = MinMaxScaler(feature_range=(0, 1))  # Adjust range if needed\n",
        "    scaled_data = min_max_scaler.fit_transform(standardized_data).reshape(data_to_scale.shape)\n",
        "\n",
        "    # Reshape back to the original shape and update the group\n",
        "    group[data_to_scale.columns] = scaled_data\n",
        "\n",
        "    return group\n",
        "\n",
        "# Apply normalization function to each 'file_freq' group\n",
        "train = train.groupby('file_freq').apply(normalize_group)\n",
        "\n",
        "# Separate the target variable 'Hearing' for the training set\n",
        "y_train = np.array(train['Hearing'])\n",
        "\n",
        "# Drop unnecessary columns\n",
        "X_train = train.drop(columns=['Hearing', 'filename', 'file_freq', 'Freq(Hz)', 'Level(dB)', 'lab', 'sample_weight'])\n",
        "\n",
        "test = pd.concat([liberman_test, marcotti_test, manor_test])\n",
        "# Normalize test set\n",
        "test = test.groupby('file_freq').apply(normalize_group)\n",
        "\n",
        "X_test = test.drop(columns=['Hearing', 'filename', 'file_freq', 'Freq(Hz)', 'Level(dB)'])\n",
        "\n",
        "# Separate the target variable 'Hearing' for the testing set\n",
        "y_test = np.array(test['Hearing'])\n",
        "\n",
        "# Reshape data for CNN\n",
        "X_train_cnn = np.expand_dims(X_train.values, axis=2)\n",
        "X_test_cnn = np.expand_dims(X_test.values, axis=2)"
      ]
    },
    {
      "cell_type": "code",
      "execution_count": 10,
      "metadata": {},
      "outputs": [],
      "source": [
        "# Define a function to apply noise injection\n",
        "def add_noise(data, noise_percentage=0.05):\n",
        "    # Calculate noise based on a percentage of each data point's value\n",
        "    noise = noise_percentage * data * np.random.randn(*data.shape)\n",
        "    \n",
        "    # Add the calculated noise to the original data\n",
        "    augmented_data = data + noise\n",
        "    \n",
        "    return augmented_data\n",
        "\n",
        "# Define a function to apply time warping\n",
        "def time_warp(data, sigma=0.2):\n",
        "    from scipy.interpolate import CubicSpline\n",
        "    \n",
        "    original_time_steps = np.arange(data.shape[1])\n",
        "    random_points = np.random.normal(loc=original_time_steps, scale=sigma)\n",
        "    random_points = np.sort(random_points)\n",
        "    \n",
        "    warped_data = np.zeros_like(data)\n",
        "    for i in range(data.shape[0]):\n",
        "        cs = CubicSpline(original_time_steps, data[i, :, 0])\n",
        "        warped_data[i, :, 0] = cs(random_points)\n",
        "    return warped_data\n",
        "\n",
        "# Define a function to apply scaling\n",
        "def random_scaling(data, scaling_factor_range=(0.8, 1.2)):\n",
        "    scaling_factors = np.random.uniform(scaling_factor_range[0], scaling_factor_range[1], (data.shape[0], 1))\n",
        "    scaled_data = data * scaling_factors[:, np.newaxis]\n",
        "    return scaled_data\n",
        "\n",
        "# Function to perform time shifting\n",
        "def time_shift(data, shift_max=5, noise_percentage=0.05):\n",
        "    shifted_data = np.zeros_like(data)\n",
        "    for i in range(data.shape[0]):\n",
        "        shift = np.random.randint(-shift_max, shift_max)\n",
        "        \n",
        "        # Set noise_level proportional to the first point value\n",
        "        first_point_value = data[i, 0, 0]\n",
        "        noise_level = noise_percentage * abs(first_point_value)\n",
        "        \n",
        "        if shift > 0:\n",
        "            # Shift right: fill the start with noise around the first point\n",
        "            shifted_data[i, shift:, 0] = data[i, :-shift, 0]  # Shift right\n",
        "            noise = np.random.normal(loc=first_point_value, scale=noise_level, size=shift)\n",
        "            shifted_data[i, :shift, 0] = noise\n",
        "            \n",
        "        elif shift < 0:\n",
        "            # Shift left: fill the end with noise around the first point\n",
        "            shifted_data[i, :shift, 0] = data[i, -shift:, 0]  # Shift left\n",
        "            noise = np.random.normal(loc=first_point_value, scale=noise_level, size=-shift)\n",
        "            shifted_data[i, shift:, 0] = noise\n",
        "            \n",
        "        else:\n",
        "            # No shift: keep the data unchanged\n",
        "            shifted_data[i, :, 0] = data[i, :, 0]\n",
        "            \n",
        "    return shifted_data\n",
        "\n",
        "# Example of applying augmentation to the training data\n",
        "augmented_X_train = np.copy(X_train_cnn)\n",
        "augmented_X_train = add_noise(augmented_X_train, noise_percentage=0.04)\n",
        "augmented_X_train = time_warp(augmented_X_train, sigma = 2.9)\n",
        "#augmented_X_train = random_scaling(augmented_X_train, scaling_factor_range=(0.9, 1.1))\n",
        "augmented_X_train = time_shift(augmented_X_train, shift_max=18)\n",
        "\n",
        "# You can now combine the original data with the augmented data\n",
        "X_train_cnn_augmented = np.concatenate((X_train_cnn, augmented_X_train), axis=0)\n",
        "y_train_augmented = np.concatenate((y_train, y_train), axis=0)\n",
        "\n",
        "# Adjust sample weights: repeat the original weights for the augmented data\n",
        "sample_weights = np.concatenate([sample_weights, sample_weights])\n"
      ]
    },
    {
      "cell_type": "code",
      "execution_count": 6,
      "metadata": {},
      "outputs": [
        {
          "data": {
            "image/png": "[encoded data removed]",
            "text/plain": [
              "<Figure size 1500x600 with 1 Axes>"
            ]
          },
          "metadata": {},
          "output_type": "display_data"
        }
      ],
      "source": [
        "plt.figure(figsize=(15, 6))\n",
        "\n",
        "# Iterate through each row and plot the data\n",
        "i=0\n",
        "for index, row in train.loc[:, '0':'243'].iterrows():\n",
        "    plt.plot(row, alpha=0.3)\n",
        "    i+=1\n",
        "    if i == 20:\n",
        "        break"
      ]
    },
    {
      "cell_type": "code",
      "execution_count": 7,
      "metadata": {},
      "outputs": [
        {
          "data": {
            "text/plain": [
              "(17305, 244, 1)"
            ]
          },
          "execution_count": 7,
          "metadata": {},
          "output_type": "execute_result"
        }
      ],
      "source": [
        "X_train_cnn.shape"
      ]
    },
    {
      "cell_type": "code",
      "execution_count": 8,
      "metadata": {},
      "outputs": [
        {
          "data": {
            "text/plain": [
              "(34610, 244, 1)"
            ]
          },
          "execution_count": 8,
          "metadata": {},
          "output_type": "execute_result"
        }
      ],
      "source": [
        "X_train_cnn_augmented.shape"
      ]
    },
    {
      "cell_type": "code",
      "execution_count": 9,
      "metadata": {},
      "outputs": [
        {
          "data": {
            "text/plain": [
              "17305"
            ]
          },
          "execution_count": 9,
          "metadata": {},
          "output_type": "execute_result"
        }
      ],
      "source": [
        "len(train)"
      ]
    },
    {
      "cell_type": "code",
      "execution_count": 10,
      "metadata": {},
      "outputs": [
        {
          "data": {
            "text/plain": [
              "(4371, 244)"
            ]
          },
          "execution_count": 10,
          "metadata": {},
          "output_type": "execute_result"
        }
      ],
      "source": [
        "X_test.shape"
      ]
    },
    {
      "cell_type": "markdown",
      "metadata": {
        "id": "vCcpG1UKrJg8"
      },
      "source": [
        "# Model Training"
      ]
    },
    {
      "cell_type": "code",
      "execution_count": 11,
      "metadata": {
        "colab": {
          "base_uri": "https://localhost:8080/"
        },
        "id": "183Qln8IwaiC",
        "outputId": "69dd9f8e-88d1-4e8f-fff4-721d18abd162"
      },
      "outputs": [
        {
          "name": "stdout",
          "output_type": "stream",
          "text": [
            "Epoch 1/1000\n",
            "\u001b[1m866/866\u001b[0m \u001b[32m━━━━━━━━━━━━━━━━━━━━\u001b[0m\u001b[37m\u001b[0m \u001b[1m28s\u001b[0m 27ms/step - accuracy: 0.7982 - loss: 7.1407e-05 - val_accuracy: 0.8635 - val_loss: 5.5113e-05\n",
            "Epoch 2/1000\n",
            "\u001b[1m866/866\u001b[0m \u001b[32m━━━━━━━━━━━━━━━━━━━━\u001b[0m\u001b[37m\u001b[0m \u001b[1m19s\u001b[0m 22ms/step - accuracy: 0.9057 - loss: 4.3379e-05 - val_accuracy: 0.8763 - val_loss: 5.3786e-05\n",
            "Epoch 3/1000\n",
            "\u001b[1m866/866\u001b[0m \u001b[32m━━━━━━━━━━━━━━━━━━━━\u001b[0m\u001b[37m\u001b[0m \u001b[1m23s\u001b[0m 26ms/step - accuracy: 0.9108 - loss: 3.7596e-05 - val_accuracy: 0.9042 - val_loss: 4.3169e-05\n",
            "Epoch 4/1000\n",
            "\u001b[1m866/866\u001b[0m \u001b[32m━━━━━━━━━━━━━━━━━━━━\u001b[0m\u001b[37m\u001b[0m \u001b[1m26s\u001b[0m 30ms/step - accuracy: 0.9233 - loss: 3.3855e-05 - val_accuracy: 0.9035 - val_loss: 4.4160e-05\n",
            "Epoch 5/1000\n",
            "\u001b[1m866/866\u001b[0m \u001b[32m━━━━━━━━━━━━━━━━━━━━\u001b[0m\u001b[37m\u001b[0m \u001b[1m24s\u001b[0m 28ms/step - accuracy: 0.9241 - loss: 3.0858e-05 - val_accuracy: 0.8945 - val_loss: 4.5031e-05\n",
            "Epoch 6/1000\n",
            "\u001b[1m866/866\u001b[0m \u001b[32m━━━━━━━━━━━━━━━━━━━━\u001b[0m\u001b[37m\u001b[0m \u001b[1m22s\u001b[0m 26ms/step - accuracy: 0.9324 - loss: 2.8402e-05 - val_accuracy: 0.9117 - val_loss: 4.0428e-05\n",
            "Epoch 7/1000\n",
            "\u001b[1m866/866\u001b[0m \u001b[32m━━━━━━━━━━━━━━━━━━━━\u001b[0m\u001b[37m\u001b[0m \u001b[1m23s\u001b[0m 27ms/step - accuracy: 0.9307 - loss: 2.7854e-05 - val_accuracy: 0.9100 - val_loss: 4.0131e-05\n",
            "Epoch 8/1000\n",
            "\u001b[1m866/866\u001b[0m \u001b[32m━━━━━━━━━━━━━━━━━━━━\u001b[0m\u001b[37m\u001b[0m \u001b[1m23s\u001b[0m 27ms/step - accuracy: 0.9347 - loss: 2.8372e-05 - val_accuracy: 0.9021 - val_loss: 4.2505e-05\n",
            "Epoch 9/1000\n",
            "\u001b[1m866/866\u001b[0m \u001b[32m━━━━━━━━━━━━━━━━━━━━\u001b[0m\u001b[37m\u001b[0m \u001b[1m23s\u001b[0m 27ms/step - accuracy: 0.9343 - loss: 2.7257e-05 - val_accuracy: 0.9106 - val_loss: 3.9697e-05\n",
            "Epoch 10/1000\n",
            "\u001b[1m866/866\u001b[0m \u001b[32m━━━━━━━━━━━━━━━━━━━━\u001b[0m\u001b[37m\u001b[0m \u001b[1m26s\u001b[0m 30ms/step - accuracy: 0.9354 - loss: 2.4824e-05 - val_accuracy: 0.9022 - val_loss: 4.2846e-05\n",
            "Epoch 11/1000\n",
            "\u001b[1m866/866\u001b[0m \u001b[32m━━━━━━━━━━━━━━━━━━━━\u001b[0m\u001b[37m\u001b[0m \u001b[1m25s\u001b[0m 29ms/step - accuracy: 0.9363 - loss: 2.4070e-05 - val_accuracy: 0.9165 - val_loss: 4.0290e-05\n",
            "Epoch 12/1000\n",
            "\u001b[1m866/866\u001b[0m \u001b[32m━━━━━━━━━━━━━━━━━━━━\u001b[0m\u001b[37m\u001b[0m \u001b[1m24s\u001b[0m 27ms/step - accuracy: 0.9382 - loss: 2.3506e-05 - val_accuracy: 0.9161 - val_loss: 3.7096e-05\n",
            "Epoch 13/1000\n",
            "\u001b[1m866/866\u001b[0m \u001b[32m━━━━━━━━━━━━━━━━━━━━\u001b[0m\u001b[37m\u001b[0m \u001b[1m26s\u001b[0m 30ms/step - accuracy: 0.9391 - loss: 2.2627e-05 - val_accuracy: 0.9149 - val_loss: 3.9382e-05\n",
            "Epoch 14/1000\n",
            "\u001b[1m866/866\u001b[0m \u001b[32m━━━━━━━━━━━━━━━━━━━━\u001b[0m\u001b[37m\u001b[0m \u001b[1m26s\u001b[0m 30ms/step - accuracy: 0.9384 - loss: 2.2696e-05 - val_accuracy: 0.9140 - val_loss: 3.9565e-05\n",
            "Epoch 15/1000\n",
            "\u001b[1m866/866\u001b[0m \u001b[32m━━━━━━━━━━━━━━━━━━━━\u001b[0m\u001b[37m\u001b[0m \u001b[1m23s\u001b[0m 26ms/step - accuracy: 0.9385 - loss: 2.3568e-05 - val_accuracy: 0.9164 - val_loss: 3.8433e-05\n",
            "Epoch 16/1000\n",
            "\u001b[1m866/866\u001b[0m \u001b[32m━━━━━━━━━━━━━━━━━━━━\u001b[0m\u001b[37m\u001b[0m \u001b[1m21s\u001b[0m 25ms/step - accuracy: 0.9438 - loss: 2.2167e-05 - val_accuracy: 0.9148 - val_loss: 3.8783e-05\n",
            "Epoch 17/1000\n",
            "\u001b[1m866/866\u001b[0m \u001b[32m━━━━━━━━━━━━━━━━━━━━\u001b[0m\u001b[37m\u001b[0m \u001b[1m23s\u001b[0m 27ms/step - accuracy: 0.9415 - loss: 2.2916e-05 - val_accuracy: 0.9126 - val_loss: 3.8989e-05\n",
            "Epoch 18/1000\n",
            "\u001b[1m866/866\u001b[0m \u001b[32m━━━━━━━━━━━━━━━━━━━━\u001b[0m\u001b[37m\u001b[0m \u001b[1m23s\u001b[0m 27ms/step - accuracy: 0.9412 - loss: 2.1553e-05 - val_accuracy: 0.9174 - val_loss: 3.9459e-05\n",
            "Epoch 19/1000\n",
            "\u001b[1m866/866\u001b[0m \u001b[32m━━━━━━━━━━━━━━━━━━━━\u001b[0m\u001b[37m\u001b[0m \u001b[1m23s\u001b[0m 26ms/step - accuracy: 0.9427 - loss: 2.1280e-05 - val_accuracy: 0.9166 - val_loss: 3.9047e-05\n",
            "Epoch 20/1000\n",
            "\u001b[1m866/866\u001b[0m \u001b[32m━━━━━━━━━━━━━━━━━━━━\u001b[0m\u001b[37m\u001b[0m \u001b[1m23s\u001b[0m 27ms/step - accuracy: 0.9459 - loss: 1.9867e-05 - val_accuracy: 0.9164 - val_loss: 3.7828e-05\n",
            "Epoch 21/1000\n",
            "\u001b[1m866/866\u001b[0m \u001b[32m━━━━━━━━━━━━━━━━━━━━\u001b[0m\u001b[37m\u001b[0m \u001b[1m24s\u001b[0m 28ms/step - accuracy: 0.9470 - loss: 1.9547e-05 - val_accuracy: 0.9159 - val_loss: 3.8369e-05\n",
            "Epoch 22/1000\n",
            "\u001b[1m866/866\u001b[0m \u001b[32m━━━━━━━━━━━━━━━━━━━━\u001b[0m\u001b[37m\u001b[0m \u001b[1m24s\u001b[0m 27ms/step - accuracy: 0.9455 - loss: 1.9639e-05 - val_accuracy: 0.9158 - val_loss: 3.8463e-05\n",
            "Epoch 23/1000\n",
            "\u001b[1m866/866\u001b[0m \u001b[32m━━━━━━━━━━━━━━━━━━━━\u001b[0m\u001b[37m\u001b[0m \u001b[1m24s\u001b[0m 27ms/step - accuracy: 0.9436 - loss: 1.9601e-05 - val_accuracy: 0.9146 - val_loss: 3.9196e-05\n",
            "Epoch 24/1000\n",
            "\u001b[1m866/866\u001b[0m \u001b[32m━━━━━━━━━━━━━━━━━━━━\u001b[0m\u001b[37m\u001b[0m \u001b[1m25s\u001b[0m 29ms/step - accuracy: 0.9445 - loss: 1.9134e-05 - val_accuracy: 0.9148 - val_loss: 3.8985e-05\n",
            "Epoch 25/1000\n",
            "\u001b[1m866/866\u001b[0m \u001b[32m━━━━━━━━━━━━━━━━━━━━\u001b[0m\u001b[37m\u001b[0m \u001b[1m24s\u001b[0m 28ms/step - accuracy: 0.9471 - loss: 1.9151e-05 - val_accuracy: 0.9149 - val_loss: 3.9037e-05\n",
            "Epoch 26/1000\n",
            "\u001b[1m866/866\u001b[0m \u001b[32m━━━━━━━━━━━━━━━━━━━━\u001b[0m\u001b[37m\u001b[0m \u001b[1m23s\u001b[0m 27ms/step - accuracy: 0.9463 - loss: 1.9633e-05 - val_accuracy: 0.9169 - val_loss: 3.8537e-05\n",
            "Epoch 27/1000\n",
            "\u001b[1m866/866\u001b[0m \u001b[32m━━━━━━━━━━━━━━━━━━━━\u001b[0m\u001b[37m\u001b[0m \u001b[1m24s\u001b[0m 28ms/step - accuracy: 0.9472 - loss: 1.8799e-05 - val_accuracy: 0.9164 - val_loss: 3.8818e-05\n",
            "Epoch 28/1000\n",
            "\u001b[1m866/866\u001b[0m \u001b[32m━━━━━━━━━━━━━━━━━━━━\u001b[0m\u001b[37m\u001b[0m \u001b[1m25s\u001b[0m 29ms/step - accuracy: 0.9469 - loss: 2.0586e-05 - val_accuracy: 0.9168 - val_loss: 3.9374e-05\n"
          ]
        },
        {
          "data": {
            "text/plain": [
              "<keras.src.callbacks.history.History at 0x355a89cd0>"
            ]
          },
          "execution_count": 11,
          "metadata": {},
          "output_type": "execute_result"
        }
      ],
      "source": [
        "# Define early stopping criteria\n",
        "early_stopping = EarlyStopping(monitor='val_accuracy', patience=10, restore_best_weights=True)\n",
        "\n",
        "# Define model architecture\n",
        "model = Sequential()\n",
        "model.add(Conv1D(filters=64, kernel_size=5, activation='relu'))\n",
        "model.add(MaxPooling1D(pool_size=2))\n",
        "model.add(Dropout(0.3))\n",
        "model.add(Conv1D(filters=32, kernel_size=5, activation='relu'))\n",
        "model.add(MaxPooling1D(pool_size=2))\n",
        "model.add(Dropout(0.3))\n",
        "model.add(Conv1D(filters=16, kernel_size=5, activation='relu'))\n",
        "model.add(MaxPooling1D(pool_size=2))\n",
        "model.add(Dropout(0.3))\n",
        "model.add(Flatten())\n",
        "model.add(Dense(128, activation='relu'))\n",
        "model.add(Dropout(0.5))\n",
        "model.add(Dense(1, activation='sigmoid'))\n",
        "model.compile(optimizer='adam', loss='binary_crossentropy', metrics=['accuracy'])\n",
        "\n",
        "# Fit model\n",
        "model.fit(X_train_cnn_augmented, y_train_augmented, epochs=1000, verbose=1, callbacks=[early_stopping], validation_split=0.2, sample_weight=sample_weights)\n"
      ]
    },
    {
      "cell_type": "code",
      "execution_count": 12,
      "metadata": {},
      "outputs": [
        {
          "data": {
            "text/plain": [
              "(34610, 244, 1)"
            ]
          },
          "execution_count": 12,
          "metadata": {},
          "output_type": "execute_result"
        }
      ],
      "source": [
        "X_train_cnn_augmented.shape"
      ]
    },
    {
      "cell_type": "code",
      "execution_count": 13,
      "metadata": {},
      "outputs": [
        {
          "name": "stdout",
          "output_type": "stream",
          "text": [
            "\u001b[1m137/137\u001b[0m \u001b[32m━━━━━━━━━━━━━━━━━━━━\u001b[0m\u001b[37m\u001b[0m \u001b[1m2s\u001b[0m 12ms/step - accuracy: 0.9591 - loss: 0.1203\n",
            "Accuracy: 94.67\n"
          ]
        }
      ],
      "source": [
        "# Evaluate the model on the test data and print the accuracy\n",
        "_, accuracy = model.evaluate(X_test_cnn, y_test)\n",
        "print('Accuracy: %.2f' % (accuracy*100))"
      ]
    },
    {
      "cell_type": "markdown",
      "metadata": {
        "id": "ijO8I-Fx_AU8"
      },
      "source": [
        "# Performance Metrics"
      ]
    },
    {
      "cell_type": "markdown",
      "metadata": {
        "id": "rJnMZ8cLtoa1"
      },
      "source": [
        "## Within 5/10/15 and Avg Error"
      ]
    },
    {
      "cell_type": "code",
      "execution_count": 14,
      "metadata": {},
      "outputs": [],
      "source": [
        "save_model(model, './abr_cnn_aug_norm_opt.keras')"
      ]
    },
    {
      "cell_type": "code",
      "execution_count": 3,
      "metadata": {},
      "outputs": [],
      "source": [
        "model = load_model('./abr_cnn_aug_norm_opt.keras')"
      ]
    },
    {
      "cell_type": "markdown",
      "metadata": {},
      "source": [
        "## Manor Lab Metrics"
      ]
    },
    {
      "cell_type": "code",
      "execution_count": 11,
      "metadata": {},
      "outputs": [
        {
          "name": "stdout",
          "output_type": "stream",
          "text": [
            "5318\n"
          ]
        }
      ],
      "source": [
        "mask = train['filename'].apply(lambda x: len(str(x)) > 9)\n",
        "manor_train = train[mask]\n",
        "print(len(manor_train))"
      ]
    },
    {
      "cell_type": "code",
      "execution_count": 12,
      "metadata": {},
      "outputs": [
        {
          "data": {
            "text/plain": [
              "110"
            ]
          },
          "execution_count": 12,
          "metadata": {},
          "output_type": "execute_result"
        }
      ],
      "source": [
        "len(set([s for s in manor_train['filename'].unique()]))"
      ]
    },
    {
      "cell_type": "code",
      "execution_count": 13,
      "metadata": {},
      "outputs": [
        {
          "name": "stdout",
          "output_type": "stream",
          "text": [
            "1329\n"
          ]
        }
      ],
      "source": [
        "mask = test['filename'].apply(lambda x: len(str(x)) > 9)\n",
        "manor_test = test[mask]\n",
        "print(len(manor_test))"
      ]
    },
    {
      "cell_type": "code",
      "execution_count": 14,
      "metadata": {},
      "outputs": [
        {
          "data": {
            "text/plain": [
              "73"
            ]
          },
          "execution_count": 14,
          "metadata": {},
          "output_type": "execute_result"
        }
      ],
      "source": [
        "len(set([s for s in manor_test['filename'].unique()]))"
      ]
    },
    {
      "cell_type": "code",
      "execution_count": 15,
      "metadata": {},
      "outputs": [],
      "source": [
        "X_manor_test = manor_test.drop(columns=['Hearing', 'filename', 'file_freq', 'Freq(Hz)', 'Level(dB)'])\n",
        "X_manor_test_cnn = np.expand_dims(X_manor_test.values, axis=2)\n",
        "y_manor_test = np.array(manor_test['Hearing'])"
      ]
    },
    {
      "cell_type": "code",
      "execution_count": 16,
      "metadata": {},
      "outputs": [
        {
          "name": "stdout",
          "output_type": "stream",
          "text": [
            "\u001b[1m42/42\u001b[0m \u001b[32m━━━━━━━━━━━━━━━━━━━━\u001b[0m\u001b[37m\u001b[0m \u001b[1m0s\u001b[0m 3ms/step - accuracy: 0.9120 - loss: 0.2364\n",
            "Accuracy: 90.90\n"
          ]
        }
      ],
      "source": [
        "# Evaluate the model on the test data and print the accuracy\n",
        "_, accuracy = model.evaluate(X_manor_test_cnn, y_manor_test)\n",
        "print('Accuracy: %.2f' % (accuracy*100))"
      ]
    },
    {
      "cell_type": "code",
      "execution_count": 17,
      "metadata": {},
      "outputs": [
        {
          "name": "stdout",
          "output_type": "stream",
          "text": [
            "\u001b[1m42/42\u001b[0m \u001b[32m━━━━━━━━━━━━━━━━━━━━\u001b[0m\u001b[37m\u001b[0m \u001b[1m0s\u001b[0m 4ms/step\n",
            "Within 0 db: 37.5%\n",
            "Within 5 db: 73.07692307692307%\n",
            "Within 10 db: 89.42307692307693%\n",
            "Within 15 db: 93.26923076923077%\n",
            "5.865384615384615\n",
            "0.7403924958117224\n"
          ]
        }
      ],
      "source": [
        "# Predictions\n",
        "y_pred_test = (model.predict(X_manor_test_cnn) > 0.5).astype(int)\n",
        "\n",
        "# Add predictions to test data\n",
        "test_data_with_predictions = manor_test.assign(prediction=y_pred_test)[['filename', 'prediction', 'Hearing', 'Freq(Hz)', 'Level(dB)']]\n",
        "\n",
        "# Calculate thresholds\n",
        "# Logic 1\n",
        "thresholds = []\n",
        "for (filename, freq), group in test_data_with_predictions.groupby(['filename', 'Freq(Hz)']):\n",
        "    group = group.sort_values('Level(dB)', ascending=True)\n",
        "    ground_truth_threshold = group[group['Hearing'] == 1]['Level(dB)'].min()\n",
        "    \n",
        "    lowest_db = None\n",
        "    previous_prediction = None\n",
        "\n",
        "    for i, (p, d) in enumerate(zip(group['prediction'], group['Level(dB)'])):\n",
        "        if p == 0:\n",
        "            lowest_db = d\n",
        "            previous_prediction = p\n",
        "        else:\n",
        "            if previous_prediction == 1:\n",
        "                predicted_threshold = lowest_db\n",
        "                break  # Break if two consecutive `1`s are encountered\n",
        "            lowest_db = d\n",
        "            previous_prediction = p\n",
        "\n",
        "    thresholds.append({\n",
        "        'filename': filename,\n",
        "        'Freq(Hz)': freq,\n",
        "        'predicted_threshold': predicted_threshold,\n",
        "        'ground_truth_threshold': ground_truth_threshold,\n",
        "        'Lab': 'Manor',\n",
        "        'Logic': 'Robust Bottom-Up'\n",
        "    })\n",
        "\n",
        "# Prepare thresholds dataframe\n",
        "thresholds = pd.DataFrame(thresholds)\n",
        "thresholds['diff'] = np.abs(thresholds['predicted_threshold'] - thresholds['ground_truth_threshold'])\n",
        "\n",
        "# Calculate percentages\n",
        "within_db_percentages = {db: (thresholds['diff'] <= db).mean() * 100 for db in [0, 5, 10, 15]}\n",
        "for db, percentage in within_db_percentages.items():\n",
        "    print(f'Within {db} db: {percentage}%')\n",
        "\n",
        "# Print mean difference\n",
        "print(thresholds['diff'].mean())\n",
        "print(thresholds['diff'].std()/np.sqrt(len(thresholds)))\n"
      ]
    },
    {
      "cell_type": "code",
      "execution_count": 18,
      "metadata": {},
      "outputs": [
        {
          "name": "stdout",
          "output_type": "stream",
          "text": [
            "\u001b[1m42/42\u001b[0m \u001b[32m━━━━━━━━━━━━━━━━━━━━\u001b[0m\u001b[37m\u001b[0m \u001b[1m0s\u001b[0m 2ms/step\n",
            "Within 0 db: 38.46153846153847%\n",
            "Within 5 db: 75.0%\n",
            "Within 10 db: 91.34615384615384%\n",
            "Within 15 db: 95.1923076923077%\n",
            "4.711538461538462\n",
            "0.5012443583912899\n"
          ]
        }
      ],
      "source": [
        "# Predictions\n",
        "y_pred_test = (model.predict(X_manor_test_cnn) > 0.5).astype(int)\n",
        "\n",
        "# Add predictions to test data\n",
        "test_data_with_predictions = manor_test.assign(prediction=y_pred_test)[['filename', 'prediction', 'Hearing', 'Freq(Hz)', 'Level(dB)']]\n",
        "\n",
        "# Calculate thresholds\n",
        "# Logic 2\n",
        "new_thresholds = []\n",
        "for (filename, freq), group in test_data_with_predictions.groupby(['filename', 'Freq(Hz)']):\n",
        "    group = group.sort_values('Level(dB)', ascending=False)\n",
        "    ground_truth_threshold = group[group['Hearing'] == 1]['Level(dB)'].min()\n",
        "    \n",
        "    lowest_db = np.max(group['Level(dB)'])\n",
        "    previous_prediction = None\n",
        "\n",
        "    for i, (p, d) in enumerate(zip(group['prediction'], group['Level(dB)'])):\n",
        "        if p == 0:\n",
        "            predicted_threshold = lowest_db\n",
        "            break\n",
        "        else:\n",
        "            lowest_db = d\n",
        "            previous_prediction = p\n",
        "    predicted_threshold = lowest_db\n",
        "\n",
        "    new_thresholds.append({\n",
        "        'filename': filename,\n",
        "        'Freq(Hz)': freq,\n",
        "        'predicted_threshold': predicted_threshold,\n",
        "        'ground_truth_threshold': ground_truth_threshold,\n",
        "        'Lab': 'Manor',\n",
        "        'Logic': 'Naive Top-Down'\n",
        "    })\n",
        "\n",
        "# Prepare thresholds dataframe\n",
        "new_thresholds = pd.DataFrame(new_thresholds)\n",
        "new_thresholds['diff'] = np.abs(new_thresholds['predicted_threshold'] - new_thresholds['ground_truth_threshold'])\n",
        "thresholds = pd.concat([thresholds, new_thresholds])\n",
        "\n",
        "# Calculate percentages\n",
        "within_db_percentages = {db: (thresholds['diff'] <= db).mean() * 100 for db in [0, 5, 10, 15]}\n",
        "for db, percentage in within_db_percentages.items():\n",
        "    print(f'Within {db} db: {percentage}%')\n",
        "\n",
        "# Print mean difference\n",
        "print(new_thresholds['diff'].mean())\n",
        "print(new_thresholds['diff'].std()/np.sqrt(len(new_thresholds)))"
      ]
    },
    {
      "cell_type": "code",
      "execution_count": 19,
      "metadata": {},
      "outputs": [
        {
          "name": "stdout",
          "output_type": "stream",
          "text": [
            "Within 0 db: 36.858974358974365%\n",
            "Within 5 db: 73.07692307692307%\n",
            "Within 10 db: 90.7051282051282%\n",
            "Within 15 db: 94.55128205128204%\n",
            "5.970873786407767\n",
            "0.6728768506653461\n"
          ]
        }
      ],
      "source": [
        "# Calculate thresholds\n",
        "# Logic 3: Naive Bottom-Up\n",
        "new_thresholds = []\n",
        "for (filename, freq), group in test_data_with_predictions.groupby(['filename', 'Freq(Hz)']):\n",
        "    group = group.sort_values('Level(dB)', ascending=True)\n",
        "    ground_truth_threshold = group[group['Hearing'] == 1]['Level(dB)'].min()\n",
        "    \n",
        "    lowest_db = None\n",
        "    for i, (p, d) in enumerate(zip(group['prediction'], group['Level(dB)'])):\n",
        "        if p == 1:\n",
        "            lowest_db = d\n",
        "            break  # Stop as soon as we find the first `1`\n",
        "\n",
        "    new_thresholds.append({\n",
        "        'filename': filename,\n",
        "        'Freq(Hz)': freq,\n",
        "        'predicted_threshold': lowest_db,\n",
        "        'ground_truth_threshold': ground_truth_threshold,\n",
        "        'Lab': 'Manor',\n",
        "        'Logic': 'Naive Bottom-Up'\n",
        "    })\n",
        "\n",
        "# Prepare thresholds dataframe\n",
        "new_thresholds = pd.DataFrame(new_thresholds)\n",
        "new_thresholds['diff'] = np.abs(new_thresholds['predicted_threshold'] - new_thresholds['ground_truth_threshold'])\n",
        "thresholds = pd.concat([thresholds, new_thresholds])\n",
        "\n",
        "# Calculate percentages\n",
        "within_db_percentages = {db: (thresholds['diff'] <= db).mean() * 100 for db in [0, 5, 10, 15]}\n",
        "for db, percentage in within_db_percentages.items():\n",
        "    print(f'Within {db} db: {percentage}%')\n",
        "\n",
        "# Print mean difference\n",
        "print(new_thresholds['diff'].mean())\n",
        "print(new_thresholds['diff'].std()/np.sqrt(len(new_thresholds)))"
      ]
    },
    {
      "cell_type": "code",
      "execution_count": 20,
      "metadata": {},
      "outputs": [
        {
          "name": "stdout",
          "output_type": "stream",
          "text": [
            "Within 0 db: 28.60576923076923%\n",
            "Within 5 db: 57.692307692307686%\n",
            "Within 10 db: 73.07692307692307%\n",
            "Within 15 db: 78.60576923076923%\n",
            "29.326923076923077\n",
            "1.7378857509737793\n"
          ]
        }
      ],
      "source": [
        "# Calculate thresholds\n",
        "# Logic 4: Robust Top-Down\n",
        "new_thresholds = []\n",
        "for (filename, freq), group in test_data_with_predictions.groupby(['filename', 'Freq(Hz)']):\n",
        "    group = group.sort_values('Level(dB)', ascending=False)\n",
        "    ground_truth_threshold = group[group['Hearing'] == 1]['Level(dB)'].min()\n",
        "    \n",
        "    lowest_db = np.max(group['Level(dB)'])\n",
        "    previous_prediction = None\n",
        "\n",
        "    for i, (p, d) in enumerate(zip(group['prediction'], group['Level(dB)'])):\n",
        "        if p == 1:\n",
        "            if previous_prediction == 1:\n",
        "                lowest_db = d\n",
        "                break  # Stop only when two consecutive `1`s are found\n",
        "            previous_prediction = p\n",
        "        else:\n",
        "            previous_prediction = p\n",
        "\n",
        "    new_thresholds.append({\n",
        "        'filename': filename,\n",
        "        'Freq(Hz)': freq,\n",
        "        'predicted_threshold': lowest_db,\n",
        "        'ground_truth_threshold': ground_truth_threshold,\n",
        "        'Lab': 'Manor',\n",
        "        'Logic': 'Robust Top-Down'\n",
        "    })\n",
        "\n",
        "# Prepare thresholds dataframe\n",
        "new_thresholds = pd.DataFrame(new_thresholds)\n",
        "new_thresholds['diff'] = np.abs(new_thresholds['predicted_threshold'] - new_thresholds['ground_truth_threshold'])\n",
        "thresholds = pd.concat([thresholds, new_thresholds])\n",
        "\n",
        "# Calculate percentages\n",
        "within_db_percentages = {db: (thresholds['diff'] <= db).mean() * 100 for db in [0, 5, 10, 15]}\n",
        "for db, percentage in within_db_percentages.items():\n",
        "    print(f'Within {db} db: {percentage}%')\n",
        "\n",
        "# Print mean difference\n",
        "print(new_thresholds['diff'].mean())\n",
        "print(new_thresholds['diff'].std()/np.sqrt(len(new_thresholds)))"
      ]
    },
    {
      "cell_type": "code",
      "execution_count": 21,
      "metadata": {},
      "outputs": [
        {
          "data": {
            "text/plain": [
              "104"
            ]
          },
          "execution_count": 21,
          "metadata": {},
          "output_type": "execute_result"
        }
      ],
      "source": [
        "len(test_data_with_predictions.groupby(['filename', 'Freq(Hz)']))"
      ]
    },
    {
      "cell_type": "code",
      "execution_count": 22,
      "metadata": {},
      "outputs": [
        {
          "name": "stdout",
          "output_type": "stream",
          "text": [
            "True Positive Rate (TPR): 0.9089805825242718\n",
            "False Positive Rate (FPR): 0.09108910891089109\n"
          ]
        }
      ],
      "source": [
        "#TPR/FRR METRICS\n",
        "\n",
        "df = test_data_with_predictions\n",
        "tn, fp, fn, tp = confusion_matrix(df['Hearing'], df['prediction']).ravel()\n",
        "tpr = tp / (tp + fn)\n",
        "fpr = fp / (fp + tn)\n",
        "print(f\"True Positive Rate (TPR): {tpr}\")\n",
        "print(f\"False Positive Rate (FPR): {fpr}\")\n"
      ]
    },
    {
      "cell_type": "code",
      "execution_count": 23,
      "metadata": {},
      "outputs": [
        {
          "name": "stdout",
          "output_type": "stream",
          "text": [
            "AUC-ROC: 0.9089457368066904\n",
            "AUC-PR: 0.9128188882139532\n"
          ]
        }
      ],
      "source": [
        "# AUCROC/AUCPR\n",
        "from sklearn.metrics import roc_auc_score, average_precision_score\n",
        "df = test_data_with_predictions\n",
        "auc_roc = roc_auc_score(df['Hearing'], df['prediction'])\n",
        "auc_pr = average_precision_score(df['Hearing'], df['prediction'])\n",
        "print(f\"AUC-ROC: {auc_roc}\")\n",
        "print(f\"AUC-PR: {auc_pr}\")\n"
      ]
    },
    {
      "cell_type": "code",
      "execution_count": 24,
      "metadata": {},
      "outputs": [
        {
          "data": {
            "text/plain": [
              "1329"
            ]
          },
          "execution_count": 24,
          "metadata": {},
          "output_type": "execute_result"
        }
      ],
      "source": [
        "len(manor_test)"
      ]
    },
    {
      "cell_type": "markdown",
      "metadata": {},
      "source": [
        "## Marcotti Lab Metrics"
      ]
    },
    {
      "cell_type": "code",
      "execution_count": 25,
      "metadata": {},
      "outputs": [
        {
          "name": "stdout",
          "output_type": "stream",
          "text": [
            "11698\n"
          ]
        }
      ],
      "source": [
        "mask = train['filename'].apply(lambda x: len(str(x)) <= 3)\n",
        "marcotti_train = train[mask]\n",
        "print(len(marcotti_train))"
      ]
    },
    {
      "cell_type": "code",
      "execution_count": 26,
      "metadata": {},
      "outputs": [
        {
          "data": {
            "text/plain": [
              "94"
            ]
          },
          "execution_count": 26,
          "metadata": {},
          "output_type": "execute_result"
        }
      ],
      "source": [
        "len(set([str(s).split()[0] for s in marcotti_train['filename'].unique()]))"
      ]
    },
    {
      "cell_type": "code",
      "execution_count": 27,
      "metadata": {},
      "outputs": [
        {
          "name": "stdout",
          "output_type": "stream",
          "text": [
            "2966\n"
          ]
        }
      ],
      "source": [
        "mask = test['filename'].apply(lambda x: len(str(x)) <= 3)\n",
        "marcotti_test = test[mask]\n",
        "print(len(marcotti_test))"
      ]
    },
    {
      "cell_type": "code",
      "execution_count": 28,
      "metadata": {},
      "outputs": [
        {
          "data": {
            "text/plain": [
              "85"
            ]
          },
          "execution_count": 28,
          "metadata": {},
          "output_type": "execute_result"
        }
      ],
      "source": [
        "len(set([str(s).split()[0] for s in marcotti_test['filename'].unique()]))"
      ]
    },
    {
      "cell_type": "code",
      "execution_count": 29,
      "metadata": {},
      "outputs": [],
      "source": [
        "X_marcotti_test = marcotti_test.drop(columns=['Hearing', 'filename', 'file_freq', 'Freq(Hz)', 'Level(dB)'])\n",
        "X_marcotti_test_cnn = np.expand_dims(X_marcotti_test.values, axis=2)\n",
        "y_marcotti_test = np.array(marcotti_test['Hearing'])"
      ]
    },
    {
      "cell_type": "code",
      "execution_count": 30,
      "metadata": {},
      "outputs": [
        {
          "name": "stdout",
          "output_type": "stream",
          "text": [
            "\u001b[1m93/93\u001b[0m \u001b[32m━━━━━━━━━━━━━━━━━━━━\u001b[0m\u001b[37m\u001b[0m \u001b[1m0s\u001b[0m 3ms/step - accuracy: 0.9613 - loss: 0.1122\n",
            "Accuracy: 96.43\n"
          ]
        }
      ],
      "source": [
        "# Evaluate the model on the test data and print the accuracy\n",
        "_, accuracy = model.evaluate(X_marcotti_test_cnn, y_marcotti_test)\n",
        "print('Accuracy: %.2f' % (accuracy*100))"
      ]
    },
    {
      "cell_type": "code",
      "execution_count": 31,
      "metadata": {},
      "outputs": [
        {
          "name": "stdout",
          "output_type": "stream",
          "text": [
            "\u001b[1m93/93\u001b[0m \u001b[32m━━━━━━━━━━━━━━━━━━━━\u001b[0m\u001b[37m\u001b[0m \u001b[1m0s\u001b[0m 2ms/step\n",
            "Within 0 db: 36.734693877551024%\n",
            "Within 5 db: 67.85714285714286%\n",
            "Within 10 db: 79.93197278911565%\n",
            "Within 15 db: 84.35374149659864%\n",
            "3.0813953488372094\n",
            "0.4634345019974803\n"
          ]
        }
      ],
      "source": [
        "# Predictions\n",
        "y_pred_test = (model.predict(X_marcotti_test_cnn) > 0.5).astype(int)\n",
        "\n",
        "# Add predictions to test data\n",
        "test_data_with_predictions = marcotti_test.assign(prediction=y_pred_test)[['filename', 'prediction', 'Hearing', 'Freq(Hz)', 'Level(dB)']]\n",
        "\n",
        "# Calculate thresholds\n",
        "# Logic 1\n",
        "new_thresholds = []\n",
        "for (filename, freq), group in test_data_with_predictions.groupby(['filename', 'Freq(Hz)']):\n",
        "    group = group.sort_values('Level(dB)', ascending=True)\n",
        "    ground_truth_threshold = group[group['Hearing'] == 1]['Level(dB)'].min()\n",
        "    \n",
        "    lowest_db = None\n",
        "    previous_prediction = None\n",
        "\n",
        "    for i, (p, d) in enumerate(zip(group['prediction'], group['Level(dB)'])):\n",
        "        if p == 0:\n",
        "            lowest_db = d\n",
        "            previous_prediction = p\n",
        "        else:\n",
        "            if previous_prediction == 1:\n",
        "                predicted_threshold = lowest_db\n",
        "                break  # Break if two consecutive `1`s are encountered\n",
        "            lowest_db = d\n",
        "            previous_prediction = p\n",
        "\n",
        "    new_thresholds.append({\n",
        "        'filename': filename,\n",
        "        'Freq(Hz)': freq,\n",
        "        'predicted_threshold': predicted_threshold,\n",
        "        'ground_truth_threshold': ground_truth_threshold,\n",
        "        'Lab': 'Marcotti',\n",
        "        'Logic': 'Robust Bottom-Up'\n",
        "    })\n",
        "\n",
        "# Prepare thresholds dataframe\n",
        "new_thresholds = pd.DataFrame(new_thresholds)\n",
        "new_thresholds['diff'] = np.abs(new_thresholds['predicted_threshold'] - new_thresholds['ground_truth_threshold'])\n",
        "thresholds = pd.concat([thresholds, new_thresholds])\n",
        "\n",
        "# Calculate percentages\n",
        "within_db_percentages = {db: (thresholds['diff'] <= db).mean() * 100 for db in [0, 5, 10, 15]}\n",
        "for db, percentage in within_db_percentages.items():\n",
        "    print(f'Within {db} db: {percentage}%')\n",
        "\n",
        "# Print mean difference\n",
        "print(new_thresholds['diff'].mean())\n",
        "print(new_thresholds['diff'].std()/np.sqrt(len(new_thresholds)))"
      ]
    },
    {
      "cell_type": "code",
      "execution_count": 32,
      "metadata": {},
      "outputs": [
        {
          "data": {
            "text/plain": [
              "172"
            ]
          },
          "execution_count": 32,
          "metadata": {},
          "output_type": "execute_result"
        }
      ],
      "source": [
        "len(test_data_with_predictions.groupby(['filename', 'Freq(Hz)']))"
      ]
    },
    {
      "cell_type": "code",
      "execution_count": 33,
      "metadata": {},
      "outputs": [
        {
          "name": "stdout",
          "output_type": "stream",
          "text": [
            "\u001b[1m93/93\u001b[0m \u001b[32m━━━━━━━━━━━━━━━━━━━━\u001b[0m\u001b[37m\u001b[0m \u001b[1m0s\u001b[0m 2ms/step\n",
            "Within 0 db: 40.921052631578945%\n",
            "Within 5 db: 72.5%\n",
            "Within 10 db: 82.89473684210526%\n",
            "Within 15 db: 86.8421052631579%\n",
            "3.7209302325581395\n",
            "0.4954095222084219\n"
          ]
        }
      ],
      "source": [
        "# Predictions\n",
        "y_pred_test = (model.predict(X_marcotti_test_cnn) > 0.5).astype(int)\n",
        "\n",
        "# Add predictions to test data\n",
        "test_data_with_predictions = marcotti_test.assign(prediction=y_pred_test)[['filename', 'prediction', 'Hearing', 'Freq(Hz)', 'Level(dB)']]\n",
        "\n",
        "# Calculate thresholds\n",
        "# Logic 2\n",
        "new_thresholds = []\n",
        "for (filename, freq), group in test_data_with_predictions.groupby(['filename', 'Freq(Hz)']):\n",
        "    group = group.sort_values('Level(dB)', ascending=False)\n",
        "    ground_truth_threshold = group[group['Hearing'] == 1]['Level(dB)'].min()\n",
        "    \n",
        "    lowest_db = np.max(group['Level(dB)'])\n",
        "    previous_prediction = None\n",
        "\n",
        "    for i, (p, d) in enumerate(zip(group['prediction'], group['Level(dB)'])):\n",
        "        if p == 0:\n",
        "            predicted_threshold = lowest_db\n",
        "            break\n",
        "        else:\n",
        "            lowest_db = d\n",
        "            previous_prediction = p\n",
        "\n",
        "    new_thresholds.append({\n",
        "        'filename': filename,\n",
        "        'Freq(Hz)': freq,\n",
        "        'predicted_threshold': predicted_threshold,\n",
        "        'ground_truth_threshold': ground_truth_threshold,\n",
        "        'Lab': 'Marcotti',\n",
        "        'Logic': 'Naive Top-Down'\n",
        "    })\n",
        "\n",
        "# Prepare thresholds dataframe\n",
        "new_thresholds = pd.DataFrame(new_thresholds)\n",
        "new_thresholds['diff'] = np.abs(new_thresholds['predicted_threshold'] - new_thresholds['ground_truth_threshold'])\n",
        "thresholds = pd.concat([thresholds, new_thresholds])\n",
        "\n",
        "# Calculate percentages\n",
        "within_db_percentages = {db: (thresholds['diff'] <= db).mean() * 100 for db in [0, 5, 10, 15]}\n",
        "for db, percentage in within_db_percentages.items():\n",
        "    print(f'Within {db} db: {percentage}%')\n",
        "\n",
        "# Print mean difference\n",
        "print(new_thresholds['diff'].mean())\n",
        "print(new_thresholds['diff'].std()/np.sqrt(len(new_thresholds)))"
      ]
    },
    {
      "cell_type": "code",
      "execution_count": 34,
      "metadata": {},
      "outputs": [
        {
          "name": "stdout",
          "output_type": "stream",
          "text": [
            "Within 0 db: 43.13304721030043%\n",
            "Within 5 db: 75.0%\n",
            "Within 10 db: 84.76394849785407%\n",
            "Within 15 db: 88.62660944206009%\n",
            "3.888888888888889\n",
            "0.5275867447328585\n",
            "Within 0 db: 36.5036231884058%\n",
            "Within 5 db: 63.677536231884055%\n",
            "Within 10 db: 72.19202898550725%\n",
            "Within 15 db: 75.81521739130434%\n",
            "49.68023255813954\n",
            "1.275593594281336\n"
          ]
        }
      ],
      "source": [
        "# Calculate thresholds\n",
        "# Logic 3: Naive Bottom-Up\n",
        "new_thresholds = []\n",
        "for (filename, freq), group in test_data_with_predictions.groupby(['filename', 'Freq(Hz)']):\n",
        "    group = group.sort_values('Level(dB)', ascending=True)\n",
        "    ground_truth_threshold = group[group['Hearing'] == 1]['Level(dB)'].min()\n",
        "    \n",
        "    lowest_db = None\n",
        "    for i, (p, d) in enumerate(zip(group['prediction'], group['Level(dB)'])):\n",
        "        if p == 1:\n",
        "            lowest_db = d\n",
        "            break  # Stop as soon as we find the first `1`\n",
        "\n",
        "    new_thresholds.append({\n",
        "        'filename': filename,\n",
        "        'Freq(Hz)': freq,\n",
        "        'predicted_threshold': lowest_db,\n",
        "        'ground_truth_threshold': ground_truth_threshold,\n",
        "        'Lab': 'Marcotti',\n",
        "        'Logic': 'Naive Bottom-Up'\n",
        "    })\n",
        "\n",
        "# Prepare thresholds dataframe\n",
        "new_thresholds = pd.DataFrame(new_thresholds)\n",
        "new_thresholds['diff'] = np.abs(new_thresholds['predicted_threshold'] - new_thresholds['ground_truth_threshold'])\n",
        "thresholds = pd.concat([thresholds, new_thresholds])\n",
        "\n",
        "# Calculate percentages\n",
        "within_db_percentages = {db: (thresholds['diff'] <= db).mean() * 100 for db in [0, 5, 10, 15]}\n",
        "for db, percentage in within_db_percentages.items():\n",
        "    print(f'Within {db} db: {percentage}%')\n",
        "\n",
        "# Print mean difference\n",
        "print(new_thresholds['diff'].mean())\n",
        "print(new_thresholds['diff'].std()/np.sqrt(len(new_thresholds)))\n",
        "# Calculate thresholds\n",
        "# Logic 4: Robust Top-Down\n",
        "new_thresholds = []\n",
        "for (filename, freq), group in test_data_with_predictions.groupby(['filename', 'Freq(Hz)']):\n",
        "    group = group.sort_values('Level(dB)', ascending=False)\n",
        "    ground_truth_threshold = group[group['Hearing'] == 1]['Level(dB)'].min()\n",
        "    \n",
        "    lowest_db = np.max(group['Level(dB)'])\n",
        "    previous_prediction = None\n",
        "\n",
        "    for i, (p, d) in enumerate(zip(group['prediction'], group['Level(dB)'])):\n",
        "        if p == 1:\n",
        "            if previous_prediction == 1:\n",
        "                lowest_db = d\n",
        "                break  # Stop only when two consecutive `1`s are found\n",
        "            previous_prediction = p\n",
        "        else:\n",
        "            previous_prediction = p\n",
        "\n",
        "    new_thresholds.append({\n",
        "        'filename': filename,\n",
        "        'Freq(Hz)': freq,\n",
        "        'predicted_threshold': lowest_db,\n",
        "        'ground_truth_threshold': ground_truth_threshold,\n",
        "        'Lab': 'Marcotti',\n",
        "        'Logic': 'Robust Top-Down'\n",
        "    })\n",
        "\n",
        "# Prepare thresholds dataframe\n",
        "new_thresholds = pd.DataFrame(new_thresholds)\n",
        "new_thresholds['diff'] = np.abs(new_thresholds['predicted_threshold'] - new_thresholds['ground_truth_threshold'])\n",
        "thresholds = pd.concat([thresholds, new_thresholds])\n",
        "\n",
        "# Calculate percentages\n",
        "within_db_percentages = {db: (thresholds['diff'] <= db).mean() * 100 for db in [0, 5, 10, 15]}\n",
        "for db, percentage in within_db_percentages.items():\n",
        "    print(f'Within {db} db: {percentage}%')\n",
        "\n",
        "# Print mean difference\n",
        "print(new_thresholds['diff'].mean())\n",
        "print(new_thresholds['diff'].std()/np.sqrt(len(new_thresholds)))"
      ]
    },
    {
      "cell_type": "code",
      "execution_count": 35,
      "metadata": {},
      "outputs": [
        {
          "name": "stdout",
          "output_type": "stream",
          "text": [
            "True Positive Rate (TPR): 0.9878108239882983\n",
            "False Positive Rate (FPR): 0.08852459016393442\n"
          ]
        }
      ],
      "source": [
        "#TPR/FRR METRICS\n",
        "\n",
        "df = test_data_with_predictions\n",
        "tn, fp, fn, tp = confusion_matrix(df['Hearing'], df['prediction']).ravel()\n",
        "tpr = tp / (tp + fn)\n",
        "fpr = fp / (fp + tn)\n",
        "print(f\"True Positive Rate (TPR): {tpr}\")\n",
        "print(f\"False Positive Rate (FPR): {fpr}\")\n"
      ]
    },
    {
      "cell_type": "code",
      "execution_count": 36,
      "metadata": {},
      "outputs": [
        {
          "name": "stdout",
          "output_type": "stream",
          "text": [
            "AUC-ROC: 0.949643116912182\n",
            "AUC-PR: 0.9582649920745938\n"
          ]
        }
      ],
      "source": [
        "# AUCROC/AUCPR\n",
        "from sklearn.metrics import roc_auc_score, average_precision_score\n",
        "df = test_data_with_predictions\n",
        "auc_roc = roc_auc_score(df['Hearing'], df['prediction'])\n",
        "auc_pr = average_precision_score(df['Hearing'], df['prediction'])\n",
        "print(f\"AUC-ROC: {auc_roc}\")\n",
        "print(f\"AUC-PR: {auc_pr}\")\n"
      ]
    },
    {
      "cell_type": "markdown",
      "metadata": {},
      "source": [
        "## Liberman Lab Metrics"
      ]
    },
    {
      "cell_type": "code",
      "execution_count": 37,
      "metadata": {},
      "outputs": [
        {
          "name": "stdout",
          "output_type": "stream",
          "text": [
            "289\n"
          ]
        }
      ],
      "source": [
        "mask = train['filename'].apply(lambda x: len(str(x)) > 3 and len(str(x)) < 9)\n",
        "liberman_train = train[mask]\n",
        "print(len(liberman_train))"
      ]
    },
    {
      "cell_type": "code",
      "execution_count": 38,
      "metadata": {},
      "outputs": [
        {
          "data": {
            "text/plain": [
              "6"
            ]
          },
          "execution_count": 38,
          "metadata": {},
          "output_type": "execute_result"
        }
      ],
      "source": [
        "len(set([s.split()[0] for s in liberman_train['filename'].unique()]))"
      ]
    },
    {
      "cell_type": "code",
      "execution_count": 39,
      "metadata": {},
      "outputs": [
        {
          "name": "stdout",
          "output_type": "stream",
          "text": [
            "76\n"
          ]
        }
      ],
      "source": [
        "mask = test['filename'].apply(lambda x: len(str(x)) > 3 and len(str(x)) < 9)\n",
        "liberman_test = test[mask]\n",
        "print(len(liberman_test))"
      ]
    },
    {
      "cell_type": "code",
      "execution_count": 40,
      "metadata": {},
      "outputs": [
        {
          "data": {
            "text/plain": [
              "4"
            ]
          },
          "execution_count": 40,
          "metadata": {},
          "output_type": "execute_result"
        }
      ],
      "source": [
        "len(set([s.split()[0] for s in liberman_test['filename'].unique()]))"
      ]
    },
    {
      "cell_type": "code",
      "execution_count": 41,
      "metadata": {},
      "outputs": [],
      "source": [
        "X_liberman_test = liberman_test.drop(columns=['Hearing', 'filename', 'file_freq', 'Freq(Hz)', 'Level(dB)'])\n",
        "X_liberman_test_cnn = np.expand_dims(X_liberman_test.values, axis=2)\n",
        "y_liberman_test = np.array(liberman_test['Hearing'])"
      ]
    },
    {
      "cell_type": "code",
      "execution_count": 42,
      "metadata": {},
      "outputs": [
        {
          "name": "stdout",
          "output_type": "stream",
          "text": [
            "\u001b[1m3/3\u001b[0m \u001b[32m━━━━━━━━━━━━━━━━━━━━\u001b[0m\u001b[37m\u001b[0m \u001b[1m0s\u001b[0m 3ms/step - accuracy: 0.9058 - loss: 0.3065 \n",
            "Accuracy: 92.11\n"
          ]
        }
      ],
      "source": [
        "# Evaluate the model on the test data and print the accuracy\n",
        "_, accuracy = model.evaluate(X_liberman_test_cnn, y_liberman_test)\n",
        "print('Accuracy: %.2f' % (accuracy*100))"
      ]
    },
    {
      "cell_type": "code",
      "execution_count": 43,
      "metadata": {},
      "outputs": [
        {
          "name": "stdout",
          "output_type": "stream",
          "text": [
            "\u001b[1m3/3\u001b[0m \u001b[32m━━━━━━━━━━━━━━━━━━━━\u001b[0m\u001b[37m\u001b[0m \u001b[1m0s\u001b[0m 3ms/step \n",
            "Within 0 db: 36.45364536453645%\n",
            "Within 5 db: 63.72637263726373%\n",
            "Within 10 db: 72.27722772277228%\n",
            "Within 15 db: 75.87758775877587%\n",
            "9.285714285714286\n",
            "5.28120786019496\n"
          ]
        }
      ],
      "source": [
        "# Predictions\n",
        "y_pred_test = (model.predict(X_liberman_test_cnn) > 0.5).astype(int)\n",
        "\n",
        "# Add predictions to test data\n",
        "test_data_with_predictions = liberman_test.assign(prediction=y_pred_test)[['filename', 'prediction', 'Hearing', 'Freq(Hz)', 'Level(dB)']]\n",
        "\n",
        "# Calculate thresholds\n",
        "# Logic 1\n",
        "new_thresholds = []\n",
        "for (filename, freq), group in test_data_with_predictions.groupby(['filename', 'Freq(Hz)']):\n",
        "    group = group.sort_values('Level(dB)', ascending=True)\n",
        "    ground_truth_threshold = group[group['Hearing'] == 1]['Level(dB)'].min()\n",
        "    \n",
        "    lowest_db = None\n",
        "    previous_prediction = None\n",
        "\n",
        "    for i, (p, d) in enumerate(zip(group['prediction'], group['Level(dB)'])):\n",
        "        if p == 0:\n",
        "            lowest_db = d\n",
        "            previous_prediction = p\n",
        "        else:\n",
        "            if previous_prediction == 1:\n",
        "                predicted_threshold = lowest_db\n",
        "                break  # Break if two consecutive `1`s are encountered\n",
        "            lowest_db = d\n",
        "            previous_prediction = p\n",
        "\n",
        "    new_thresholds.append({\n",
        "        'filename': filename,\n",
        "        'Freq(Hz)': freq,\n",
        "        'predicted_threshold': predicted_threshold,\n",
        "        'ground_truth_threshold': ground_truth_threshold,\n",
        "        'Lab': 'Liberman',\n",
        "        'Logic': 'Robust Bottom-Up'\n",
        "    })\n",
        "\n",
        "# Prepare thresholds dataframe\n",
        "new_thresholds = pd.DataFrame(new_thresholds)\n",
        "new_thresholds['diff'] = np.abs(new_thresholds['predicted_threshold'] - new_thresholds['ground_truth_threshold'])\n",
        "thresholds = pd.concat([thresholds, new_thresholds])\n",
        "\n",
        "# Calculate percentages\n",
        "within_db_percentages = {db: (thresholds['diff'] <= db).mean() * 100 for db in [0, 5, 10, 15]}\n",
        "for db, percentage in within_db_percentages.items():\n",
        "    print(f'Within {db} db: {percentage}%')\n",
        "\n",
        "# Print mean difference\n",
        "print(new_thresholds['diff'].mean())\n",
        "print(new_thresholds['diff'].std()/np.sqrt(len(new_thresholds)))\n"
      ]
    },
    {
      "cell_type": "code",
      "execution_count": 44,
      "metadata": {},
      "outputs": [
        {
          "data": {
            "text/html": [
              "<div>\n",
              "<style scoped>\n",
              "    .dataframe tbody tr th:only-of-type {\n",
              "        vertical-align: middle;\n",
              "    }\n",
              "\n",
              "    .dataframe tbody tr th {\n",
              "        vertical-align: top;\n",
              "    }\n",
              "\n",
              "    .dataframe thead th {\n",
              "        text-align: right;\n",
              "    }\n",
              "</style>\n",
              "<table border=\"1\" class=\"dataframe\">\n",
              "  <thead>\n",
              "    <tr style=\"text-align: right;\">\n",
              "      <th></th>\n",
              "      <th>filename</th>\n",
              "      <th>Freq(Hz)</th>\n",
              "      <th>predicted_threshold</th>\n",
              "      <th>ground_truth_threshold</th>\n",
              "      <th>Lab</th>\n",
              "      <th>Logic</th>\n",
              "      <th>diff</th>\n",
              "    </tr>\n",
              "  </thead>\n",
              "  <tbody>\n",
              "    <tr>\n",
              "      <th>0</th>\n",
              "      <td>A1_1293_tone 24h PSI</td>\n",
              "      <td>16000.0</td>\n",
              "      <td>25.0</td>\n",
              "      <td>35.0</td>\n",
              "      <td>Manor</td>\n",
              "      <td>Robust Bottom-Up</td>\n",
              "      <td>10.0</td>\n",
              "    </tr>\n",
              "    <tr>\n",
              "      <th>1</th>\n",
              "      <td>A1_1293_tone 24h PSI</td>\n",
              "      <td>32000.0</td>\n",
              "      <td>50.0</td>\n",
              "      <td>50.0</td>\n",
              "      <td>Manor</td>\n",
              "      <td>Robust Bottom-Up</td>\n",
              "      <td>0.0</td>\n",
              "    </tr>\n",
              "    <tr>\n",
              "      <th>2</th>\n",
              "      <td>A1_1294_tone 24h PSI</td>\n",
              "      <td>24000.0</td>\n",
              "      <td>40.0</td>\n",
              "      <td>50.0</td>\n",
              "      <td>Manor</td>\n",
              "      <td>Robust Bottom-Up</td>\n",
              "      <td>10.0</td>\n",
              "    </tr>\n",
              "    <tr>\n",
              "      <th>3</th>\n",
              "      <td>A1_1294_tone baseline</td>\n",
              "      <td>4000.0</td>\n",
              "      <td>80.0</td>\n",
              "      <td>75.0</td>\n",
              "      <td>Manor</td>\n",
              "      <td>Robust Bottom-Up</td>\n",
              "      <td>5.0</td>\n",
              "    </tr>\n",
              "    <tr>\n",
              "      <th>4</th>\n",
              "      <td>A1_1294_tone baseline</td>\n",
              "      <td>8000.0</td>\n",
              "      <td>65.0</td>\n",
              "      <td>55.0</td>\n",
              "      <td>Manor</td>\n",
              "      <td>Robust Bottom-Up</td>\n",
              "      <td>10.0</td>\n",
              "    </tr>\n",
              "    <tr>\n",
              "      <th>...</th>\n",
              "      <td>...</td>\n",
              "      <td>...</td>\n",
              "      <td>...</td>\n",
              "      <td>...</td>\n",
              "      <td>...</td>\n",
              "      <td>...</td>\n",
              "      <td>...</td>\n",
              "    </tr>\n",
              "    <tr>\n",
              "      <th>2</th>\n",
              "      <td>WPZ105</td>\n",
              "      <td>16000.0</td>\n",
              "      <td>40.0</td>\n",
              "      <td>35.0</td>\n",
              "      <td>Liberman</td>\n",
              "      <td>Robust Bottom-Up</td>\n",
              "      <td>5.0</td>\n",
              "    </tr>\n",
              "    <tr>\n",
              "      <th>3</th>\n",
              "      <td>WPZ105</td>\n",
              "      <td>45200.0</td>\n",
              "      <td>40.0</td>\n",
              "      <td>80.0</td>\n",
              "      <td>Liberman</td>\n",
              "      <td>Robust Bottom-Up</td>\n",
              "      <td>40.0</td>\n",
              "    </tr>\n",
              "    <tr>\n",
              "      <th>4</th>\n",
              "      <td>WPZ106</td>\n",
              "      <td>45200.0</td>\n",
              "      <td>70.0</td>\n",
              "      <td>70.0</td>\n",
              "      <td>Liberman</td>\n",
              "      <td>Robust Bottom-Up</td>\n",
              "      <td>0.0</td>\n",
              "    </tr>\n",
              "    <tr>\n",
              "      <th>5</th>\n",
              "      <td>WPZ134</td>\n",
              "      <td>8000.0</td>\n",
              "      <td>30.0</td>\n",
              "      <td>30.0</td>\n",
              "      <td>Liberman</td>\n",
              "      <td>Robust Bottom-Up</td>\n",
              "      <td>0.0</td>\n",
              "    </tr>\n",
              "    <tr>\n",
              "      <th>6</th>\n",
              "      <td>WPZ134</td>\n",
              "      <td>16000.0</td>\n",
              "      <td>25.0</td>\n",
              "      <td>20.0</td>\n",
              "      <td>Liberman</td>\n",
              "      <td>Robust Bottom-Up</td>\n",
              "      <td>5.0</td>\n",
              "    </tr>\n",
              "  </tbody>\n",
              "</table>\n",
              "<p>1111 rows × 7 columns</p>\n",
              "</div>"
            ],
            "text/plain": [
              "                 filename  Freq(Hz)  predicted_threshold  \\\n",
              "0    A1_1293_tone 24h PSI   16000.0                 25.0   \n",
              "1    A1_1293_tone 24h PSI   32000.0                 50.0   \n",
              "2    A1_1294_tone 24h PSI   24000.0                 40.0   \n",
              "3   A1_1294_tone baseline    4000.0                 80.0   \n",
              "4   A1_1294_tone baseline    8000.0                 65.0   \n",
              "..                    ...       ...                  ...   \n",
              "2                  WPZ105   16000.0                 40.0   \n",
              "3                  WPZ105   45200.0                 40.0   \n",
              "4                  WPZ106   45200.0                 70.0   \n",
              "5                  WPZ134    8000.0                 30.0   \n",
              "6                  WPZ134   16000.0                 25.0   \n",
              "\n",
              "    ground_truth_threshold       Lab             Logic  diff  \n",
              "0                     35.0     Manor  Robust Bottom-Up  10.0  \n",
              "1                     50.0     Manor  Robust Bottom-Up   0.0  \n",
              "2                     50.0     Manor  Robust Bottom-Up  10.0  \n",
              "3                     75.0     Manor  Robust Bottom-Up   5.0  \n",
              "4                     55.0     Manor  Robust Bottom-Up  10.0  \n",
              "..                     ...       ...               ...   ...  \n",
              "2                     35.0  Liberman  Robust Bottom-Up   5.0  \n",
              "3                     80.0  Liberman  Robust Bottom-Up  40.0  \n",
              "4                     70.0  Liberman  Robust Bottom-Up   0.0  \n",
              "5                     30.0  Liberman  Robust Bottom-Up   0.0  \n",
              "6                     20.0  Liberman  Robust Bottom-Up   5.0  \n",
              "\n",
              "[1111 rows x 7 columns]"
            ]
          },
          "execution_count": 44,
          "metadata": {},
          "output_type": "execute_result"
        }
      ],
      "source": [
        "thresholds"
      ]
    },
    {
      "cell_type": "code",
      "execution_count": 45,
      "metadata": {},
      "outputs": [
        {
          "data": {
            "text/plain": [
              "7"
            ]
          },
          "execution_count": 45,
          "metadata": {},
          "output_type": "execute_result"
        }
      ],
      "source": [
        "len(test_data_with_predictions.groupby(['filename', 'Freq(Hz)']))"
      ]
    },
    {
      "cell_type": "code",
      "execution_count": 46,
      "metadata": {},
      "outputs": [
        {
          "name": "stdout",
          "output_type": "stream",
          "text": [
            "\u001b[1m3/3\u001b[0m \u001b[32m━━━━━━━━━━━━━━━━━━━━\u001b[0m\u001b[37m\u001b[0m \u001b[1m0s\u001b[0m 3ms/step \n",
            "Within 0 db: 36.493738819320214%\n",
            "Within 5 db: 63.864042933810374%\n",
            "Within 10 db: 72.45080500894454%\n",
            "Within 15 db: 76.02862254025044%\n",
            "3.5714285714285716\n",
            "1.4285714285714284\n"
          ]
        }
      ],
      "source": [
        "# Predictions\n",
        "y_pred_test = (model.predict(X_liberman_test_cnn) > 0.5).astype(int)\n",
        "\n",
        "# Add predictions to test data\n",
        "test_data_with_predictions = liberman_test.assign(prediction=y_pred_test)[['filename', 'prediction', 'Hearing', 'Freq(Hz)', 'Level(dB)']]\n",
        "\n",
        "# Calculate thresholds\n",
        "# Logic 2\n",
        "new_thresholds = []\n",
        "for (filename, freq), group in test_data_with_predictions.groupby(['filename', 'Freq(Hz)']):\n",
        "    group = group.sort_values('Level(dB)', ascending=False)\n",
        "    ground_truth_threshold = group[group['Hearing'] == 1]['Level(dB)'].min()\n",
        "    \n",
        "    lowest_db = np.max(group['Level(dB)'])\n",
        "    previous_prediction = None\n",
        "\n",
        "    for i, (p, d) in enumerate(zip(group['prediction'], group['Level(dB)'])):\n",
        "        if p == 0:\n",
        "            predicted_threshold = lowest_db\n",
        "            break\n",
        "        else:\n",
        "            lowest_db = d\n",
        "            previous_prediction = p\n",
        "    predicted_threshold = lowest_db\n",
        "\n",
        "    new_thresholds.append({\n",
        "        'filename': filename,\n",
        "        'Freq(Hz)': freq,\n",
        "        'predicted_threshold': predicted_threshold,\n",
        "        'ground_truth_threshold': ground_truth_threshold,\n",
        "        'Lab': 'Liberman',\n",
        "        'Logic': 'Naive Top-Down'\n",
        "    })\n",
        "\n",
        "# Prepare thresholds dataframe\n",
        "new_thresholds = pd.DataFrame(new_thresholds)\n",
        "new_thresholds['diff'] = np.abs(new_thresholds['predicted_threshold'] - new_thresholds['ground_truth_threshold'])\n",
        "thresholds = pd.concat([thresholds, new_thresholds])\n",
        "\n",
        "# Calculate percentages\n",
        "within_db_percentages = {db: (thresholds['diff'] <= db).mean() * 100 for db in [0, 5, 10, 15]}\n",
        "for db, percentage in within_db_percentages.items():\n",
        "    print(f'Within {db} db: {percentage}%')\n",
        "\n",
        "# Print mean difference\n",
        "print(new_thresholds['diff'].mean())\n",
        "print(new_thresholds['diff'].std()/np.sqrt(len(new_thresholds)))"
      ]
    },
    {
      "cell_type": "code",
      "execution_count": 47,
      "metadata": {},
      "outputs": [
        {
          "name": "stdout",
          "output_type": "stream",
          "text": [
            "Within 0 db: 36.44444444444444%\n",
            "Within 5 db: 63.911111111111104%\n",
            "Within 10 db: 72.53333333333333%\n",
            "Within 15 db: 76.08888888888889%\n",
            "4.166666666666667\n",
            "1.422606594884729\n"
          ]
        }
      ],
      "source": [
        "# Calculate thresholds\n",
        "# Logic 3: Naive Bottom-Up\n",
        "new_thresholds = []\n",
        "for (filename, freq), group in test_data_with_predictions.groupby(['filename', 'Freq(Hz)']):\n",
        "    group = group.sort_values('Level(dB)', ascending=True)\n",
        "    ground_truth_threshold = group[group['Hearing'] == 1]['Level(dB)'].min()\n",
        "    \n",
        "    lowest_db = None\n",
        "    for i, (p, d) in enumerate(zip(group['prediction'], group['Level(dB)'])):\n",
        "        if p == 1:\n",
        "            lowest_db = d\n",
        "            break  # Stop as soon as we find the first `1`\n",
        "\n",
        "    new_thresholds.append({\n",
        "        'filename': filename,\n",
        "        'Freq(Hz)': freq,\n",
        "        'predicted_threshold': lowest_db,\n",
        "        'ground_truth_threshold': ground_truth_threshold,\n",
        "        'Lab': 'Liberman',\n",
        "        'Logic': 'Naive Bottom-Up'\n",
        "    })\n",
        "\n",
        "# Prepare thresholds dataframe\n",
        "new_thresholds = pd.DataFrame(new_thresholds)\n",
        "new_thresholds['diff'] = np.abs(new_thresholds['predicted_threshold'] - new_thresholds['ground_truth_threshold'])\n",
        "thresholds = pd.concat([thresholds, new_thresholds])\n",
        "\n",
        "# Calculate percentages\n",
        "within_db_percentages = {db: (thresholds['diff'] <= db).mean() * 100 for db in [0, 5, 10, 15]}\n",
        "for db, percentage in within_db_percentages.items():\n",
        "    print(f'Within {db} db: {percentage}%')\n",
        "\n",
        "# Print mean difference\n",
        "print(new_thresholds['diff'].mean())\n",
        "print(new_thresholds['diff'].std()/np.sqrt(len(new_thresholds)))"
      ]
    },
    {
      "cell_type": "code",
      "execution_count": 48,
      "metadata": {},
      "outputs": [
        {
          "name": "stdout",
          "output_type": "stream",
          "text": [
            "Within 0 db: 36.30742049469965%\n",
            "Within 5 db: 63.69257950530035%\n",
            "Within 10 db: 72.26148409893993%\n",
            "Within 15 db: 75.79505300353357%\n",
            "30.714285714285715\n",
            "7.514158970504522\n"
          ]
        }
      ],
      "source": [
        "# Calculate thresholds\n",
        "# Logic 4: Robust Top-Down\n",
        "new_thresholds = []\n",
        "for (filename, freq), group in test_data_with_predictions.groupby(['filename', 'Freq(Hz)']):\n",
        "    group = group.sort_values('Level(dB)', ascending=False)\n",
        "    ground_truth_threshold = group[group['Hearing'] == 1]['Level(dB)'].min()\n",
        "    \n",
        "    lowest_db = np.max(group['Level(dB)'])\n",
        "    previous_prediction = None\n",
        "\n",
        "    for i, (p, d) in enumerate(zip(group['prediction'], group['Level(dB)'])):\n",
        "        if p == 1:\n",
        "            if previous_prediction == 1:\n",
        "                lowest_db = d\n",
        "                break  # Stop only when two consecutive `1`s are found\n",
        "            previous_prediction = p\n",
        "        else:\n",
        "            previous_prediction = p\n",
        "\n",
        "    new_thresholds.append({\n",
        "        'filename': filename,\n",
        "        'Freq(Hz)': freq,\n",
        "        'predicted_threshold': lowest_db,\n",
        "        'ground_truth_threshold': ground_truth_threshold,\n",
        "        'Lab': 'Liberman',\n",
        "        'Logic': 'Robust Top-Down'\n",
        "    })\n",
        "\n",
        "# Prepare thresholds dataframe\n",
        "new_thresholds = pd.DataFrame(new_thresholds)\n",
        "new_thresholds['diff'] = np.abs(new_thresholds['predicted_threshold'] - new_thresholds['ground_truth_threshold'])\n",
        "thresholds = pd.concat([thresholds, new_thresholds])\n",
        "\n",
        "# Calculate percentages\n",
        "within_db_percentages = {db: (thresholds['diff'] <= db).mean() * 100 for db in [0, 5, 10, 15]}\n",
        "for db, percentage in within_db_percentages.items():\n",
        "    print(f'Within {db} db: {percentage}%')\n",
        "\n",
        "# Print mean difference\n",
        "print(new_thresholds['diff'].mean())\n",
        "print(new_thresholds['diff'].std()/np.sqrt(len(new_thresholds)))"
      ]
    },
    {
      "cell_type": "code",
      "execution_count": 49,
      "metadata": {},
      "outputs": [
        {
          "name": "stdout",
          "output_type": "stream",
          "text": [
            "True Positive Rate (TPR): 0.8571428571428571\n",
            "False Positive Rate (FPR): 0.0\n"
          ]
        }
      ],
      "source": [
        "#TPR/FRR METRICS\n",
        "\n",
        "df = test_data_with_predictions\n",
        "tn, fp, fn, tp = confusion_matrix(df['Hearing'], df['prediction']).ravel()\n",
        "tpr = tp / (tp + fn)\n",
        "fpr = fp / (fp + tn)\n",
        "print(f\"True Positive Rate (TPR): {tpr}\")\n",
        "print(f\"False Positive Rate (FPR): {fpr}\")\n"
      ]
    },
    {
      "cell_type": "code",
      "execution_count": 50,
      "metadata": {},
      "outputs": [
        {
          "name": "stdout",
          "output_type": "stream",
          "text": [
            "AUC-ROC: 0.9285714285714286\n",
            "AUC-PR: 0.9360902255639098\n"
          ]
        }
      ],
      "source": [
        "# AUCROC/AUCPR\n",
        "from sklearn.metrics import roc_auc_score, average_precision_score\n",
        "df = test_data_with_predictions\n",
        "auc_roc = roc_auc_score(df['Hearing'], df['prediction'])\n",
        "auc_pr = average_precision_score(df['Hearing'], df['prediction'])\n",
        "print(f\"AUC-ROC: {auc_roc}\")\n",
        "print(f\"AUC-PR: {auc_pr}\")\n"
      ]
    },
    {
      "cell_type": "markdown",
      "metadata": {},
      "source": [
        "### All data metrics"
      ]
    },
    {
      "cell_type": "code",
      "execution_count": 51,
      "metadata": {
        "colab": {
          "base_uri": "https://localhost:8080/"
        },
        "id": "c0r03ZPhzrqt",
        "outputId": "a78f7cc2-0f44-4322-e9d6-1499fccbda5c"
      },
      "outputs": [
        {
          "name": "stdout",
          "output_type": "stream",
          "text": [
            "\u001b[1m137/137\u001b[0m \u001b[32m━━━━━━━━━━━━━━━━━━━━\u001b[0m\u001b[37m\u001b[0m \u001b[1m0s\u001b[0m 2ms/step\n",
            "Within 0 db: 38.79858657243817%\n",
            "Within 5 db: 67.91519434628975%\n",
            "Within 10 db: 76.53710247349824%\n",
            "Within 15 db: 79.85865724381625%\n",
            "4.257950530035336\n",
            "0.41949835386854795\n"
          ]
        }
      ],
      "source": [
        "# Predictions\n",
        "y_pred_test = (model.predict(X_test_cnn) > 0.5).astype(int)\n",
        "\n",
        "# Add predictions to test data\n",
        "test_data_with_predictions = test.assign(prediction=y_pred_test)[['filename', 'prediction', 'Hearing', 'Freq(Hz)', 'Level(dB)']]\n",
        "\n",
        "# Calculate thresholds\n",
        "# Logic 1\n",
        "new_thresholds = []\n",
        "for (filename, freq), group in test_data_with_predictions.groupby(['filename', 'Freq(Hz)']):\n",
        "    group = group.sort_values('Level(dB)', ascending=True)\n",
        "    ground_truth_threshold = group[group['Hearing'] == 1]['Level(dB)'].min()\n",
        "    \n",
        "    lowest_db = None\n",
        "    previous_prediction = None\n",
        "\n",
        "    for i, (p, d) in enumerate(zip(group['prediction'], group['Level(dB)'])):\n",
        "        if p == 0:\n",
        "            lowest_db = d\n",
        "            previous_prediction = p\n",
        "        else:\n",
        "            if previous_prediction == 1:\n",
        "                predicted_threshold = lowest_db\n",
        "                break  # Break if two consecutive `1`s are encountered\n",
        "            lowest_db = d\n",
        "            previous_prediction = p\n",
        "\n",
        "    new_thresholds.append({\n",
        "        'filename': filename,\n",
        "        'Freq(Hz)': freq,\n",
        "        'predicted_threshold': predicted_threshold,\n",
        "        'ground_truth_threshold': ground_truth_threshold,\n",
        "        'Lab': 'Overall',\n",
        "        'Logic': 'Robust Bottom-Up'\n",
        "    })\n",
        "\n",
        "# Prepare thresholds dataframe\n",
        "new_thresholds = pd.DataFrame(new_thresholds)\n",
        "new_thresholds['diff'] = np.abs(new_thresholds['predicted_threshold'] - new_thresholds['ground_truth_threshold'])\n",
        "thresholds = pd.concat([thresholds, new_thresholds])\n",
        "\n",
        "# Calculate percentages\n",
        "within_db_percentages = {db: (thresholds['diff'] <= db).mean() * 100 for db in [0, 5, 10, 15]}\n",
        "for db, percentage in within_db_percentages.items():\n",
        "    print(f'Within {db} db: {percentage}%')\n",
        "\n",
        "# Print mean difference\n",
        "print(new_thresholds['diff'].mean())\n",
        "print(new_thresholds['diff'].std()/np.sqrt(len(new_thresholds)))"
      ]
    },
    {
      "cell_type": "code",
      "execution_count": 52,
      "metadata": {},
      "outputs": [
        {
          "name": "stdout",
          "output_type": "stream",
          "text": [
            "\u001b[1m137/137\u001b[0m \u001b[32m━━━━━━━━━━━━━━━━━━━━\u001b[0m\u001b[37m\u001b[0m \u001b[1m0s\u001b[0m 3ms/step\n",
            "Within 0 db: 40.45936395759717%\n",
            "Within 5 db: 70.55359246171967%\n",
            "Within 10 db: 79.21083627797408%\n",
            "Within 15 db: 82.50883392226149%\n",
            "4.275618374558304\n",
            "0.3914112783859987\n"
          ]
        }
      ],
      "source": [
        "# Predictions\n",
        "y_pred_test = (model.predict(X_test_cnn) > 0.5).astype(int)\n",
        "\n",
        "# Add predictions to test data\n",
        "test_data_with_predictions = test.assign(prediction=y_pred_test)[['filename', 'prediction', 'Hearing', 'Freq(Hz)', 'Level(dB)']]\n",
        "\n",
        "# Calculate thresholds\n",
        "# Logic 2\n",
        "new_thresholds = []\n",
        "for (filename, freq), group in test_data_with_predictions.groupby(['filename', 'Freq(Hz)']):\n",
        "    group = group.sort_values('Level(dB)', ascending=False)\n",
        "    ground_truth_threshold = group[group['Hearing'] == 1]['Level(dB)'].min()\n",
        "    \n",
        "    lowest_db = np.max(group['Level(dB)'])\n",
        "    previous_prediction = None\n",
        "\n",
        "    for i, (p, d) in enumerate(zip(group['prediction'], group['Level(dB)'])):\n",
        "        if p == 0:\n",
        "            predicted_threshold = lowest_db\n",
        "            break\n",
        "        else:\n",
        "            lowest_db = d\n",
        "            previous_prediction = p\n",
        "\n",
        "    new_thresholds.append({\n",
        "        'filename': filename,\n",
        "        'Freq(Hz)': freq,\n",
        "        'predicted_threshold': predicted_threshold,\n",
        "        'ground_truth_threshold': ground_truth_threshold,\n",
        "        'Lab': 'Overall',\n",
        "        'Logic': 'Naive Top-Down'\n",
        "    })\n",
        "\n",
        "# Prepare thresholds dataframe\n",
        "new_thresholds = pd.DataFrame(new_thresholds)\n",
        "new_thresholds['diff'] = np.abs(new_thresholds['predicted_threshold'] - new_thresholds['ground_truth_threshold'])\n",
        "thresholds = pd.concat([thresholds, new_thresholds])\n",
        "\n",
        "# Calculate percentages\n",
        "within_db_percentages = {db: (thresholds['diff'] <= db).mean() * 100 for db in [0, 5, 10, 15]}\n",
        "for db, percentage in within_db_percentages.items():\n",
        "    print(f'Within {db} db: {percentage}%')\n",
        "\n",
        "# Print mean difference\n",
        "print(new_thresholds['diff'].mean())\n",
        "print(new_thresholds['diff'].std()/np.sqrt(len(new_thresholds)))"
      ]
    },
    {
      "cell_type": "code",
      "execution_count": 53,
      "metadata": {},
      "outputs": [
        {
          "data": {
            "text/plain": [
              "283"
            ]
          },
          "execution_count": 53,
          "metadata": {},
          "output_type": "execute_result"
        }
      ],
      "source": [
        "len(test_data_with_predictions.groupby(['filename', 'Freq(Hz)']))"
      ]
    },
    {
      "cell_type": "code",
      "execution_count": 54,
      "metadata": {},
      "outputs": [
        {
          "name": "stdout",
          "output_type": "stream",
          "text": [
            "Within 0 db: 41.140837960625944%\n",
            "Within 5 db: 71.8324078748107%\n",
            "Within 10 db: 80.96920747097425%\n",
            "Within 15 db: 84.30085815244826%\n",
            "4.660714285714286\n",
            "0.41031027317426144\n"
          ]
        }
      ],
      "source": [
        "# Calculate thresholds\n",
        "# Logic 3: Naive Bottom-Up\n",
        "new_thresholds = []\n",
        "for (filename, freq), group in test_data_with_predictions.groupby(['filename', 'Freq(Hz)']):\n",
        "    group = group.sort_values('Level(dB)', ascending=True)\n",
        "    ground_truth_threshold = group[group['Hearing'] == 1]['Level(dB)'].min()\n",
        "    \n",
        "    lowest_db = None\n",
        "    for i, (p, d) in enumerate(zip(group['prediction'], group['Level(dB)'])):\n",
        "        if p == 1:\n",
        "            lowest_db = d\n",
        "            break  # Stop as soon as we find the first `1`\n",
        "\n",
        "    new_thresholds.append({\n",
        "        'filename': filename,\n",
        "        'Freq(Hz)': freq,\n",
        "        'predicted_threshold': lowest_db,\n",
        "        'ground_truth_threshold': ground_truth_threshold,\n",
        "        'Lab': 'Overall',\n",
        "        'Logic': 'Naive Bottom-Up'\n",
        "    })\n",
        "\n",
        "# Prepare thresholds dataframe\n",
        "new_thresholds = pd.DataFrame(new_thresholds)\n",
        "new_thresholds['diff'] = np.abs(new_thresholds['predicted_threshold'] - new_thresholds['ground_truth_threshold'])\n",
        "thresholds = pd.concat([thresholds, new_thresholds])\n",
        "\n",
        "# Calculate percentages\n",
        "within_db_percentages = {db: (thresholds['diff'] <= db).mean() * 100 for db in [0, 5, 10, 15]}\n",
        "for db, percentage in within_db_percentages.items():\n",
        "    print(f'Within {db} db: {percentage}%')\n",
        "\n",
        "# Print mean difference\n",
        "print(new_thresholds['diff'].mean())\n",
        "print(new_thresholds['diff'].std()/np.sqrt(len(new_thresholds)))"
      ]
    },
    {
      "cell_type": "code",
      "execution_count": 55,
      "metadata": {},
      "outputs": [
        {
          "name": "stdout",
          "output_type": "stream",
          "text": [
            "Within 0 db: 36.26325088339223%\n",
            "Within 5 db: 63.64840989399293%\n",
            "Within 10 db: 72.1731448763251%\n",
            "Within 15 db: 75.75088339222616%\n",
            "41.73144876325088\n",
            "1.1756366449773268\n"
          ]
        }
      ],
      "source": [
        "# Calculate thresholds\n",
        "# Logic 4: Robust Top-Down\n",
        "new_thresholds = []\n",
        "for (filename, freq), group in test_data_with_predictions.groupby(['filename', 'Freq(Hz)']):\n",
        "    group = group.sort_values('Level(dB)', ascending=False)\n",
        "    ground_truth_threshold = group[group['Hearing'] == 1]['Level(dB)'].min()\n",
        "    \n",
        "    lowest_db = np.max(group['Level(dB)'])\n",
        "    previous_prediction = None\n",
        "\n",
        "    for i, (p, d) in enumerate(zip(group['prediction'], group['Level(dB)'])):\n",
        "        if p == 1:\n",
        "            if previous_prediction == 1:\n",
        "                lowest_db = d\n",
        "                break  # Stop only when two consecutive `1`s are found\n",
        "            previous_prediction = p\n",
        "        else:\n",
        "            previous_prediction = p\n",
        "\n",
        "    new_thresholds.append({\n",
        "        'filename': filename,\n",
        "        'Freq(Hz)': freq,\n",
        "        'predicted_threshold': lowest_db,\n",
        "        'ground_truth_threshold': ground_truth_threshold,\n",
        "        'Lab': 'Overall',\n",
        "        'Logic': 'Robust Top-Down'\n",
        "    })\n",
        "\n",
        "# Prepare thresholds dataframe\n",
        "new_thresholds = pd.DataFrame(new_thresholds)\n",
        "new_thresholds['diff'] = np.abs(new_thresholds['predicted_threshold'] - new_thresholds['ground_truth_threshold'])\n",
        "thresholds = pd.concat([thresholds, new_thresholds])\n",
        "\n",
        "# Calculate percentages\n",
        "within_db_percentages = {db: (thresholds['diff'] <= db).mean() * 100 for db in [0, 5, 10, 15]}\n",
        "for db, percentage in within_db_percentages.items():\n",
        "    print(f'Within {db} db: {percentage}%')\n",
        "\n",
        "# Print mean difference\n",
        "print(new_thresholds['diff'].mean())\n",
        "print(new_thresholds['diff'].std()/np.sqrt(len(new_thresholds)))"
      ]
    },
    {
      "cell_type": "markdown",
      "metadata": {
        "id": "DT_qHcRsuFb8"
      },
      "source": [
        "## TPR/FPR"
      ]
    },
    {
      "cell_type": "code",
      "execution_count": 56,
      "metadata": {
        "colab": {
          "base_uri": "https://localhost:8080/"
        },
        "id": "lndgveY9vkYx",
        "outputId": "15da9879-fee4-4f90-bdb2-627f94e7d282"
      },
      "outputs": [
        {
          "name": "stdout",
          "output_type": "stream",
          "text": [
            "True Positive Rate (TPR): 0.9636612958519026\n",
            "False Positive Rate (FPR): 0.0873452544704264\n"
          ]
        }
      ],
      "source": [
        "#TPR/FRR METRICS\n",
        "\n",
        "df = test_data_with_predictions\n",
        "tn, fp, fn, tp = confusion_matrix(df['Hearing'], df['prediction']).ravel()\n",
        "tpr = tp / (tp + fn)\n",
        "fpr = fp / (fp + tn)\n",
        "print(f\"True Positive Rate (TPR): {tpr}\")\n",
        "print(f\"False Positive Rate (FPR): {fpr}\")\n"
      ]
    },
    {
      "cell_type": "markdown",
      "metadata": {
        "id": "gD8I4bdyuMWA"
      },
      "source": [
        "## AUCROC/AUCPR"
      ]
    },
    {
      "cell_type": "code",
      "execution_count": 57,
      "metadata": {
        "colab": {
          "base_uri": "https://localhost:8080/"
        },
        "id": "oATpRVfDvnvC",
        "outputId": "a4c0f1e2-96bb-4c74-bb5a-17992e020c15"
      },
      "outputs": [
        {
          "name": "stdout",
          "output_type": "stream",
          "text": [
            "AUC-ROC: 0.9381580206907381\n",
            "AUC-PR: 0.9462561562802083\n"
          ]
        }
      ],
      "source": [
        "# AUCROC/AUCPR\n",
        "\n",
        "\n",
        "from sklearn.metrics import roc_auc_score, average_precision_score\n",
        "df = test_data_with_predictions\n",
        "auc_roc = roc_auc_score(df['Hearing'], df['prediction'])\n",
        "auc_pr = average_precision_score(df['Hearing'], df['prediction'])\n",
        "print(f\"AUC-ROC: {auc_roc}\")\n",
        "print(f\"AUC-PR: {auc_pr}\")\n"
      ]
    },
    {
      "cell_type": "code",
      "execution_count": 58,
      "metadata": {},
      "outputs": [
        {
          "data": {
            "text/plain": [
              "4371"
            ]
          },
          "execution_count": 58,
          "metadata": {},
          "output_type": "execute_result"
        }
      ],
      "source": [
        "len(test)"
      ]
    },
    {
      "cell_type": "code",
      "execution_count": 61,
      "metadata": {},
      "outputs": [
        {
          "data": {
            "image/png": "[encoded data removed]",
            "text/plain": [
              "<Figure size 1200x600 with 1 Axes>"
            ]
          },
          "metadata": {},
          "output_type": "display_data"
        }
      ],
      "source": [
        "import seaborn as sns\n",
        "\n",
        "# Create the plot\n",
        "plt.figure(figsize=(12, 6))\n",
        "\n",
        "# Using seaborn barplot with estimator set to mean and ci for standard error\n",
        "sns.barplot(\n",
        "    data=thresholds,\n",
        "    x='Lab',\n",
        "    y='diff',\n",
        "    hue='Logic',\n",
        "    estimator=np.mean,      # Use mean as the estimator\n",
        "    errorbar='se',                # Show standard error\n",
        "    palette='muted',\n",
        "    capsize=0.2             # Add caps to error bars\n",
        ")\n",
        "\n",
        "# Customize the plot\n",
        "plt.title('Mean Difference and Standard Error for Different Logics by Lab')\n",
        "plt.xlabel('Lab')\n",
        "plt.ylabel('Mean Difference (dB)')\n",
        "plt.legend(title='Logic')\n",
        "plt.tight_layout()\n",
        "plt.ylim(top=40)\n",
        "\n",
        "# Show the plot\n",
        "plt.show()"
      ]
    },
    {
      "cell_type": "code",
      "execution_count": 62,
      "metadata": {
        "colab": {
          "base_uri": "https://localhost:8080/",
          "height": 944
        },
        "id": "tuC0rPkmFnLm",
        "outputId": "7e546063-4d29-479d-ef6f-2946036b804e"
      },
      "outputs": [
        {
          "name": "stdout",
          "output_type": "stream",
          "text": [
            "\u001b[1m137/137\u001b[0m \u001b[32m━━━━━━━━━━━━━━━━━━━━\u001b[0m\u001b[37m\u001b[0m \u001b[1m0s\u001b[0m 3ms/step\n"
          ]
        },
        {
          "data": {
            "image/png": "[encoded data removed]",
            "text/plain": [
              "<Figure size 640x480 with 1 Axes>"
            ]
          },
          "metadata": {},
          "output_type": "display_data"
        },
        {
          "data": {
            "image/png": "[encoded data removed]",
            "text/plain": [
              "<Figure size 640x480 with 1 Axes>"
            ]
          },
          "metadata": {},
          "output_type": "display_data"
        }
      ],
      "source": [
        "y_pred_probs = model.predict(X_test_cnn)\n",
        "\n",
        "# Remove or replace NaN values\n",
        "y_test = np.nan_to_num(y_test)\n",
        "y_pred_probs = np.nan_to_num(y_pred_probs)\n",
        "\n",
        "# Compute ROC curve and ROC area\n",
        "fpr, tpr, _ = roc_curve(y_test, y_pred_probs)\n",
        "roc_auc = auc(fpr, tpr)\n",
        "\n",
        "# Compute Precision-Recall curve and AUC-PR\n",
        "precision, recall, _ = precision_recall_curve(y_test, y_pred_probs)\n",
        "pr_auc = auc(recall, precision)\n",
        "\n",
        "# Plot ROC curve\n",
        "plt.figure()\n",
        "plt.plot(fpr, tpr, color='darkorange', lw=2, label='ROC curve (area = %0.4f)' % roc_auc)\n",
        "plt.plot([0, 1], [0, 1], color='navy', lw=2, linestyle='--')\n",
        "plt.xlim([0.0, 1.0])\n",
        "plt.ylim([0.0, 1.05])\n",
        "plt.xlabel('False Positive Rate')\n",
        "plt.ylabel('True Positive Rate')\n",
        "plt.title('Receiver Operating Characteristic')\n",
        "plt.legend(loc=\"lower right\")\n",
        "plt.show()\n",
        "\n",
        "# Plot Precision-Recall curve\n",
        "plt.figure()\n",
        "plt.plot(recall, precision, color='blue', lw=2, label='Precision-Recall curve (area = %0.4f)' % pr_auc)\n",
        "plt.xlim([0.0, 1.0])\n",
        "plt.ylim([0.0, 1.05])\n",
        "plt.xlabel('Recall')\n",
        "plt.ylabel('Precision')\n",
        "plt.title('Precision-Recall')\n",
        "plt.legend(loc=\"lower right\")\n",
        "plt.show()\n"
      ]
    },
    {
      "cell_type": "code",
      "execution_count": 32,
      "metadata": {},
      "outputs": [],
      "source": [
        "import itertools\n",
        "\n",
        "# Define parameter grid for augmentations\n",
        "param_grid = {\n",
        "    'noise_percentage': np.linspace(0.00001, 0.6, 31),\n",
        "    'time_warp_sigma': np.linspace(0.2, 3.0, 29),\n",
        "    'shift_max': range(17,35)\n",
        "}\n",
        "\n",
        "def apply_augmentations(data, noise_percentage, time_warp_sigma, shift_max):\n",
        "    augmented_data = add_noise(data, noise_percentage=noise_percentage)\n",
        "    augmented_data = time_warp(augmented_data, sigma=time_warp_sigma)\n",
        "    augmented_data = time_shift(augmented_data, shift_max=shift_max)\n",
        "    return augmented_data"
      ]
    },
    {
      "cell_type": "code",
      "execution_count": 24,
      "metadata": {},
      "outputs": [],
      "source": [
        "X_liberman_test = liberman_data.drop(columns=['Hearing', 'filename', 'file_freq', 'Freq(Hz)', 'Level(dB)'])\n",
        "X_liberman_test_cnn = np.expand_dims(X_liberman_test.values, axis=2)\n",
        "y_liberman_test = np.array(liberman_data['Hearing'])"
      ]
    },
    {
      "cell_type": "code",
      "execution_count": 33,
      "metadata": {},
      "outputs": [
        {
          "name": "stdout",
          "output_type": "stream",
          "text": [
            "1/200: Noise %: 2.000966666666667, Time Warping Sigma: 2.8, Max Shift: 34\n",
            "\u001b[1m139/139\u001b[0m \u001b[32m━━━━━━━━━━━━━━━━━━━━\u001b[0m\u001b[37m\u001b[0m \u001b[1m0s\u001b[0m 3ms/step\n",
            "Accuracy: 0.949751\n",
            "2/200: Noise %: 22.000633333333337, Time Warping Sigma: 0.6, Max Shift: 30\n",
            "\u001b[1m139/139\u001b[0m \u001b[32m━━━━━━━━━━━━━━━━━━━━\u001b[0m\u001b[37m\u001b[0m \u001b[1m0s\u001b[0m 2ms/step\n",
            "Accuracy: 0.951109\n",
            "3/200: Noise %: 8.000866666666667, Time Warping Sigma: 0.5, Max Shift: 18\n",
            "\u001b[1m139/139\u001b[0m \u001b[32m━━━━━━━━━━━━━━━━━━━━\u001b[0m\u001b[37m\u001b[0m \u001b[1m0s\u001b[0m 2ms/step\n",
            "Accuracy: 0.953373\n",
            "4/200: Noise %: 38.00036666666667, Time Warping Sigma: 2.9, Max Shift: 21\n",
            "\u001b[1m139/139\u001b[0m \u001b[32m━━━━━━━━━━━━━━━━━━━━\u001b[0m\u001b[37m\u001b[0m \u001b[1m1s\u001b[0m 3ms/step\n",
            "Accuracy: 0.953146\n",
            "5/200: Noise %: 22.000633333333337, Time Warping Sigma: 1.0999999999999999, Max Shift: 25\n",
            "\u001b[1m139/139\u001b[0m \u001b[32m━━━━━━━━━━━━━━━━━━━━\u001b[0m\u001b[37m\u001b[0m \u001b[1m0s\u001b[0m 2ms/step\n",
            "Accuracy: 0.955183\n",
            "6/200: Noise %: 48.00020000000001, Time Warping Sigma: 2.1, Max Shift: 20\n",
            "\u001b[1m139/139\u001b[0m \u001b[32m━━━━━━━━━━━━━━━━━━━━\u001b[0m\u001b[37m\u001b[0m \u001b[1m1s\u001b[0m 8ms/step\n",
            "Accuracy: 0.953146\n",
            "7/200: Noise %: 28.000533333333337, Time Warping Sigma: 2.7, Max Shift: 31\n",
            "\u001b[1m139/139\u001b[0m \u001b[32m━━━━━━━━━━━━━━━━━━━━\u001b[0m\u001b[37m\u001b[0m \u001b[1m0s\u001b[0m 2ms/step\n",
            "Accuracy: 0.953599\n",
            "8/200: Noise %: 8.000866666666667, Time Warping Sigma: 2.6, Max Shift: 27\n",
            "\u001b[1m139/139\u001b[0m \u001b[32m━━━━━━━━━━━━━━━━━━━━\u001b[0m\u001b[37m\u001b[0m \u001b[1m0s\u001b[0m 2ms/step\n",
            "Accuracy: 0.952241\n",
            "9/200: Noise %: 44.00026666666667, Time Warping Sigma: 0.5, Max Shift: 27\n",
            "\u001b[1m139/139\u001b[0m \u001b[32m━━━━━━━━━━━━━━━━━━━━\u001b[0m\u001b[37m\u001b[0m \u001b[1m0s\u001b[0m 2ms/step\n",
            "Accuracy: 0.955636\n",
            "10/200: Noise %: 52.00013333333333, Time Warping Sigma: 0.5, Max Shift: 23\n",
            "\u001b[1m139/139\u001b[0m \u001b[32m━━━━━━━━━━━━━━━━━━━━\u001b[0m\u001b[37m\u001b[0m \u001b[1m0s\u001b[0m 2ms/step\n",
            "Accuracy: 0.951335\n",
            "11/200: Noise %: 20.00066666666667, Time Warping Sigma: 1.6999999999999997, Max Shift: 31\n",
            "\u001b[1m139/139\u001b[0m \u001b[32m━━━━━━━━━━━━━━━━━━━━\u001b[0m\u001b[37m\u001b[0m \u001b[1m0s\u001b[0m 2ms/step\n",
            "Accuracy: 0.953146\n",
            "12/200: Noise %: 30.000500000000002, Time Warping Sigma: 2.5, Max Shift: 31\n",
            "\u001b[1m139/139\u001b[0m \u001b[32m━━━━━━━━━━━━━━━━━━━━\u001b[0m\u001b[37m\u001b[0m \u001b[1m0s\u001b[0m 3ms/step\n",
            "Accuracy: 0.952920\n",
            "13/200: Noise %: 0.001, Time Warping Sigma: 1.6999999999999997, Max Shift: 22\n",
            "\u001b[1m139/139\u001b[0m \u001b[32m━━━━━━━━━━━━━━━━━━━━\u001b[0m\u001b[37m\u001b[0m \u001b[1m0s\u001b[0m 2ms/step\n",
            "Accuracy: 0.949977\n",
            "14/200: Noise %: 54.0001, Time Warping Sigma: 2.9, Max Shift: 17\n",
            "\u001b[1m139/139\u001b[0m \u001b[32m━━━━━━━━━━━━━━━━━━━━\u001b[0m\u001b[37m\u001b[0m \u001b[1m0s\u001b[0m 2ms/step\n",
            "Accuracy: 0.955862\n",
            "15/200: Noise %: 40.00033333333334, Time Warping Sigma: 2.5, Max Shift: 33\n",
            "\u001b[1m139/139\u001b[0m \u001b[32m━━━━━━━━━━━━━━━━━━━━\u001b[0m\u001b[37m\u001b[0m \u001b[1m0s\u001b[0m 2ms/step\n",
            "Accuracy: 0.942734\n",
            "16/200: Noise %: 14.000766666666669, Time Warping Sigma: 2.8, Max Shift: 24\n",
            "\u001b[1m139/139\u001b[0m \u001b[32m━━━━━━━━━━━━━━━━━━━━\u001b[0m\u001b[37m\u001b[0m \u001b[1m1s\u001b[0m 10ms/step\n",
            "Accuracy: 0.951562\n",
            "17/200: Noise %: 34.00043333333334, Time Warping Sigma: 1.4999999999999998, Max Shift: 31\n",
            "\u001b[1m139/139\u001b[0m \u001b[32m━━━━━━━━━━━━━━━━━━━━\u001b[0m\u001b[37m\u001b[0m \u001b[1m0s\u001b[0m 3ms/step\n",
            "Accuracy: 0.946356\n",
            "18/200: Noise %: 2.000966666666667, Time Warping Sigma: 0.4, Max Shift: 32\n",
            "\u001b[1m139/139\u001b[0m \u001b[32m━━━━━━━━━━━━━━━━━━━━\u001b[0m\u001b[37m\u001b[0m \u001b[1m0s\u001b[0m 2ms/step\n",
            "Accuracy: 0.944319\n",
            "19/200: Noise %: 0.001, Time Warping Sigma: 2.3, Max Shift: 18\n",
            "\u001b[1m139/139\u001b[0m \u001b[32m━━━━━━━━━━━━━━━━━━━━\u001b[0m\u001b[37m\u001b[0m \u001b[1m1s\u001b[0m 4ms/step\n",
            "Accuracy: 0.953146\n",
            "20/200: Noise %: 58.000033333333334, Time Warping Sigma: 1.2, Max Shift: 20\n",
            "\u001b[1m139/139\u001b[0m \u001b[32m━━━━━━━━━━━━━━━━━━━━\u001b[0m\u001b[37m\u001b[0m \u001b[1m0s\u001b[0m 3ms/step\n",
            "Accuracy: 0.944771\n",
            "21/200: Noise %: 16.000733333333336, Time Warping Sigma: 3.0, Max Shift: 26\n",
            "\u001b[1m139/139\u001b[0m \u001b[32m━━━━━━━━━━━━━━━━━━━━\u001b[0m\u001b[37m\u001b[0m \u001b[1m0s\u001b[0m 2ms/step\n",
            "Accuracy: 0.954731\n",
            "22/200: Noise %: 38.00036666666667, Time Warping Sigma: 1.4, Max Shift: 20\n",
            "\u001b[1m139/139\u001b[0m \u001b[32m━━━━━━━━━━━━━━━━━━━━\u001b[0m\u001b[37m\u001b[0m \u001b[1m0s\u001b[0m 2ms/step\n",
            "Accuracy: 0.951788\n",
            "23/200: Noise %: 42.00030000000001, Time Warping Sigma: 1.9, Max Shift: 29\n",
            "\u001b[1m139/139\u001b[0m \u001b[32m━━━━━━━━━━━━━━━━━━━━\u001b[0m\u001b[37m\u001b[0m \u001b[1m2s\u001b[0m 11ms/step\n",
            "Accuracy: 0.952694\n",
            "24/200: Noise %: 30.000500000000002, Time Warping Sigma: 0.6, Max Shift: 21\n",
            "\u001b[1m139/139\u001b[0m \u001b[32m━━━━━━━━━━━━━━━━━━━━\u001b[0m\u001b[37m\u001b[0m \u001b[1m0s\u001b[0m 3ms/step\n",
            "Accuracy: 0.950656\n",
            "25/200: Noise %: 30.000500000000002, Time Warping Sigma: 0.2, Max Shift: 27\n",
            "\u001b[1m139/139\u001b[0m \u001b[32m━━━━━━━━━━━━━━━━━━━━\u001b[0m\u001b[37m\u001b[0m \u001b[1m0s\u001b[0m 2ms/step\n",
            "Accuracy: 0.950204\n",
            "26/200: Noise %: 30.000500000000002, Time Warping Sigma: 1.9999999999999998, Max Shift: 30\n",
            "\u001b[1m139/139\u001b[0m \u001b[32m━━━━━━━━━━━━━━━━━━━━\u001b[0m\u001b[37m\u001b[0m \u001b[1m0s\u001b[0m 2ms/step\n",
            "Accuracy: 0.952694\n",
            "27/200: Noise %: 52.00013333333333, Time Warping Sigma: 1.2, Max Shift: 23\n",
            "\u001b[1m139/139\u001b[0m \u001b[32m━━━━━━━━━━━━━━━━━━━━\u001b[0m\u001b[37m\u001b[0m \u001b[1m1s\u001b[0m 10ms/step\n",
            "Accuracy: 0.956089\n",
            "28/200: Noise %: 18.000700000000002, Time Warping Sigma: 0.8999999999999999, Max Shift: 26\n",
            "\u001b[1m139/139\u001b[0m \u001b[32m━━━━━━━━━━━━━━━━━━━━\u001b[0m\u001b[37m\u001b[0m \u001b[1m1s\u001b[0m 3ms/step\n",
            "Accuracy: 0.951109\n",
            "29/200: Noise %: 48.00020000000001, Time Warping Sigma: 1.9, Max Shift: 27\n",
            "\u001b[1m139/139\u001b[0m \u001b[32m━━━━━━━━━━━━━━━━━━━━\u001b[0m\u001b[37m\u001b[0m \u001b[1m0s\u001b[0m 3ms/step\n",
            "Accuracy: 0.951335\n",
            "30/200: Noise %: 4.000933333333334, Time Warping Sigma: 2.6, Max Shift: 21\n",
            "\u001b[1m139/139\u001b[0m \u001b[32m━━━━━━━━━━━━━━━━━━━━\u001b[0m\u001b[37m\u001b[0m \u001b[1m0s\u001b[0m 2ms/step\n",
            "Accuracy: 0.953146\n",
            "31/200: Noise %: 26.000566666666668, Time Warping Sigma: 2.1999999999999997, Max Shift: 29\n",
            "\u001b[1m139/139\u001b[0m \u001b[32m━━━━━━━━━━━━━━━━━━━━\u001b[0m\u001b[37m\u001b[0m \u001b[1m1s\u001b[0m 4ms/step\n",
            "Accuracy: 0.953599\n",
            "32/200: Noise %: 42.00030000000001, Time Warping Sigma: 1.5999999999999999, Max Shift: 27\n",
            "\u001b[1m139/139\u001b[0m \u001b[32m━━━━━━━━━━━━━━━━━━━━\u001b[0m\u001b[37m\u001b[0m \u001b[1m0s\u001b[0m 3ms/step\n",
            "Accuracy: 0.953599\n",
            "33/200: Noise %: 20.00066666666667, Time Warping Sigma: 2.7, Max Shift: 34\n",
            "\u001b[1m139/139\u001b[0m \u001b[32m━━━━━━━━━━━━━━━━━━━━\u001b[0m\u001b[37m\u001b[0m \u001b[1m0s\u001b[0m 3ms/step\n",
            "Accuracy: 0.952920\n",
            "34/200: Noise %: 36.000400000000006, Time Warping Sigma: 2.5, Max Shift: 23\n",
            "\u001b[1m139/139\u001b[0m \u001b[32m━━━━━━━━━━━━━━━━━━━━\u001b[0m\u001b[37m\u001b[0m \u001b[1m1s\u001b[0m 9ms/step\n",
            "Accuracy: 0.953599\n",
            "35/200: Noise %: 28.000533333333337, Time Warping Sigma: 1.5999999999999999, Max Shift: 33\n",
            "\u001b[1m139/139\u001b[0m \u001b[32m━━━━━━━━━━━━━━━━━━━━\u001b[0m\u001b[37m\u001b[0m \u001b[1m0s\u001b[0m 3ms/step\n",
            "Accuracy: 0.938434\n",
            "36/200: Noise %: 24.000600000000006, Time Warping Sigma: 2.1, Max Shift: 32\n",
            "\u001b[1m139/139\u001b[0m \u001b[32m━━━━━━━━━━━━━━━━━━━━\u001b[0m\u001b[37m\u001b[0m \u001b[1m0s\u001b[0m 3ms/step\n",
            "Accuracy: 0.950656\n",
            "37/200: Noise %: 56.00006666666667, Time Warping Sigma: 2.4, Max Shift: 29\n",
            "\u001b[1m139/139\u001b[0m \u001b[32m━━━━━━━━━━━━━━━━━━━━\u001b[0m\u001b[37m\u001b[0m \u001b[1m0s\u001b[0m 2ms/step\n",
            "Accuracy: 0.952014\n",
            "38/200: Noise %: 44.00026666666667, Time Warping Sigma: 1.0999999999999999, Max Shift: 20\n",
            "\u001b[1m139/139\u001b[0m \u001b[32m━━━━━━━━━━━━━━━━━━━━\u001b[0m\u001b[37m\u001b[0m \u001b[1m2s\u001b[0m 12ms/step\n",
            "Accuracy: 0.953825\n",
            "39/200: Noise %: 2.000966666666667, Time Warping Sigma: 0.6, Max Shift: 26\n",
            "\u001b[1m139/139\u001b[0m \u001b[32m━━━━━━━━━━━━━━━━━━━━\u001b[0m\u001b[37m\u001b[0m \u001b[1m0s\u001b[0m 2ms/step\n",
            "Accuracy: 0.955636\n",
            "40/200: Noise %: 60.0, Time Warping Sigma: 2.5, Max Shift: 32\n",
            "\u001b[1m139/139\u001b[0m \u001b[32m━━━━━━━━━━━━━━━━━━━━\u001b[0m\u001b[37m\u001b[0m \u001b[1m0s\u001b[0m 3ms/step\n",
            "Accuracy: 0.955183\n",
            "41/200: Noise %: 54.0001, Time Warping Sigma: 1.9, Max Shift: 25\n",
            "\u001b[1m139/139\u001b[0m \u001b[32m━━━━━━━━━━━━━━━━━━━━\u001b[0m\u001b[37m\u001b[0m \u001b[1m0s\u001b[0m 3ms/step\n",
            "Accuracy: 0.955410\n",
            "42/200: Noise %: 36.000400000000006, Time Warping Sigma: 1.6999999999999997, Max Shift: 34\n",
            "\u001b[1m139/139\u001b[0m \u001b[32m━━━━━━━━━━━━━━━━━━━━\u001b[0m\u001b[37m\u001b[0m \u001b[1m0s\u001b[0m 3ms/step\n",
            "Accuracy: 0.954957\n",
            "43/200: Noise %: 52.00013333333333, Time Warping Sigma: 0.6, Max Shift: 30\n",
            "\u001b[1m139/139\u001b[0m \u001b[32m━━━━━━━━━━━━━━━━━━━━\u001b[0m\u001b[37m\u001b[0m \u001b[1m1s\u001b[0m 6ms/step\n",
            "Accuracy: 0.954278\n",
            "44/200: Noise %: 34.00043333333334, Time Warping Sigma: 3.0, Max Shift: 29\n",
            "\u001b[1m139/139\u001b[0m \u001b[32m━━━━━━━━━━━━━━━━━━━━\u001b[0m\u001b[37m\u001b[0m \u001b[1m1s\u001b[0m 3ms/step\n",
            "Accuracy: 0.951335\n",
            "45/200: Noise %: 52.00013333333333, Time Warping Sigma: 2.8, Max Shift: 25\n",
            "\u001b[1m139/139\u001b[0m \u001b[32m━━━━━━━━━━━━━━━━━━━━\u001b[0m\u001b[37m\u001b[0m \u001b[1m1s\u001b[0m 3ms/step\n",
            "Accuracy: 0.951562\n",
            "46/200: Noise %: 48.00020000000001, Time Warping Sigma: 0.8, Max Shift: 30\n",
            "\u001b[1m139/139\u001b[0m \u001b[32m━━━━━━━━━━━━━━━━━━━━\u001b[0m\u001b[37m\u001b[0m \u001b[1m1s\u001b[0m 3ms/step\n",
            "Accuracy: 0.951335\n",
            "47/200: Noise %: 24.000600000000006, Time Warping Sigma: 1.6999999999999997, Max Shift: 32\n",
            "\u001b[1m139/139\u001b[0m \u001b[32m━━━━━━━━━━━━━━━━━━━━\u001b[0m\u001b[37m\u001b[0m \u001b[1m3s\u001b[0m 20ms/step\n",
            "Accuracy: 0.947940\n",
            "48/200: Noise %: 46.00023333333334, Time Warping Sigma: 2.5, Max Shift: 27\n",
            "\u001b[1m139/139\u001b[0m \u001b[32m━━━━━━━━━━━━━━━━━━━━\u001b[0m\u001b[37m\u001b[0m \u001b[1m1s\u001b[0m 4ms/step\n",
            "Accuracy: 0.952014\n",
            "49/200: Noise %: 38.00036666666667, Time Warping Sigma: 0.3, Max Shift: 30\n",
            "\u001b[1m139/139\u001b[0m \u001b[32m━━━━━━━━━━━━━━━━━━━━\u001b[0m\u001b[37m\u001b[0m \u001b[1m1s\u001b[0m 3ms/step\n",
            "Accuracy: 0.951562\n",
            "50/200: Noise %: 14.000766666666669, Time Warping Sigma: 1.4999999999999998, Max Shift: 25\n",
            "\u001b[1m139/139\u001b[0m \u001b[32m━━━━━━━━━━━━━━━━━━━━\u001b[0m\u001b[37m\u001b[0m \u001b[1m1s\u001b[0m 6ms/step\n",
            "Accuracy: 0.949977\n",
            "51/200: Noise %: 36.000400000000006, Time Warping Sigma: 2.7, Max Shift: 26\n",
            "\u001b[1m139/139\u001b[0m \u001b[32m━━━━━━━━━━━━━━━━━━━━\u001b[0m\u001b[37m\u001b[0m \u001b[1m3s\u001b[0m 18ms/step\n",
            "Accuracy: 0.947714\n",
            "52/200: Noise %: 24.000600000000006, Time Warping Sigma: 2.9, Max Shift: 31\n",
            "\u001b[1m139/139\u001b[0m \u001b[32m━━━━━━━━━━━━━━━━━━━━\u001b[0m\u001b[37m\u001b[0m \u001b[1m1s\u001b[0m 5ms/step\n",
            "Accuracy: 0.948846\n",
            "53/200: Noise %: 6.0009000000000015, Time Warping Sigma: 2.7, Max Shift: 17\n",
            "\u001b[1m139/139\u001b[0m \u001b[32m━━━━━━━━━━━━━━━━━━━━\u001b[0m\u001b[37m\u001b[0m \u001b[1m0s\u001b[0m 3ms/step\n",
            "Accuracy: 0.949072\n",
            "54/200: Noise %: 18.000700000000002, Time Warping Sigma: 2.7, Max Shift: 22\n",
            "\u001b[1m139/139\u001b[0m \u001b[32m━━━━━━━━━━━━━━━━━━━━\u001b[0m\u001b[37m\u001b[0m \u001b[1m0s\u001b[0m 3ms/step\n",
            "Accuracy: 0.953373\n",
            "55/200: Noise %: 34.00043333333334, Time Warping Sigma: 0.2, Max Shift: 32\n",
            "\u001b[1m139/139\u001b[0m \u001b[32m━━━━━━━━━━━━━━━━━━━━\u001b[0m\u001b[37m\u001b[0m \u001b[1m0s\u001b[0m 3ms/step\n",
            "Accuracy: 0.954052\n",
            "56/200: Noise %: 8.000866666666667, Time Warping Sigma: 2.6, Max Shift: 29\n",
            "\u001b[1m139/139\u001b[0m \u001b[32m━━━━━━━━━━━━━━━━━━━━\u001b[0m\u001b[37m\u001b[0m \u001b[1m0s\u001b[0m 3ms/step\n",
            "Accuracy: 0.953146\n",
            "57/200: Noise %: 58.000033333333334, Time Warping Sigma: 0.5, Max Shift: 24\n",
            "\u001b[1m139/139\u001b[0m \u001b[32m━━━━━━━━━━━━━━━━━━━━\u001b[0m\u001b[37m\u001b[0m \u001b[1m0s\u001b[0m 3ms/step\n",
            "Accuracy: 0.952920\n",
            "58/200: Noise %: 36.000400000000006, Time Warping Sigma: 1.0999999999999999, Max Shift: 28\n",
            "\u001b[1m139/139\u001b[0m \u001b[32m━━━━━━━━━━━━━━━━━━━━\u001b[0m\u001b[37m\u001b[0m \u001b[1m0s\u001b[0m 2ms/step\n",
            "Accuracy: 0.951562\n",
            "59/200: Noise %: 10.000833333333334, Time Warping Sigma: 3.0, Max Shift: 31\n",
            "\u001b[1m139/139\u001b[0m \u001b[32m━━━━━━━━━━━━━━━━━━━━\u001b[0m\u001b[37m\u001b[0m \u001b[1m0s\u001b[0m 2ms/step\n",
            "Accuracy: 0.954504\n",
            "60/200: Noise %: 54.0001, Time Warping Sigma: 1.0, Max Shift: 23\n",
            "\u001b[1m139/139\u001b[0m \u001b[32m━━━━━━━━━━━━━━━━━━━━\u001b[0m\u001b[37m\u001b[0m \u001b[1m1s\u001b[0m 8ms/step\n",
            "Accuracy: 0.955410\n",
            "61/200: Noise %: 30.000500000000002, Time Warping Sigma: 2.1, Max Shift: 32\n",
            "\u001b[1m139/139\u001b[0m \u001b[32m━━━━━━━━━━━━━━━━━━━━\u001b[0m\u001b[37m\u001b[0m \u001b[1m0s\u001b[0m 2ms/step\n",
            "Accuracy: 0.951109\n",
            "62/200: Noise %: 52.00013333333333, Time Warping Sigma: 1.7999999999999998, Max Shift: 30\n",
            "\u001b[1m139/139\u001b[0m \u001b[32m━━━━━━━━━━━━━━━━━━━━\u001b[0m\u001b[37m\u001b[0m \u001b[1m0s\u001b[0m 2ms/step\n",
            "Accuracy: 0.953599\n",
            "63/200: Noise %: 20.00066666666667, Time Warping Sigma: 1.4, Max Shift: 26\n",
            "\u001b[1m139/139\u001b[0m \u001b[32m━━━━━━━━━━━━━━━━━━━━\u001b[0m\u001b[37m\u001b[0m \u001b[1m1s\u001b[0m 3ms/step\n",
            "Accuracy: 0.957447\n",
            "64/200: Noise %: 28.000533333333337, Time Warping Sigma: 1.5999999999999999, Max Shift: 31\n",
            "\u001b[1m139/139\u001b[0m \u001b[32m━━━━━━━━━━━━━━━━━━━━\u001b[0m\u001b[37m\u001b[0m \u001b[1m3s\u001b[0m 24ms/step\n",
            "Accuracy: 0.949751\n",
            "65/200: Noise %: 40.00033333333334, Time Warping Sigma: 1.2999999999999998, Max Shift: 32\n",
            "\u001b[1m139/139\u001b[0m \u001b[32m━━━━━━━━━━━━━━━━━━━━\u001b[0m\u001b[37m\u001b[0m \u001b[1m1s\u001b[0m 6ms/step\n",
            "Accuracy: 0.954504\n",
            "66/200: Noise %: 58.000033333333334, Time Warping Sigma: 2.5, Max Shift: 26\n",
            "\u001b[1m139/139\u001b[0m \u001b[32m━━━━━━━━━━━━━━━━━━━━\u001b[0m\u001b[37m\u001b[0m \u001b[1m0s\u001b[0m 3ms/step\n",
            "Accuracy: 0.951335\n",
            "67/200: Noise %: 40.00033333333334, Time Warping Sigma: 1.7999999999999998, Max Shift: 23\n",
            "\u001b[1m139/139\u001b[0m \u001b[32m━━━━━━━━━━━━━━━━━━━━\u001b[0m\u001b[37m\u001b[0m \u001b[1m1s\u001b[0m 8ms/step\n",
            "Accuracy: 0.953146\n",
            "68/200: Noise %: 58.000033333333334, Time Warping Sigma: 1.9, Max Shift: 25\n",
            "\u001b[1m139/139\u001b[0m \u001b[32m━━━━━━━━━━━━━━━━━━━━\u001b[0m\u001b[37m\u001b[0m \u001b[1m0s\u001b[0m 3ms/step\n",
            "Accuracy: 0.953825\n",
            "69/200: Noise %: 28.000533333333337, Time Warping Sigma: 1.2999999999999998, Max Shift: 20\n",
            "\u001b[1m139/139\u001b[0m \u001b[32m━━━━━━━━━━━━━━━━━━━━\u001b[0m\u001b[37m\u001b[0m \u001b[1m1s\u001b[0m 3ms/step\n",
            "Accuracy: 0.956315\n",
            "70/200: Noise %: 0.001, Time Warping Sigma: 1.6999999999999997, Max Shift: 32\n",
            "\u001b[1m139/139\u001b[0m \u001b[32m━━━━━━━━━━━━━━━━━━━━\u001b[0m\u001b[37m\u001b[0m \u001b[1m2s\u001b[0m 15ms/step\n",
            "Accuracy: 0.947261\n",
            "71/200: Noise %: 22.000633333333337, Time Warping Sigma: 1.9, Max Shift: 23\n",
            "\u001b[1m139/139\u001b[0m \u001b[32m━━━━━━━━━━━━━━━━━━━━\u001b[0m\u001b[37m\u001b[0m \u001b[1m1s\u001b[0m 4ms/step\n",
            "Accuracy: 0.952467\n",
            "72/200: Noise %: 26.000566666666668, Time Warping Sigma: 2.5, Max Shift: 23\n",
            "\u001b[1m139/139\u001b[0m \u001b[32m━━━━━━━━━━━━━━━━━━━━\u001b[0m\u001b[37m\u001b[0m \u001b[1m0s\u001b[0m 3ms/step\n",
            "Accuracy: 0.952014\n",
            "73/200: Noise %: 50.000166666666665, Time Warping Sigma: 0.3, Max Shift: 21\n",
            "\u001b[1m139/139\u001b[0m \u001b[32m━━━━━━━━━━━━━━━━━━━━\u001b[0m\u001b[37m\u001b[0m \u001b[1m3s\u001b[0m 18ms/step\n",
            "Accuracy: 0.955183\n",
            "74/200: Noise %: 40.00033333333334, Time Warping Sigma: 2.9, Max Shift: 19\n",
            "\u001b[1m139/139\u001b[0m \u001b[32m━━━━━━━━━━━━━━━━━━━━\u001b[0m\u001b[37m\u001b[0m \u001b[1m1s\u001b[0m 7ms/step\n",
            "Accuracy: 0.950883\n",
            "75/200: Noise %: 28.000533333333337, Time Warping Sigma: 1.0, Max Shift: 20\n",
            "\u001b[1m139/139\u001b[0m \u001b[32m━━━━━━━━━━━━━━━━━━━━\u001b[0m\u001b[37m\u001b[0m \u001b[1m1s\u001b[0m 3ms/step\n",
            "Accuracy: 0.947714\n",
            "76/200: Noise %: 28.000533333333337, Time Warping Sigma: 1.0, Max Shift: 18\n",
            "\u001b[1m139/139\u001b[0m \u001b[32m━━━━━━━━━━━━━━━━━━━━\u001b[0m\u001b[37m\u001b[0m \u001b[1m1s\u001b[0m 3ms/step\n",
            "Accuracy: 0.953146\n",
            "77/200: Noise %: 44.00026666666667, Time Warping Sigma: 1.5999999999999999, Max Shift: 24\n",
            "\u001b[1m139/139\u001b[0m \u001b[32m━━━━━━━━━━━━━━━━━━━━\u001b[0m\u001b[37m\u001b[0m \u001b[1m1s\u001b[0m 3ms/step\n",
            "Accuracy: 0.951335\n",
            "78/200: Noise %: 58.000033333333334, Time Warping Sigma: 1.7999999999999998, Max Shift: 29\n",
            "\u001b[1m139/139\u001b[0m \u001b[32m━━━━━━━━━━━━━━━━━━━━\u001b[0m\u001b[37m\u001b[0m \u001b[1m1s\u001b[0m 3ms/step\n",
            "Accuracy: 0.953146\n",
            "79/200: Noise %: 56.00006666666667, Time Warping Sigma: 2.4, Max Shift: 34\n",
            "\u001b[1m139/139\u001b[0m \u001b[32m━━━━━━━━━━━━━━━━━━━━\u001b[0m\u001b[37m\u001b[0m \u001b[1m1s\u001b[0m 3ms/step\n",
            "Accuracy: 0.953599\n",
            "80/200: Noise %: 36.000400000000006, Time Warping Sigma: 1.9999999999999998, Max Shift: 18\n",
            "\u001b[1m139/139\u001b[0m \u001b[32m━━━━━━━━━━━━━━━━━━━━\u001b[0m\u001b[37m\u001b[0m \u001b[1m1s\u001b[0m 5ms/step\n",
            "Accuracy: 0.950204\n",
            "81/200: Noise %: 28.000533333333337, Time Warping Sigma: 2.3, Max Shift: 32\n",
            "\u001b[1m139/139\u001b[0m \u001b[32m━━━━━━━━━━━━━━━━━━━━\u001b[0m\u001b[37m\u001b[0m \u001b[1m1s\u001b[0m 3ms/step\n",
            "Accuracy: 0.952694\n",
            "82/200: Noise %: 10.000833333333334, Time Warping Sigma: 0.7, Max Shift: 20\n",
            "\u001b[1m139/139\u001b[0m \u001b[32m━━━━━━━━━━━━━━━━━━━━\u001b[0m\u001b[37m\u001b[0m \u001b[1m1s\u001b[0m 3ms/step\n",
            "Accuracy: 0.955636\n",
            "83/200: Noise %: 14.000766666666669, Time Warping Sigma: 1.9999999999999998, Max Shift: 23\n",
            "\u001b[1m139/139\u001b[0m \u001b[32m━━━━━━━━━━━━━━━━━━━━\u001b[0m\u001b[37m\u001b[0m \u001b[1m0s\u001b[0m 3ms/step\n",
            "Accuracy: 0.949751\n",
            "84/200: Noise %: 14.000766666666669, Time Warping Sigma: 0.8, Max Shift: 23\n",
            "\u001b[1m139/139\u001b[0m \u001b[32m━━━━━━━━━━━━━━━━━━━━\u001b[0m\u001b[37m\u001b[0m \u001b[1m1s\u001b[0m 3ms/step\n",
            "Accuracy: 0.955862\n",
            "85/200: Noise %: 48.00020000000001, Time Warping Sigma: 0.8, Max Shift: 25\n",
            "\u001b[1m139/139\u001b[0m \u001b[32m━━━━━━━━━━━━━━━━━━━━\u001b[0m\u001b[37m\u001b[0m \u001b[1m0s\u001b[0m 3ms/step\n",
            "Accuracy: 0.953825\n",
            "86/200: Noise %: 50.000166666666665, Time Warping Sigma: 1.9, Max Shift: 17\n",
            "\u001b[1m139/139\u001b[0m \u001b[32m━━━━━━━━━━━━━━━━━━━━\u001b[0m\u001b[37m\u001b[0m \u001b[1m1s\u001b[0m 3ms/step\n",
            "Accuracy: 0.954731\n",
            "87/200: Noise %: 30.000500000000002, Time Warping Sigma: 1.2, Max Shift: 17\n",
            "\u001b[1m139/139\u001b[0m \u001b[32m━━━━━━━━━━━━━━━━━━━━\u001b[0m\u001b[37m\u001b[0m \u001b[1m0s\u001b[0m 3ms/step\n",
            "Accuracy: 0.947714\n",
            "88/200: Noise %: 54.0001, Time Warping Sigma: 0.2, Max Shift: 33\n",
            "\u001b[1m139/139\u001b[0m \u001b[32m━━━━━━━━━━━━━━━━━━━━\u001b[0m\u001b[37m\u001b[0m \u001b[1m1s\u001b[0m 7ms/step\n",
            "Accuracy: 0.956089\n",
            "89/200: Noise %: 56.00006666666667, Time Warping Sigma: 1.9999999999999998, Max Shift: 34\n",
            "\u001b[1m139/139\u001b[0m \u001b[32m━━━━━━━━━━━━━━━━━━━━\u001b[0m\u001b[37m\u001b[0m \u001b[1m1s\u001b[0m 4ms/step\n",
            "Accuracy: 0.951335\n",
            "90/200: Noise %: 32.00046666666667, Time Warping Sigma: 1.6999999999999997, Max Shift: 23\n",
            "\u001b[1m139/139\u001b[0m \u001b[32m━━━━━━━━━━━━━━━━━━━━\u001b[0m\u001b[37m\u001b[0m \u001b[1m1s\u001b[0m 5ms/step\n",
            "Accuracy: 0.956315\n",
            "91/200: Noise %: 18.000700000000002, Time Warping Sigma: 0.7, Max Shift: 18\n",
            "\u001b[1m139/139\u001b[0m \u001b[32m━━━━━━━━━━━━━━━━━━━━\u001b[0m\u001b[37m\u001b[0m \u001b[1m0s\u001b[0m 3ms/step\n",
            "Accuracy: 0.952694\n",
            "92/200: Noise %: 42.00030000000001, Time Warping Sigma: 1.7999999999999998, Max Shift: 17\n",
            "\u001b[1m139/139\u001b[0m \u001b[32m━━━━━━━━━━━━━━━━━━━━\u001b[0m\u001b[37m\u001b[0m \u001b[1m0s\u001b[0m 3ms/step\n",
            "Accuracy: 0.949298\n",
            "93/200: Noise %: 48.00020000000001, Time Warping Sigma: 1.7999999999999998, Max Shift: 28\n",
            "\u001b[1m139/139\u001b[0m \u001b[32m━━━━━━━━━━━━━━━━━━━━\u001b[0m\u001b[37m\u001b[0m \u001b[1m1s\u001b[0m 3ms/step\n",
            "Accuracy: 0.951788\n",
            "94/200: Noise %: 22.000633333333337, Time Warping Sigma: 2.9, Max Shift: 20\n",
            "\u001b[1m139/139\u001b[0m \u001b[32m━━━━━━━━━━━━━━━━━━━━\u001b[0m\u001b[37m\u001b[0m \u001b[1m2s\u001b[0m 11ms/step\n",
            "Accuracy: 0.947488\n",
            "95/200: Noise %: 6.0009000000000015, Time Warping Sigma: 0.8999999999999999, Max Shift: 25\n",
            "\u001b[1m139/139\u001b[0m \u001b[32m━━━━━━━━━━━━━━━━━━━━\u001b[0m\u001b[37m\u001b[0m \u001b[1m1s\u001b[0m 3ms/step\n",
            "Accuracy: 0.955636\n",
            "96/200: Noise %: 58.000033333333334, Time Warping Sigma: 0.6, Max Shift: 32\n",
            "\u001b[1m139/139\u001b[0m \u001b[32m━━━━━━━━━━━━━━━━━━━━\u001b[0m\u001b[37m\u001b[0m \u001b[1m1s\u001b[0m 4ms/step\n",
            "Accuracy: 0.953599\n",
            "97/200: Noise %: 12.000800000000002, Time Warping Sigma: 2.1999999999999997, Max Shift: 21\n",
            "\u001b[1m139/139\u001b[0m \u001b[32m━━━━━━━━━━━━━━━━━━━━\u001b[0m\u001b[37m\u001b[0m \u001b[1m1s\u001b[0m 5ms/step\n",
            "Accuracy: 0.955183\n",
            "98/200: Noise %: 8.000866666666667, Time Warping Sigma: 1.9999999999999998, Max Shift: 25\n",
            "\u001b[1m139/139\u001b[0m \u001b[32m━━━━━━━━━━━━━━━━━━━━\u001b[0m\u001b[37m\u001b[0m \u001b[1m1s\u001b[0m 4ms/step\n",
            "Accuracy: 0.948846\n",
            "99/200: Noise %: 30.000500000000002, Time Warping Sigma: 1.9999999999999998, Max Shift: 31\n",
            "\u001b[1m139/139\u001b[0m \u001b[32m━━━━━━━━━━━━━━━━━━━━\u001b[0m\u001b[37m\u001b[0m \u001b[1m0s\u001b[0m 3ms/step\n",
            "Accuracy: 0.951562\n",
            "100/200: Noise %: 60.0, Time Warping Sigma: 2.1, Max Shift: 29\n",
            "\u001b[1m139/139\u001b[0m \u001b[32m━━━━━━━━━━━━━━━━━━━━\u001b[0m\u001b[37m\u001b[0m \u001b[1m1s\u001b[0m 5ms/step\n",
            "Accuracy: 0.949751\n",
            "101/200: Noise %: 34.00043333333334, Time Warping Sigma: 3.0, Max Shift: 19\n",
            "\u001b[1m139/139\u001b[0m \u001b[32m━━━━━━━━━━━━━━━━━━━━\u001b[0m\u001b[37m\u001b[0m \u001b[1m2s\u001b[0m 12ms/step\n",
            "Accuracy: 0.952241\n",
            "102/200: Noise %: 46.00023333333334, Time Warping Sigma: 2.6, Max Shift: 27\n",
            "\u001b[1m139/139\u001b[0m \u001b[32m━━━━━━━━━━━━━━━━━━━━\u001b[0m\u001b[37m\u001b[0m \u001b[1m1s\u001b[0m 4ms/step\n",
            "Accuracy: 0.950204\n",
            "103/200: Noise %: 54.0001, Time Warping Sigma: 0.2, Max Shift: 32\n",
            "\u001b[1m139/139\u001b[0m \u001b[32m━━━━━━━━━━━━━━━━━━━━\u001b[0m\u001b[37m\u001b[0m \u001b[1m1s\u001b[0m 4ms/step\n",
            "Accuracy: 0.950656\n",
            "104/200: Noise %: 4.000933333333334, Time Warping Sigma: 0.5, Max Shift: 19\n",
            "\u001b[1m139/139\u001b[0m \u001b[32m━━━━━━━━━━━━━━━━━━━━\u001b[0m\u001b[37m\u001b[0m \u001b[1m0s\u001b[0m 3ms/step\n",
            "Accuracy: 0.950204\n",
            "105/200: Noise %: 46.00023333333334, Time Warping Sigma: 1.0, Max Shift: 34\n",
            "\u001b[1m139/139\u001b[0m \u001b[32m━━━━━━━━━━━━━━━━━━━━\u001b[0m\u001b[37m\u001b[0m \u001b[1m1s\u001b[0m 3ms/step\n",
            "Accuracy: 0.952920\n",
            "106/200: Noise %: 32.00046666666667, Time Warping Sigma: 2.7, Max Shift: 32\n",
            "\u001b[1m139/139\u001b[0m \u001b[32m━━━━━━━━━━━━━━━━━━━━\u001b[0m\u001b[37m\u001b[0m \u001b[1m1s\u001b[0m 4ms/step\n",
            "Accuracy: 0.954957\n",
            "107/200: Noise %: 26.000566666666668, Time Warping Sigma: 0.5, Max Shift: 26\n",
            "\u001b[1m139/139\u001b[0m \u001b[32m━━━━━━━━━━━━━━━━━━━━\u001b[0m\u001b[37m\u001b[0m \u001b[1m1s\u001b[0m 3ms/step\n",
            "Accuracy: 0.954504\n",
            "108/200: Noise %: 52.00013333333333, Time Warping Sigma: 0.3, Max Shift: 25\n",
            "\u001b[1m139/139\u001b[0m \u001b[32m━━━━━━━━━━━━━━━━━━━━\u001b[0m\u001b[37m\u001b[0m \u001b[1m0s\u001b[0m 3ms/step\n",
            "Accuracy: 0.954052\n",
            "109/200: Noise %: 34.00043333333334, Time Warping Sigma: 2.6, Max Shift: 30\n",
            "\u001b[1m139/139\u001b[0m \u001b[32m━━━━━━━━━━━━━━━━━━━━\u001b[0m\u001b[37m\u001b[0m \u001b[1m1s\u001b[0m 3ms/step\n",
            "Accuracy: 0.955183\n",
            "110/200: Noise %: 50.000166666666665, Time Warping Sigma: 0.8, Max Shift: 23\n",
            "\u001b[1m139/139\u001b[0m \u001b[32m━━━━━━━━━━━━━━━━━━━━\u001b[0m\u001b[37m\u001b[0m \u001b[1m2s\u001b[0m 13ms/step\n",
            "Accuracy: 0.955636\n",
            "111/200: Noise %: 14.000766666666669, Time Warping Sigma: 2.1999999999999997, Max Shift: 20\n",
            "\u001b[1m139/139\u001b[0m \u001b[32m━━━━━━━━━━━━━━━━━━━━\u001b[0m\u001b[37m\u001b[0m \u001b[1m1s\u001b[0m 3ms/step\n",
            "Accuracy: 0.953825\n",
            "112/200: Noise %: 20.00066666666667, Time Warping Sigma: 1.6999999999999997, Max Shift: 24\n",
            "\u001b[1m139/139\u001b[0m \u001b[32m━━━━━━━━━━━━━━━━━━━━\u001b[0m\u001b[37m\u001b[0m \u001b[1m0s\u001b[0m 3ms/step\n",
            "Accuracy: 0.954278\n",
            "113/200: Noise %: 16.000733333333336, Time Warping Sigma: 1.0, Max Shift: 33\n",
            "\u001b[1m139/139\u001b[0m \u001b[32m━━━━━━━━━━━━━━━━━━━━\u001b[0m\u001b[37m\u001b[0m \u001b[1m1s\u001b[0m 4ms/step\n",
            "Accuracy: 0.953825\n",
            "114/200: Noise %: 26.000566666666668, Time Warping Sigma: 2.3, Max Shift: 22\n",
            "\u001b[1m139/139\u001b[0m \u001b[32m━━━━━━━━━━━━━━━━━━━━\u001b[0m\u001b[37m\u001b[0m \u001b[1m0s\u001b[0m 3ms/step\n",
            "Accuracy: 0.949977\n",
            "115/200: Noise %: 12.000800000000002, Time Warping Sigma: 2.1999999999999997, Max Shift: 22\n",
            "\u001b[1m139/139\u001b[0m \u001b[32m━━━━━━━━━━━━━━━━━━━━\u001b[0m\u001b[37m\u001b[0m \u001b[1m1s\u001b[0m 3ms/step\n",
            "Accuracy: 0.955636\n",
            "116/200: Noise %: 50.000166666666665, Time Warping Sigma: 0.8999999999999999, Max Shift: 23\n",
            "\u001b[1m139/139\u001b[0m \u001b[32m━━━━━━━━━━━━━━━━━━━━\u001b[0m\u001b[37m\u001b[0m \u001b[1m1s\u001b[0m 3ms/step\n",
            "Accuracy: 0.955862\n",
            "117/200: Noise %: 36.000400000000006, Time Warping Sigma: 0.5, Max Shift: 29\n",
            "\u001b[1m139/139\u001b[0m \u001b[32m━━━━━━━━━━━━━━━━━━━━\u001b[0m\u001b[37m\u001b[0m \u001b[1m1s\u001b[0m 3ms/step\n",
            "Accuracy: 0.950883\n",
            "118/200: Noise %: 4.000933333333334, Time Warping Sigma: 2.8, Max Shift: 32\n",
            "\u001b[1m139/139\u001b[0m \u001b[32m━━━━━━━━━━━━━━━━━━━━\u001b[0m\u001b[37m\u001b[0m \u001b[1m0s\u001b[0m 3ms/step\n",
            "Accuracy: 0.952694\n",
            "119/200: Noise %: 4.000933333333334, Time Warping Sigma: 1.9999999999999998, Max Shift: 18\n",
            "\u001b[1m139/139\u001b[0m \u001b[32m━━━━━━━━━━━━━━━━━━━━\u001b[0m\u001b[37m\u001b[0m \u001b[1m0s\u001b[0m 3ms/step\n",
            "Accuracy: 0.956089\n",
            "120/200: Noise %: 48.00020000000001, Time Warping Sigma: 2.1999999999999997, Max Shift: 28\n",
            "\u001b[1m139/139\u001b[0m \u001b[32m━━━━━━━━━━━━━━━━━━━━\u001b[0m\u001b[37m\u001b[0m \u001b[1m1s\u001b[0m 3ms/step\n",
            "Accuracy: 0.944092\n",
            "121/200: Noise %: 38.00036666666667, Time Warping Sigma: 0.6, Max Shift: 32\n",
            "\u001b[1m139/139\u001b[0m \u001b[32m━━━━━━━━━━━━━━━━━━━━\u001b[0m\u001b[37m\u001b[0m \u001b[1m0s\u001b[0m 3ms/step\n",
            "Accuracy: 0.953599\n",
            "122/200: Noise %: 14.000766666666669, Time Warping Sigma: 2.1999999999999997, Max Shift: 21\n",
            "\u001b[1m139/139\u001b[0m \u001b[32m━━━━━━━━━━━━━━━━━━━━\u001b[0m\u001b[37m\u001b[0m \u001b[1m1s\u001b[0m 3ms/step\n",
            "Accuracy: 0.954504\n",
            "123/200: Noise %: 22.000633333333337, Time Warping Sigma: 2.7, Max Shift: 30\n",
            "\u001b[1m139/139\u001b[0m \u001b[32m━━━━━━━━━━━━━━━━━━━━\u001b[0m\u001b[37m\u001b[0m \u001b[1m0s\u001b[0m 3ms/step\n",
            "Accuracy: 0.952920\n",
            "124/200: Noise %: 6.0009000000000015, Time Warping Sigma: 1.9, Max Shift: 23\n",
            "\u001b[1m139/139\u001b[0m \u001b[32m━━━━━━━━━━━━━━━━━━━━\u001b[0m\u001b[37m\u001b[0m \u001b[1m0s\u001b[0m 3ms/step\n",
            "Accuracy: 0.954052\n",
            "125/200: Noise %: 48.00020000000001, Time Warping Sigma: 2.1, Max Shift: 18\n",
            "\u001b[1m139/139\u001b[0m \u001b[32m━━━━━━━━━━━━━━━━━━━━\u001b[0m\u001b[37m\u001b[0m \u001b[1m0s\u001b[0m 3ms/step\n",
            "Accuracy: 0.951788\n",
            "126/200: Noise %: 20.00066666666667, Time Warping Sigma: 1.2999999999999998, Max Shift: 17\n",
            "\u001b[1m139/139\u001b[0m \u001b[32m━━━━━━━━━━━━━━━━━━━━\u001b[0m\u001b[37m\u001b[0m \u001b[1m3s\u001b[0m 19ms/step\n",
            "Accuracy: 0.954504\n",
            "127/200: Noise %: 52.00013333333333, Time Warping Sigma: 0.6, Max Shift: 33\n",
            "\u001b[1m139/139\u001b[0m \u001b[32m━━━━━━━━━━━━━━━━━━━━\u001b[0m\u001b[37m\u001b[0m \u001b[1m0s\u001b[0m 3ms/step\n",
            "Accuracy: 0.953599\n",
            "128/200: Noise %: 54.0001, Time Warping Sigma: 1.6999999999999997, Max Shift: 23\n",
            "\u001b[1m139/139\u001b[0m \u001b[32m━━━━━━━━━━━━━━━━━━━━\u001b[0m\u001b[37m\u001b[0m \u001b[1m0s\u001b[0m 3ms/step\n",
            "Accuracy: 0.953373\n",
            "129/200: Noise %: 30.000500000000002, Time Warping Sigma: 1.5999999999999999, Max Shift: 27\n",
            "\u001b[1m139/139\u001b[0m \u001b[32m━━━━━━━━━━━━━━━━━━━━\u001b[0m\u001b[37m\u001b[0m \u001b[1m1s\u001b[0m 9ms/step\n",
            "Accuracy: 0.946809\n",
            "130/200: Noise %: 46.00023333333334, Time Warping Sigma: 2.4, Max Shift: 17\n",
            "\u001b[1m139/139\u001b[0m \u001b[32m━━━━━━━━━━━━━━━━━━━━\u001b[0m\u001b[37m\u001b[0m \u001b[1m1s\u001b[0m 3ms/step\n",
            "Accuracy: 0.951335\n",
            "131/200: Noise %: 12.000800000000002, Time Warping Sigma: 0.4, Max Shift: 32\n",
            "\u001b[1m139/139\u001b[0m \u001b[32m━━━━━━━━━━━━━━━━━━━━\u001b[0m\u001b[37m\u001b[0m \u001b[1m0s\u001b[0m 3ms/step\n",
            "Accuracy: 0.951562\n",
            "132/200: Noise %: 46.00023333333334, Time Warping Sigma: 0.3, Max Shift: 33\n",
            "\u001b[1m139/139\u001b[0m \u001b[32m━━━━━━━━━━━━━━━━━━━━\u001b[0m\u001b[37m\u001b[0m \u001b[1m1s\u001b[0m 3ms/step\n",
            "Accuracy: 0.950204\n",
            "133/200: Noise %: 34.00043333333334, Time Warping Sigma: 3.0, Max Shift: 30\n",
            "\u001b[1m139/139\u001b[0m \u001b[32m━━━━━━━━━━━━━━━━━━━━\u001b[0m\u001b[37m\u001b[0m \u001b[1m1s\u001b[0m 3ms/step\n",
            "Accuracy: 0.951562\n",
            "134/200: Noise %: 10.000833333333334, Time Warping Sigma: 0.4, Max Shift: 18\n",
            "\u001b[1m139/139\u001b[0m \u001b[32m━━━━━━━━━━━━━━━━━━━━\u001b[0m\u001b[37m\u001b[0m \u001b[1m0s\u001b[0m 2ms/step\n",
            "Accuracy: 0.956089\n",
            "135/200: Noise %: 48.00020000000001, Time Warping Sigma: 0.6, Max Shift: 29\n",
            "\u001b[1m139/139\u001b[0m \u001b[32m━━━━━━━━━━━━━━━━━━━━\u001b[0m\u001b[37m\u001b[0m \u001b[1m0s\u001b[0m 3ms/step\n",
            "Accuracy: 0.953599\n",
            "136/200: Noise %: 10.000833333333334, Time Warping Sigma: 2.5, Max Shift: 25\n",
            "\u001b[1m139/139\u001b[0m \u001b[32m━━━━━━━━━━━━━━━━━━━━\u001b[0m\u001b[37m\u001b[0m \u001b[1m2s\u001b[0m 12ms/step\n",
            "Accuracy: 0.947940\n",
            "137/200: Noise %: 46.00023333333334, Time Warping Sigma: 1.6999999999999997, Max Shift: 30\n",
            "\u001b[1m139/139\u001b[0m \u001b[32m━━━━━━━━━━━━━━━━━━━━\u001b[0m\u001b[37m\u001b[0m \u001b[1m1s\u001b[0m 3ms/step\n",
            "Accuracy: 0.948167\n",
            "138/200: Noise %: 12.000800000000002, Time Warping Sigma: 1.0, Max Shift: 25\n",
            "\u001b[1m139/139\u001b[0m \u001b[32m━━━━━━━━━━━━━━━━━━━━\u001b[0m\u001b[37m\u001b[0m \u001b[1m1s\u001b[0m 3ms/step\n",
            "Accuracy: 0.947488\n",
            "139/200: Noise %: 60.0, Time Warping Sigma: 0.8, Max Shift: 25\n",
            "\u001b[1m139/139\u001b[0m \u001b[32m━━━━━━━━━━━━━━━━━━━━\u001b[0m\u001b[37m\u001b[0m \u001b[1m1s\u001b[0m 3ms/step\n",
            "Accuracy: 0.945903\n",
            "140/200: Noise %: 30.000500000000002, Time Warping Sigma: 1.5999999999999999, Max Shift: 17\n",
            "\u001b[1m139/139\u001b[0m \u001b[32m━━━━━━━━━━━━━━━━━━━━\u001b[0m\u001b[37m\u001b[0m \u001b[1m1s\u001b[0m 3ms/step\n",
            "Accuracy: 0.953146\n",
            "141/200: Noise %: 22.000633333333337, Time Warping Sigma: 2.8, Max Shift: 28\n",
            "\u001b[1m139/139\u001b[0m \u001b[32m━━━━━━━━━━━━━━━━━━━━\u001b[0m\u001b[37m\u001b[0m \u001b[1m1s\u001b[0m 5ms/step\n",
            "Accuracy: 0.957220\n",
            "142/200: Noise %: 54.0001, Time Warping Sigma: 2.3, Max Shift: 33\n",
            "\u001b[1m139/139\u001b[0m \u001b[32m━━━━━━━━━━━━━━━━━━━━\u001b[0m\u001b[37m\u001b[0m \u001b[1m1s\u001b[0m 3ms/step\n",
            "Accuracy: 0.944771\n",
            "143/200: Noise %: 38.00036666666667, Time Warping Sigma: 1.0, Max Shift: 20\n",
            "\u001b[1m139/139\u001b[0m \u001b[32m━━━━━━━━━━━━━━━━━━━━\u001b[0m\u001b[37m\u001b[0m \u001b[1m1s\u001b[0m 3ms/step\n",
            "Accuracy: 0.954278\n",
            "144/200: Noise %: 18.000700000000002, Time Warping Sigma: 0.3, Max Shift: 23\n",
            "\u001b[1m139/139\u001b[0m \u001b[32m━━━━━━━━━━━━━━━━━━━━\u001b[0m\u001b[37m\u001b[0m \u001b[1m1s\u001b[0m 3ms/step\n",
            "Accuracy: 0.951335\n",
            "145/200: Noise %: 30.000500000000002, Time Warping Sigma: 1.9, Max Shift: 32\n",
            "\u001b[1m139/139\u001b[0m \u001b[32m━━━━━━━━━━━━━━━━━━━━\u001b[0m\u001b[37m\u001b[0m \u001b[1m1s\u001b[0m 3ms/step\n",
            "Accuracy: 0.954731\n",
            "146/200: Noise %: 16.000733333333336, Time Warping Sigma: 1.9999999999999998, Max Shift: 22\n",
            "\u001b[1m139/139\u001b[0m \u001b[32m━━━━━━━━━━━━━━━━━━━━\u001b[0m\u001b[37m\u001b[0m \u001b[1m1s\u001b[0m 3ms/step\n",
            "Accuracy: 0.949977\n",
            "147/200: Noise %: 2.000966666666667, Time Warping Sigma: 2.6, Max Shift: 29\n",
            "\u001b[1m139/139\u001b[0m \u001b[32m━━━━━━━━━━━━━━━━━━━━\u001b[0m\u001b[37m\u001b[0m \u001b[1m1s\u001b[0m 3ms/step\n",
            "Accuracy: 0.945903\n",
            "148/200: Noise %: 4.000933333333334, Time Warping Sigma: 0.8999999999999999, Max Shift: 32\n",
            "\u001b[1m139/139\u001b[0m \u001b[32m━━━━━━━━━━━━━━━━━━━━\u001b[0m\u001b[37m\u001b[0m \u001b[1m1s\u001b[0m 4ms/step\n",
            "Accuracy: 0.954957\n",
            "149/200: Noise %: 4.000933333333334, Time Warping Sigma: 0.2, Max Shift: 21\n",
            "\u001b[1m139/139\u001b[0m \u001b[32m━━━━━━━━━━━━━━━━━━━━\u001b[0m\u001b[37m\u001b[0m \u001b[1m2s\u001b[0m 15ms/step\n",
            "Accuracy: 0.956315\n",
            "150/200: Noise %: 44.00026666666667, Time Warping Sigma: 2.1, Max Shift: 17\n",
            "\u001b[1m139/139\u001b[0m \u001b[32m━━━━━━━━━━━━━━━━━━━━\u001b[0m\u001b[37m\u001b[0m \u001b[1m1s\u001b[0m 3ms/step\n",
            "Accuracy: 0.948619\n",
            "151/200: Noise %: 36.000400000000006, Time Warping Sigma: 1.6999999999999997, Max Shift: 24\n",
            "\u001b[1m139/139\u001b[0m \u001b[32m━━━━━━━━━━━━━━━━━━━━\u001b[0m\u001b[37m\u001b[0m \u001b[1m0s\u001b[0m 3ms/step\n",
            "Accuracy: 0.950883\n",
            "152/200: Noise %: 18.000700000000002, Time Warping Sigma: 3.0, Max Shift: 17\n",
            "\u001b[1m139/139\u001b[0m \u001b[32m━━━━━━━━━━━━━━━━━━━━\u001b[0m\u001b[37m\u001b[0m \u001b[1m1s\u001b[0m 3ms/step\n",
            "Accuracy: 0.954957\n",
            "153/200: Noise %: 38.00036666666667, Time Warping Sigma: 2.4, Max Shift: 25\n",
            "\u001b[1m139/139\u001b[0m \u001b[32m━━━━━━━━━━━━━━━━━━━━\u001b[0m\u001b[37m\u001b[0m \u001b[1m1s\u001b[0m 3ms/step\n",
            "Accuracy: 0.956315\n",
            "154/200: Noise %: 10.000833333333334, Time Warping Sigma: 2.1999999999999997, Max Shift: 33\n",
            "\u001b[1m139/139\u001b[0m \u001b[32m━━━━━━━━━━━━━━━━━━━━\u001b[0m\u001b[37m\u001b[0m \u001b[1m0s\u001b[0m 3ms/step\n",
            "Accuracy: 0.951562\n",
            "155/200: Noise %: 38.00036666666667, Time Warping Sigma: 2.3, Max Shift: 33\n",
            "\u001b[1m139/139\u001b[0m \u001b[32m━━━━━━━━━━━━━━━━━━━━\u001b[0m\u001b[37m\u001b[0m \u001b[1m1s\u001b[0m 4ms/step\n",
            "Accuracy: 0.951788\n",
            "156/200: Noise %: 40.00033333333334, Time Warping Sigma: 2.8, Max Shift: 32\n",
            "\u001b[1m139/139\u001b[0m \u001b[32m━━━━━━━━━━━━━━━━━━━━\u001b[0m\u001b[37m\u001b[0m \u001b[1m1s\u001b[0m 3ms/step\n",
            "Accuracy: 0.951788\n",
            "157/200: Noise %: 48.00020000000001, Time Warping Sigma: 2.7, Max Shift: 20\n",
            "\u001b[1m139/139\u001b[0m \u001b[32m━━━━━━━━━━━━━━━━━━━━\u001b[0m\u001b[37m\u001b[0m \u001b[1m0s\u001b[0m 3ms/step\n",
            "Accuracy: 0.950883\n",
            "158/200: Noise %: 22.000633333333337, Time Warping Sigma: 2.9, Max Shift: 24\n",
            "\u001b[1m139/139\u001b[0m \u001b[32m━━━━━━━━━━━━━━━━━━━━\u001b[0m\u001b[37m\u001b[0m \u001b[1m2s\u001b[0m 13ms/step\n",
            "Accuracy: 0.949751\n",
            "159/200: Noise %: 24.000600000000006, Time Warping Sigma: 2.7, Max Shift: 30\n",
            "\u001b[1m139/139\u001b[0m \u001b[32m━━━━━━━━━━━━━━━━━━━━\u001b[0m\u001b[37m\u001b[0m \u001b[1m0s\u001b[0m 3ms/step\n",
            "Accuracy: 0.950430\n",
            "160/200: Noise %: 10.000833333333334, Time Warping Sigma: 1.2, Max Shift: 29\n",
            "\u001b[1m139/139\u001b[0m \u001b[32m━━━━━━━━━━━━━━━━━━━━\u001b[0m\u001b[37m\u001b[0m \u001b[1m0s\u001b[0m 3ms/step\n",
            "Accuracy: 0.952014\n",
            "161/200: Noise %: 60.0, Time Warping Sigma: 0.7, Max Shift: 26\n",
            "\u001b[1m139/139\u001b[0m \u001b[32m━━━━━━━━━━━━━━━━━━━━\u001b[0m\u001b[37m\u001b[0m \u001b[1m1s\u001b[0m 9ms/step\n",
            "Accuracy: 0.955183\n",
            "162/200: Noise %: 60.0, Time Warping Sigma: 2.8, Max Shift: 31\n",
            "\u001b[1m139/139\u001b[0m \u001b[32m━━━━━━━━━━━━━━━━━━━━\u001b[0m\u001b[37m\u001b[0m \u001b[1m0s\u001b[0m 3ms/step\n",
            "Accuracy: 0.954278\n",
            "163/200: Noise %: 40.00033333333334, Time Warping Sigma: 2.1999999999999997, Max Shift: 31\n",
            "\u001b[1m139/139\u001b[0m \u001b[32m━━━━━━━━━━━━━━━━━━━━\u001b[0m\u001b[37m\u001b[0m \u001b[1m0s\u001b[0m 3ms/step\n",
            "Accuracy: 0.954957\n",
            "164/200: Noise %: 28.000533333333337, Time Warping Sigma: 1.4, Max Shift: 27\n",
            "\u001b[1m139/139\u001b[0m \u001b[32m━━━━━━━━━━━━━━━━━━━━\u001b[0m\u001b[37m\u001b[0m \u001b[1m1s\u001b[0m 5ms/step\n",
            "Accuracy: 0.953373\n",
            "165/200: Noise %: 28.000533333333337, Time Warping Sigma: 0.4, Max Shift: 23\n",
            "\u001b[1m139/139\u001b[0m \u001b[32m━━━━━━━━━━━━━━━━━━━━\u001b[0m\u001b[37m\u001b[0m \u001b[1m0s\u001b[0m 3ms/step\n",
            "Accuracy: 0.954278\n",
            "166/200: Noise %: 40.00033333333334, Time Warping Sigma: 0.2, Max Shift: 21\n",
            "\u001b[1m139/139\u001b[0m \u001b[32m━━━━━━━━━━━━━━━━━━━━\u001b[0m\u001b[37m\u001b[0m \u001b[1m1s\u001b[0m 5ms/step\n",
            "Accuracy: 0.953599\n",
            "167/200: Noise %: 8.000866666666667, Time Warping Sigma: 1.6999999999999997, Max Shift: 18\n",
            "\u001b[1m139/139\u001b[0m \u001b[32m━━━━━━━━━━━━━━━━━━━━\u001b[0m\u001b[37m\u001b[0m \u001b[1m1s\u001b[0m 7ms/step\n",
            "Accuracy: 0.952241\n",
            "168/200: Noise %: 40.00033333333334, Time Warping Sigma: 0.2, Max Shift: 29\n",
            "\u001b[1m139/139\u001b[0m \u001b[32m━━━━━━━━━━━━━━━━━━━━\u001b[0m\u001b[37m\u001b[0m \u001b[1m0s\u001b[0m 3ms/step\n",
            "Accuracy: 0.947488\n",
            "169/200: Noise %: 28.000533333333337, Time Warping Sigma: 2.1, Max Shift: 17\n",
            "\u001b[1m139/139\u001b[0m \u001b[32m━━━━━━━━━━━━━━━━━━━━\u001b[0m\u001b[37m\u001b[0m \u001b[1m1s\u001b[0m 4ms/step\n",
            "Accuracy: 0.952241\n",
            "170/200: Noise %: 0.001, Time Warping Sigma: 1.0999999999999999, Max Shift: 31\n",
            "\u001b[1m139/139\u001b[0m \u001b[32m━━━━━━━━━━━━━━━━━━━━\u001b[0m\u001b[37m\u001b[0m \u001b[1m1s\u001b[0m 3ms/step\n",
            "Accuracy: 0.949072\n",
            "171/200: Noise %: 34.00043333333334, Time Warping Sigma: 1.5999999999999999, Max Shift: 22\n",
            "\u001b[1m139/139\u001b[0m \u001b[32m━━━━━━━━━━━━━━━━━━━━\u001b[0m\u001b[37m\u001b[0m \u001b[1m0s\u001b[0m 3ms/step\n",
            "Accuracy: 0.954957\n",
            "172/200: Noise %: 4.000933333333334, Time Warping Sigma: 2.9, Max Shift: 18\n",
            "\u001b[1m139/139\u001b[0m \u001b[32m━━━━━━━━━━━━━━━━━━━━\u001b[0m\u001b[37m\u001b[0m \u001b[1m1s\u001b[0m 5ms/step\n",
            "Accuracy: 0.958352\n",
            "173/200: Noise %: 46.00023333333334, Time Warping Sigma: 3.0, Max Shift: 17\n",
            "\u001b[1m139/139\u001b[0m \u001b[32m━━━━━━━━━━━━━━━━━━━━\u001b[0m\u001b[37m\u001b[0m \u001b[1m0s\u001b[0m 3ms/step\n",
            "Accuracy: 0.954957\n",
            "174/200: Noise %: 44.00026666666667, Time Warping Sigma: 2.5, Max Shift: 30\n",
            "\u001b[1m139/139\u001b[0m \u001b[32m━━━━━━━━━━━━━━━━━━━━\u001b[0m\u001b[37m\u001b[0m \u001b[1m2s\u001b[0m 10ms/step\n",
            "Accuracy: 0.952694\n",
            "175/200: Noise %: 34.00043333333334, Time Warping Sigma: 0.5, Max Shift: 27\n",
            "\u001b[1m139/139\u001b[0m \u001b[32m━━━━━━━━━━━━━━━━━━━━\u001b[0m\u001b[37m\u001b[0m \u001b[1m0s\u001b[0m 3ms/step\n",
            "Accuracy: 0.954957\n",
            "176/200: Noise %: 22.000633333333337, Time Warping Sigma: 1.5999999999999999, Max Shift: 27\n",
            "\u001b[1m139/139\u001b[0m \u001b[32m━━━━━━━━━━━━━━━━━━━━\u001b[0m\u001b[37m\u001b[0m \u001b[1m1s\u001b[0m 3ms/step\n",
            "Accuracy: 0.952241\n",
            "177/200: Noise %: 44.00026666666667, Time Warping Sigma: 1.6999999999999997, Max Shift: 33\n",
            "\u001b[1m139/139\u001b[0m \u001b[32m━━━━━━━━━━━━━━━━━━━━\u001b[0m\u001b[37m\u001b[0m \u001b[1m1s\u001b[0m 6ms/step\n",
            "Accuracy: 0.954957\n",
            "178/200: Noise %: 8.000866666666667, Time Warping Sigma: 1.4, Max Shift: 30\n",
            "\u001b[1m139/139\u001b[0m \u001b[32m━━━━━━━━━━━━━━━━━━━━\u001b[0m\u001b[37m\u001b[0m \u001b[1m0s\u001b[0m 3ms/step\n",
            "Accuracy: 0.948846\n",
            "179/200: Noise %: 32.00046666666667, Time Warping Sigma: 1.5999999999999999, Max Shift: 27\n",
            "\u001b[1m139/139\u001b[0m \u001b[32m━━━━━━━━━━━━━━━━━━━━\u001b[0m\u001b[37m\u001b[0m \u001b[1m0s\u001b[0m 3ms/step\n",
            "Accuracy: 0.955410\n",
            "180/200: Noise %: 14.000766666666669, Time Warping Sigma: 0.7, Max Shift: 27\n",
            "\u001b[1m139/139\u001b[0m \u001b[32m━━━━━━━━━━━━━━━━━━━━\u001b[0m\u001b[37m\u001b[0m \u001b[1m0s\u001b[0m 3ms/step\n",
            "Accuracy: 0.947035\n",
            "181/200: Noise %: 10.000833333333334, Time Warping Sigma: 1.4, Max Shift: 26\n",
            "\u001b[1m139/139\u001b[0m \u001b[32m━━━━━━━━━━━━━━━━━━━━\u001b[0m\u001b[37m\u001b[0m \u001b[1m0s\u001b[0m 3ms/step\n",
            "Accuracy: 0.956768\n",
            "182/200: Noise %: 2.000966666666667, Time Warping Sigma: 1.4999999999999998, Max Shift: 33\n",
            "\u001b[1m139/139\u001b[0m \u001b[32m━━━━━━━━━━━━━━━━━━━━\u001b[0m\u001b[37m\u001b[0m \u001b[1m0s\u001b[0m 3ms/step\n",
            "Accuracy: 0.954504\n",
            "183/200: Noise %: 16.000733333333336, Time Warping Sigma: 1.9999999999999998, Max Shift: 17\n",
            "\u001b[1m139/139\u001b[0m \u001b[32m━━━━━━━━━━━━━━━━━━━━\u001b[0m\u001b[37m\u001b[0m \u001b[1m1s\u001b[0m 4ms/step\n",
            "Accuracy: 0.951109\n",
            "184/200: Noise %: 14.000766666666669, Time Warping Sigma: 1.7999999999999998, Max Shift: 20\n",
            "\u001b[1m139/139\u001b[0m \u001b[32m━━━━━━━━━━━━━━━━━━━━\u001b[0m\u001b[37m\u001b[0m \u001b[1m1s\u001b[0m 3ms/step\n",
            "Accuracy: 0.952241\n",
            "185/200: Noise %: 44.00026666666667, Time Warping Sigma: 1.0, Max Shift: 21\n",
            "\u001b[1m139/139\u001b[0m \u001b[32m━━━━━━━━━━━━━━━━━━━━\u001b[0m\u001b[37m\u001b[0m \u001b[1m0s\u001b[0m 3ms/step\n",
            "Accuracy: 0.953599\n",
            "186/200: Noise %: 0.001, Time Warping Sigma: 1.0999999999999999, Max Shift: 19\n",
            "\u001b[1m139/139\u001b[0m \u001b[32m━━━━━━━━━━━━━━━━━━━━\u001b[0m\u001b[37m\u001b[0m \u001b[1m0s\u001b[0m 3ms/step\n",
            "Accuracy: 0.951109\n",
            "187/200: Noise %: 22.000633333333337, Time Warping Sigma: 3.0, Max Shift: 20\n",
            "\u001b[1m139/139\u001b[0m \u001b[32m━━━━━━━━━━━━━━━━━━━━\u001b[0m\u001b[37m\u001b[0m \u001b[1m1s\u001b[0m 5ms/step\n",
            "Accuracy: 0.953146\n",
            "188/200: Noise %: 18.000700000000002, Time Warping Sigma: 1.4, Max Shift: 27\n",
            "\u001b[1m139/139\u001b[0m \u001b[32m━━━━━━━━━━━━━━━━━━━━\u001b[0m\u001b[37m\u001b[0m \u001b[1m2s\u001b[0m 11ms/step\n",
            "Accuracy: 0.955410\n",
            "189/200: Noise %: 0.001, Time Warping Sigma: 1.2, Max Shift: 29\n",
            "\u001b[1m139/139\u001b[0m \u001b[32m━━━━━━━━━━━━━━━━━━━━\u001b[0m\u001b[37m\u001b[0m \u001b[1m1s\u001b[0m 7ms/step\n",
            "Accuracy: 0.956089\n",
            "190/200: Noise %: 34.00043333333334, Time Warping Sigma: 1.9999999999999998, Max Shift: 33\n",
            "\u001b[1m139/139\u001b[0m \u001b[32m━━━━━━━━━━━━━━━━━━━━\u001b[0m\u001b[37m\u001b[0m \u001b[1m1s\u001b[0m 3ms/step\n",
            "Accuracy: 0.954731\n",
            "191/200: Noise %: 20.00066666666667, Time Warping Sigma: 2.3, Max Shift: 17\n",
            "\u001b[1m139/139\u001b[0m \u001b[32m━━━━━━━━━━━━━━━━━━━━\u001b[0m\u001b[37m\u001b[0m \u001b[1m1s\u001b[0m 4ms/step\n",
            "Accuracy: 0.946356\n",
            "192/200: Noise %: 18.000700000000002, Time Warping Sigma: 2.3, Max Shift: 24\n",
            "\u001b[1m139/139\u001b[0m \u001b[32m━━━━━━━━━━━━━━━━━━━━\u001b[0m\u001b[37m\u001b[0m \u001b[1m1s\u001b[0m 4ms/step\n",
            "Accuracy: 0.949525\n",
            "193/200: Noise %: 36.000400000000006, Time Warping Sigma: 2.5, Max Shift: 30\n",
            "\u001b[1m139/139\u001b[0m \u001b[32m━━━━━━━━━━━━━━━━━━━━\u001b[0m\u001b[37m\u001b[0m \u001b[1m1s\u001b[0m 4ms/step\n",
            "Accuracy: 0.953373\n",
            "194/200: Noise %: 14.000766666666669, Time Warping Sigma: 3.0, Max Shift: 26\n",
            "\u001b[1m139/139\u001b[0m \u001b[32m━━━━━━━━━━━━━━━━━━━━\u001b[0m\u001b[37m\u001b[0m \u001b[1m1s\u001b[0m 5ms/step\n",
            "Accuracy: 0.948846\n",
            "195/200: Noise %: 6.0009000000000015, Time Warping Sigma: 2.1, Max Shift: 32\n",
            "\u001b[1m139/139\u001b[0m \u001b[32m━━━━━━━━━━━━━━━━━━━━\u001b[0m\u001b[37m\u001b[0m \u001b[1m1s\u001b[0m 3ms/step\n",
            "Accuracy: 0.954278\n",
            "196/200: Noise %: 40.00033333333334, Time Warping Sigma: 0.3, Max Shift: 27\n",
            "\u001b[1m139/139\u001b[0m \u001b[32m━━━━━━━━━━━━━━━━━━━━\u001b[0m\u001b[37m\u001b[0m \u001b[1m1s\u001b[0m 3ms/step\n",
            "Accuracy: 0.949525\n",
            "197/200: Noise %: 12.000800000000002, Time Warping Sigma: 0.5, Max Shift: 20\n",
            "\u001b[1m139/139\u001b[0m \u001b[32m━━━━━━━━━━━━━━━━━━━━\u001b[0m\u001b[37m\u001b[0m \u001b[1m1s\u001b[0m 3ms/step\n",
            "Accuracy: 0.957220\n",
            "198/200: Noise %: 0.001, Time Warping Sigma: 1.7999999999999998, Max Shift: 29\n",
            "\u001b[1m139/139\u001b[0m \u001b[32m━━━━━━━━━━━━━━━━━━━━\u001b[0m\u001b[37m\u001b[0m \u001b[1m1s\u001b[0m 4ms/step\n",
            "Accuracy: 0.950430\n",
            "199/200: Noise %: 54.0001, Time Warping Sigma: 0.7, Max Shift: 26\n",
            "\u001b[1m139/139\u001b[0m \u001b[32m━━━━━━━━━━━━━━━━━━━━\u001b[0m\u001b[37m\u001b[0m \u001b[1m1s\u001b[0m 3ms/step\n",
            "Accuracy: 0.942734\n",
            "200/200: Noise %: 16.000733333333336, Time Warping Sigma: 1.2999999999999998, Max Shift: 32\n",
            "\u001b[1m139/139\u001b[0m \u001b[32m━━━━━━━━━━━━━━━━━━━━\u001b[0m\u001b[37m\u001b[0m \u001b[1m1s\u001b[0m 4ms/step\n",
            "Accuracy: 0.952920\n",
            "Best Parameters: Noise % = 0.04000933333333334, Time Warp Sigma = 2.9, Shift Max = 18\n",
            "Best Validation Accuracy: 0.9583521955636034\n"
          ]
        }
      ],
      "source": [
        "# Initialize best parameters and accuracy\n",
        "best_accuracy = 0\n",
        "best_params = None\n",
        "results = []\n",
        "used_combinations = set()\n",
        "\n",
        "# Randomly sample parameter combinations\n",
        "for i in range(200):\n",
        "    while True:\n",
        "        # Randomly sample parameters\n",
        "        noise_percentage = np.random.choice(param_grid['noise_percentage'])\n",
        "        time_warp_sigma = np.random.choice(param_grid['time_warp_sigma'])\n",
        "        shift_max = np.random.choice(param_grid['shift_max'])\n",
        "\n",
        "        # Create a tuple of parameters to check uniqueness\n",
        "        params = (noise_percentage, time_warp_sigma, shift_max)\n",
        "\n",
        "        # Check if the combination is unique\n",
        "        if params not in used_combinations:\n",
        "            used_combinations.add(params)\n",
        "            break\n",
        "    print(f'{i+1}/200: Noise %: {noise_percentage * 100}, Time Warping Sigma: {time_warp_sigma}, Max Shift: {shift_max}')\n",
        "\n",
        "    # Apply augmentations\n",
        "    augmented_X_train = apply_augmentations(\n",
        "        X_train_cnn,\n",
        "        noise_percentage=noise_percentage,\n",
        "        time_warp_sigma=time_warp_sigma,\n",
        "        shift_max=shift_max\n",
        "    )\n",
        "\n",
        "    # Combine original and augmented data\n",
        "    X_train_augmented = np.concatenate((X_train_cnn, augmented_X_train), axis=0)\n",
        "    y_train_augmented = np.concatenate((y_train, y_train), axis=0)\n",
        "    # Define early stopping criteria\n",
        "    early_stopping = EarlyStopping(monitor='val_accuracy', patience=5, restore_best_weights=True)\n",
        "\n",
        "    # Define model architecture\n",
        "    model = Sequential()\n",
        "    model.add(Conv1D(filters=64, kernel_size=5, activation='relu'))\n",
        "    model.add(MaxPooling1D(pool_size=2))\n",
        "    model.add(Dropout(0.3))\n",
        "    model.add(Conv1D(filters=32, kernel_size=5, activation='relu'))\n",
        "    model.add(MaxPooling1D(pool_size=2))\n",
        "    model.add(Dropout(0.3))\n",
        "    model.add(Conv1D(filters=16, kernel_size=5, activation='relu'))\n",
        "    model.add(MaxPooling1D(pool_size=2))\n",
        "    model.add(Dropout(0.3))\n",
        "    model.add(Flatten())\n",
        "    model.add(Dense(128, activation='relu'))\n",
        "    model.add(Dropout(0.5))\n",
        "    model.add(Dense(1, activation='sigmoid'))\n",
        "    model.compile(optimizer='adam', loss='binary_crossentropy', metrics=['accuracy'])\n",
        "    model.fit(X_train_augmented, y_train_augmented, epochs=100, verbose=0, callbacks=[early_stopping], validation_split=0.2, sample_weight=sample_weights)\n",
        "\n",
        "    # Evaluate on the validation set\n",
        "    y_pred_test = (model.predict(X_test_cnn) > 0.5).astype(int).flatten()\n",
        "    accuracy = accuracy_score(y_test, y_pred_test)\n",
        "\n",
        "    # Store the results\n",
        "    results.append({\n",
        "        'noise_percentage': noise_percentage,\n",
        "        'time_warp_sigma': time_warp_sigma,\n",
        "        'shift_max': shift_max,\n",
        "        'accuracy': accuracy\n",
        "    })\n",
        "    print(f'Accuracy: {accuracy:4f}')\n",
        "\n",
        "    # Update best parameters if current accuracy is higher\n",
        "    if accuracy > best_accuracy:\n",
        "        best_accuracy = accuracy\n",
        "        best_params = (noise_percentage, time_warp_sigma, shift_max)\n",
        "\n",
        "# Print the best parameters and accuracy\n",
        "print(f\"Best Parameters: Noise % = {best_params[0]}, Time Warp Sigma = {best_params[1]}, Shift Max = {best_params[2]}\")\n",
        "print(f\"Best Validation Accuracy: {best_accuracy}\")"
      ]
    },
    {
      "cell_type": "code",
      "execution_count": 36,
      "metadata": {},
      "outputs": [
        {
          "data": {
            "application/vnd.plotly.v1+json": {
              "config": {
                "plotlyServerURL": "https://plot.ly"
              },
              "data": [
                {
                  "marker": {
                    "color": [
                      0.9497510185604345,
                      0.9511090991398823,
                      0.9533725667722952,
                      0.9531462200090539,
                      0.9551833408782254,
                      0.9531462200090539,
                      0.9535989135355365,
                      0.9522408329560887,
                      0.955636034404708,
                      0.9513354459031236,
                      0.9531462200090539,
                      0.9529198732458126,
                      0.9499773653236758,
                      0.9558623811679493,
                      0.9427342688999547,
                      0.9515617926663649,
                      0.9463558171118153,
                      0.9443186962426438,
                      0.9531462200090539,
                      0.9447713897691263,
                      0.9547306473517428,
                      0.9517881394296062,
                      0.9526935264825713,
                      0.9506564056133997,
                      0.9502037120869171,
                      0.9526935264825713,
                      0.9560887279311906,
                      0.9511090991398823,
                      0.9513354459031236,
                      0.9531462200090539,
                      0.9535989135355365,
                      0.9535989135355365,
                      0.9529198732458126,
                      0.9535989135355365,
                      0.9384336803983703,
                      0.9506564056133997,
                      0.9520144861928475,
                      0.9538252602987777,
                      0.955636034404708,
                      0.9551833408782254,
                      0.9554096876414667,
                      0.9549569941149841,
                      0.9542779538252603,
                      0.9513354459031236,
                      0.9515617926663649,
                      0.9513354459031236,
                      0.9479402444545043,
                      0.9520144861928475,
                      0.9515617926663649,
                      0.9499773653236758,
                      0.947713897691263,
                      0.9488456315074695,
                      0.9490719782707108,
                      0.9533725667722952,
                      0.954051607062019,
                      0.9531462200090539,
                      0.9529198732458126,
                      0.9515617926663649,
                      0.9545043005885016,
                      0.9554096876414667,
                      0.9511090991398823,
                      0.9535989135355365,
                      0.9574468085106383,
                      0.9497510185604345,
                      0.9545043005885016,
                      0.9513354459031236,
                      0.9531462200090539,
                      0.9538252602987777,
                      0.9563150746944319,
                      0.9472612041647804,
                      0.95246717971933,
                      0.9520144861928475,
                      0.9551833408782254,
                      0.950882752376641,
                      0.947713897691263,
                      0.9531462200090539,
                      0.9513354459031236,
                      0.9531462200090539,
                      0.9535989135355365,
                      0.9502037120869171,
                      0.9526935264825713,
                      0.955636034404708,
                      0.9497510185604345,
                      0.9558623811679493,
                      0.9538252602987777,
                      0.9547306473517428,
                      0.947713897691263,
                      0.9560887279311906,
                      0.9513354459031236,
                      0.9563150746944319,
                      0.9526935264825713,
                      0.9492983250339521,
                      0.9517881394296062,
                      0.9474875509280217,
                      0.955636034404708,
                      0.9535989135355365,
                      0.9551833408782254,
                      0.9488456315074695,
                      0.9515617926663649,
                      0.9497510185604345,
                      0.9522408329560887,
                      0.9502037120869171,
                      0.9506564056133997,
                      0.9502037120869171,
                      0.9529198732458126,
                      0.9549569941149841,
                      0.9545043005885016,
                      0.954051607062019,
                      0.9551833408782254,
                      0.955636034404708,
                      0.9538252602987777,
                      0.9542779538252603,
                      0.9538252602987777,
                      0.9499773653236758,
                      0.955636034404708,
                      0.9558623811679493,
                      0.950882752376641,
                      0.9526935264825713,
                      0.9560887279311906,
                      0.9440923494794025,
                      0.9535989135355365,
                      0.9545043005885016,
                      0.9529198732458126,
                      0.954051607062019,
                      0.9517881394296062,
                      0.9545043005885016,
                      0.9535989135355365,
                      0.9533725667722952,
                      0.9468085106382979,
                      0.9513354459031236,
                      0.9515617926663649,
                      0.9502037120869171,
                      0.9515617926663649,
                      0.9560887279311906,
                      0.9535989135355365,
                      0.9479402444545043,
                      0.9481665912177456,
                      0.9474875509280217,
                      0.9459031235853327,
                      0.9531462200090539,
                      0.9572204617473971,
                      0.9447713897691263,
                      0.9542779538252603,
                      0.9513354459031236,
                      0.9547306473517428,
                      0.9499773653236758,
                      0.9459031235853327,
                      0.9549569941149841,
                      0.9563150746944319,
                      0.9486192847442282,
                      0.950882752376641,
                      0.9549569941149841,
                      0.9563150746944319,
                      0.9515617926663649,
                      0.9517881394296062,
                      0.9517881394296062,
                      0.950882752376641,
                      0.9497510185604345,
                      0.9504300588501584,
                      0.9520144861928475,
                      0.9551833408782254,
                      0.9542779538252603,
                      0.9549569941149841,
                      0.9533725667722952,
                      0.9542779538252603,
                      0.9535989135355365,
                      0.9522408329560887,
                      0.9474875509280217,
                      0.9522408329560887,
                      0.9490719782707108,
                      0.9549569941149841,
                      0.9583521955636034,
                      0.9549569941149841,
                      0.9526935264825713,
                      0.9549569941149841,
                      0.9522408329560887,
                      0.9549569941149841,
                      0.9488456315074695,
                      0.9554096876414667,
                      0.9470348574015391,
                      0.9567677682209145,
                      0.9545043005885016,
                      0.9511090991398823,
                      0.9522408329560887,
                      0.9535989135355365,
                      0.9511090991398823,
                      0.9531462200090539,
                      0.9554096876414667,
                      0.9560887279311906,
                      0.9547306473517428,
                      0.9463558171118153,
                      0.9495246717971934,
                      0.9533725667722952,
                      0.9488456315074695,
                      0.9542779538252603,
                      0.9495246717971934,
                      0.9572204617473971,
                      0.9504300588501584,
                      0.9427342688999547,
                      0.9529198732458126
                    ],
                    "colorbar": {
                      "title": {
                        "text": "Accuracy"
                      }
                    },
                    "colorscale": [
                      [
                        0,
                        "#440154"
                      ],
                      [
                        0.1111111111111111,
                        "#482878"
                      ],
                      [
                        0.2222222222222222,
                        "#3e4989"
                      ],
                      [
                        0.3333333333333333,
                        "#31688e"
                      ],
                      [
                        0.4444444444444444,
                        "#26828e"
                      ],
                      [
                        0.5555555555555556,
                        "#1f9e89"
                      ],
                      [
                        0.6666666666666666,
                        "#35b779"
                      ],
                      [
                        0.7777777777777778,
                        "#6ece58"
                      ],
                      [
                        0.8888888888888888,
                        "#b5de2b"
                      ],
                      [
                        1,
                        "#fde725"
                      ]
                    ],
                    "opacity": 0.8,
                    "size": [
                      14.975101856043448,
                      15.110909913988223,
                      15.337256677229515,
                      15.314622000905388,
                      15.518334087822538,
                      15.314622000905388,
                      15.359891353553646,
                      15.224083295608871,
                      15.563603440470796,
                      15.133544590312354,
                      15.314622000905388,
                      15.291987324581257,
                      14.997736532367579,
                      15.586238116794926,
                      14.273426889995466,
                      15.156179266636482,
                      14.635581711181523,
                      14.43186962426437,
                      15.314622000905388,
                      14.477138976912629,
                      15.47306473517428,
                      15.178813942960613,
                      15.26935264825713,
                      15.065640561339965,
                      15.020371208691706,
                      15.26935264825713,
                      15.608872793119055,
                      15.110909913988223,
                      15.133544590312354,
                      15.314622000905388,
                      15.359891353553646,
                      15.359891353553646,
                      15.291987324581257,
                      15.359891353553646,
                      13.843368039837022,
                      15.065640561339965,
                      15.20144861928474,
                      15.382526029877763,
                      15.563603440470796,
                      15.518334087822538,
                      15.540968764146667,
                      15.495699411498409,
                      15.427795382526021,
                      15.133544590312354,
                      15.156179266636482,
                      15.133544590312354,
                      14.794024445450427,
                      15.20144861928474,
                      15.156179266636482,
                      14.997736532367579,
                      14.771389769126298,
                      14.884563150746944,
                      14.907197827071073,
                      15.337256677229515,
                      15.405160706201892,
                      15.314622000905388,
                      15.291987324581257,
                      15.156179266636482,
                      15.45043005885015,
                      15.540968764146667,
                      15.110909913988223,
                      15.359891353553646,
                      15.74468085106383,
                      14.975101856043448,
                      15.45043005885015,
                      15.133544590312354,
                      15.314622000905388,
                      15.382526029877763,
                      15.631507469443184,
                      14.72612041647804,
                      15.246717971932998,
                      15.20144861928474,
                      15.518334087822538,
                      15.088275237664096,
                      14.771389769126298,
                      15.314622000905388,
                      15.133544590312354,
                      15.314622000905388,
                      15.359891353553646,
                      15.020371208691706,
                      15.26935264825713,
                      15.563603440470796,
                      14.975101856043448,
                      15.586238116794926,
                      15.382526029877763,
                      15.47306473517428,
                      14.771389769126298,
                      15.608872793119055,
                      15.133544590312354,
                      15.631507469443184,
                      15.26935264825713,
                      14.929832503395202,
                      15.178813942960613,
                      14.748755092802169,
                      15.563603440470796,
                      15.359891353553646,
                      15.518334087822538,
                      14.884563150746944,
                      15.156179266636482,
                      14.975101856043448,
                      15.224083295608871,
                      15.020371208691706,
                      15.065640561339965,
                      15.020371208691706,
                      15.291987324581257,
                      15.495699411498409,
                      15.45043005885015,
                      15.405160706201892,
                      15.518334087822538,
                      15.563603440470796,
                      15.382526029877763,
                      15.427795382526021,
                      15.382526029877763,
                      14.997736532367579,
                      15.563603440470796,
                      15.586238116794926,
                      15.088275237664096,
                      15.26935264825713,
                      15.608872793119055,
                      14.409234947940242,
                      15.359891353553646,
                      15.45043005885015,
                      15.291987324581257,
                      15.405160706201892,
                      15.178813942960613,
                      15.45043005885015,
                      15.359891353553646,
                      15.337256677229515,
                      14.680851063829781,
                      15.133544590312354,
                      15.156179266636482,
                      15.020371208691706,
                      15.156179266636482,
                      15.608872793119055,
                      15.359891353553646,
                      14.794024445450427,
                      14.816659121774556,
                      14.748755092802169,
                      14.590312358533264,
                      15.314622000905388,
                      15.7220461747397,
                      14.477138976912629,
                      15.427795382526021,
                      15.133544590312354,
                      15.47306473517428,
                      14.997736532367579,
                      14.590312358533264,
                      15.495699411498409,
                      15.631507469443184,
                      14.861928474422815,
                      15.088275237664096,
                      15.495699411498409,
                      15.631507469443184,
                      15.156179266636482,
                      15.178813942960613,
                      15.178813942960613,
                      15.088275237664096,
                      14.975101856043448,
                      15.043005885015837,
                      15.20144861928474,
                      15.518334087822538,
                      15.427795382526021,
                      15.495699411498409,
                      15.337256677229515,
                      15.427795382526021,
                      15.359891353553646,
                      15.224083295608871,
                      14.748755092802169,
                      15.224083295608871,
                      14.907197827071073,
                      15.495699411498409,
                      15.835219556360336,
                      15.495699411498409,
                      15.26935264825713,
                      15.495699411498409,
                      15.224083295608871,
                      15.495699411498409,
                      14.884563150746944,
                      15.540968764146667,
                      14.70348574015391,
                      15.676776822091442,
                      15.45043005885015,
                      15.110909913988223,
                      15.224083295608871,
                      15.359891353553646,
                      15.110909913988223,
                      15.314622000905388,
                      15.540968764146667,
                      15.608872793119055,
                      15.47306473517428,
                      14.635581711181523,
                      14.952467179719331,
                      15.337256677229515,
                      14.884563150746944,
                      15.427795382526021,
                      14.952467179719331,
                      15.7220461747397,
                      15.043005885015837,
                      14.273426889995466,
                      15.291987324581257
                    ]
                  },
                  "mode": "markers",
                  "text": [
                    "Accuracy: 0.9498",
                    "Accuracy: 0.9511",
                    "Accuracy: 0.9534",
                    "Accuracy: 0.9531",
                    "Accuracy: 0.9552",
                    "Accuracy: 0.9531",
                    "Accuracy: 0.9536",
                    "Accuracy: 0.9522",
                    "Accuracy: 0.9556",
                    "Accuracy: 0.9513",
                    "Accuracy: 0.9531",
                    "Accuracy: 0.9529",
                    "Accuracy: 0.9500",
                    "Accuracy: 0.9559",
                    "Accuracy: 0.9427",
                    "Accuracy: 0.9516",
                    "Accuracy: 0.9464",
                    "Accuracy: 0.9443",
                    "Accuracy: 0.9531",
                    "Accuracy: 0.9448",
                    "Accuracy: 0.9547",
                    "Accuracy: 0.9518",
                    "Accuracy: 0.9527",
                    "Accuracy: 0.9507",
                    "Accuracy: 0.9502",
                    "Accuracy: 0.9527",
                    "Accuracy: 0.9561",
                    "Accuracy: 0.9511",
                    "Accuracy: 0.9513",
                    "Accuracy: 0.9531",
                    "Accuracy: 0.9536",
                    "Accuracy: 0.9536",
                    "Accuracy: 0.9529",
                    "Accuracy: 0.9536",
                    "Accuracy: 0.9384",
                    "Accuracy: 0.9507",
                    "Accuracy: 0.9520",
                    "Accuracy: 0.9538",
                    "Accuracy: 0.9556",
                    "Accuracy: 0.9552",
                    "Accuracy: 0.9554",
                    "Accuracy: 0.9550",
                    "Accuracy: 0.9543",
                    "Accuracy: 0.9513",
                    "Accuracy: 0.9516",
                    "Accuracy: 0.9513",
                    "Accuracy: 0.9479",
                    "Accuracy: 0.9520",
                    "Accuracy: 0.9516",
                    "Accuracy: 0.9500",
                    "Accuracy: 0.9477",
                    "Accuracy: 0.9488",
                    "Accuracy: 0.9491",
                    "Accuracy: 0.9534",
                    "Accuracy: 0.9541",
                    "Accuracy: 0.9531",
                    "Accuracy: 0.9529",
                    "Accuracy: 0.9516",
                    "Accuracy: 0.9545",
                    "Accuracy: 0.9554",
                    "Accuracy: 0.9511",
                    "Accuracy: 0.9536",
                    "Accuracy: 0.9574",
                    "Accuracy: 0.9498",
                    "Accuracy: 0.9545",
                    "Accuracy: 0.9513",
                    "Accuracy: 0.9531",
                    "Accuracy: 0.9538",
                    "Accuracy: 0.9563",
                    "Accuracy: 0.9473",
                    "Accuracy: 0.9525",
                    "Accuracy: 0.9520",
                    "Accuracy: 0.9552",
                    "Accuracy: 0.9509",
                    "Accuracy: 0.9477",
                    "Accuracy: 0.9531",
                    "Accuracy: 0.9513",
                    "Accuracy: 0.9531",
                    "Accuracy: 0.9536",
                    "Accuracy: 0.9502",
                    "Accuracy: 0.9527",
                    "Accuracy: 0.9556",
                    "Accuracy: 0.9498",
                    "Accuracy: 0.9559",
                    "Accuracy: 0.9538",
                    "Accuracy: 0.9547",
                    "Accuracy: 0.9477",
                    "Accuracy: 0.9561",
                    "Accuracy: 0.9513",
                    "Accuracy: 0.9563",
                    "Accuracy: 0.9527",
                    "Accuracy: 0.9493",
                    "Accuracy: 0.9518",
                    "Accuracy: 0.9475",
                    "Accuracy: 0.9556",
                    "Accuracy: 0.9536",
                    "Accuracy: 0.9552",
                    "Accuracy: 0.9488",
                    "Accuracy: 0.9516",
                    "Accuracy: 0.9498",
                    "Accuracy: 0.9522",
                    "Accuracy: 0.9502",
                    "Accuracy: 0.9507",
                    "Accuracy: 0.9502",
                    "Accuracy: 0.9529",
                    "Accuracy: 0.9550",
                    "Accuracy: 0.9545",
                    "Accuracy: 0.9541",
                    "Accuracy: 0.9552",
                    "Accuracy: 0.9556",
                    "Accuracy: 0.9538",
                    "Accuracy: 0.9543",
                    "Accuracy: 0.9538",
                    "Accuracy: 0.9500",
                    "Accuracy: 0.9556",
                    "Accuracy: 0.9559",
                    "Accuracy: 0.9509",
                    "Accuracy: 0.9527",
                    "Accuracy: 0.9561",
                    "Accuracy: 0.9441",
                    "Accuracy: 0.9536",
                    "Accuracy: 0.9545",
                    "Accuracy: 0.9529",
                    "Accuracy: 0.9541",
                    "Accuracy: 0.9518",
                    "Accuracy: 0.9545",
                    "Accuracy: 0.9536",
                    "Accuracy: 0.9534",
                    "Accuracy: 0.9468",
                    "Accuracy: 0.9513",
                    "Accuracy: 0.9516",
                    "Accuracy: 0.9502",
                    "Accuracy: 0.9516",
                    "Accuracy: 0.9561",
                    "Accuracy: 0.9536",
                    "Accuracy: 0.9479",
                    "Accuracy: 0.9482",
                    "Accuracy: 0.9475",
                    "Accuracy: 0.9459",
                    "Accuracy: 0.9531",
                    "Accuracy: 0.9572",
                    "Accuracy: 0.9448",
                    "Accuracy: 0.9543",
                    "Accuracy: 0.9513",
                    "Accuracy: 0.9547",
                    "Accuracy: 0.9500",
                    "Accuracy: 0.9459",
                    "Accuracy: 0.9550",
                    "Accuracy: 0.9563",
                    "Accuracy: 0.9486",
                    "Accuracy: 0.9509",
                    "Accuracy: 0.9550",
                    "Accuracy: 0.9563",
                    "Accuracy: 0.9516",
                    "Accuracy: 0.9518",
                    "Accuracy: 0.9518",
                    "Accuracy: 0.9509",
                    "Accuracy: 0.9498",
                    "Accuracy: 0.9504",
                    "Accuracy: 0.9520",
                    "Accuracy: 0.9552",
                    "Accuracy: 0.9543",
                    "Accuracy: 0.9550",
                    "Accuracy: 0.9534",
                    "Accuracy: 0.9543",
                    "Accuracy: 0.9536",
                    "Accuracy: 0.9522",
                    "Accuracy: 0.9475",
                    "Accuracy: 0.9522",
                    "Accuracy: 0.9491",
                    "Accuracy: 0.9550",
                    "Accuracy: 0.9584",
                    "Accuracy: 0.9550",
                    "Accuracy: 0.9527",
                    "Accuracy: 0.9550",
                    "Accuracy: 0.9522",
                    "Accuracy: 0.9550",
                    "Accuracy: 0.9488",
                    "Accuracy: 0.9554",
                    "Accuracy: 0.9470",
                    "Accuracy: 0.9568",
                    "Accuracy: 0.9545",
                    "Accuracy: 0.9511",
                    "Accuracy: 0.9522",
                    "Accuracy: 0.9536",
                    "Accuracy: 0.9511",
                    "Accuracy: 0.9531",
                    "Accuracy: 0.9554",
                    "Accuracy: 0.9561",
                    "Accuracy: 0.9547",
                    "Accuracy: 0.9464",
                    "Accuracy: 0.9495",
                    "Accuracy: 0.9534",
                    "Accuracy: 0.9488",
                    "Accuracy: 0.9543",
                    "Accuracy: 0.9495",
                    "Accuracy: 0.9572",
                    "Accuracy: 0.9504",
                    "Accuracy: 0.9427",
                    "Accuracy: 0.9529"
                  ],
                  "type": "scatter3d",
                  "x": [
                    0.02000966666666667,
                    0.22000633333333336,
                    0.08000866666666667,
                    0.38000366666666674,
                    0.22000633333333336,
                    0.4800020000000001,
                    0.2800053333333334,
                    0.08000866666666667,
                    0.4400026666666667,
                    0.5200013333333333,
                    0.2000066666666667,
                    0.300005,
                    0.00001,
                    0.5400010000000001,
                    0.4000033333333334,
                    0.1400076666666667,
                    0.3400043333333334,
                    0.02000966666666667,
                    0.00001,
                    0.5800003333333333,
                    0.16000733333333336,
                    0.38000366666666674,
                    0.42000300000000007,
                    0.300005,
                    0.300005,
                    0.300005,
                    0.5200013333333333,
                    0.18000700000000003,
                    0.4800020000000001,
                    0.04000933333333334,
                    0.2600056666666667,
                    0.42000300000000007,
                    0.2000066666666667,
                    0.36000400000000005,
                    0.2800053333333334,
                    0.24000600000000005,
                    0.5600006666666667,
                    0.4400026666666667,
                    0.02000966666666667,
                    0.6,
                    0.5400010000000001,
                    0.36000400000000005,
                    0.5200013333333333,
                    0.3400043333333334,
                    0.5200013333333333,
                    0.4800020000000001,
                    0.24000600000000005,
                    0.4600023333333334,
                    0.38000366666666674,
                    0.1400076666666667,
                    0.36000400000000005,
                    0.24000600000000005,
                    0.060009000000000014,
                    0.18000700000000003,
                    0.3400043333333334,
                    0.08000866666666667,
                    0.5800003333333333,
                    0.36000400000000005,
                    0.10000833333333334,
                    0.5400010000000001,
                    0.300005,
                    0.5200013333333333,
                    0.2000066666666667,
                    0.2800053333333334,
                    0.4000033333333334,
                    0.5800003333333333,
                    0.4000033333333334,
                    0.5800003333333333,
                    0.2800053333333334,
                    0.00001,
                    0.22000633333333336,
                    0.2600056666666667,
                    0.5000016666666667,
                    0.4000033333333334,
                    0.2800053333333334,
                    0.2800053333333334,
                    0.4400026666666667,
                    0.5800003333333333,
                    0.5600006666666667,
                    0.36000400000000005,
                    0.2800053333333334,
                    0.10000833333333334,
                    0.1400076666666667,
                    0.1400076666666667,
                    0.4800020000000001,
                    0.5000016666666667,
                    0.300005,
                    0.5400010000000001,
                    0.5600006666666667,
                    0.3200046666666667,
                    0.18000700000000003,
                    0.42000300000000007,
                    0.4800020000000001,
                    0.22000633333333336,
                    0.060009000000000014,
                    0.5800003333333333,
                    0.12000800000000002,
                    0.08000866666666667,
                    0.300005,
                    0.6,
                    0.3400043333333334,
                    0.4600023333333334,
                    0.5400010000000001,
                    0.04000933333333334,
                    0.4600023333333334,
                    0.3200046666666667,
                    0.2600056666666667,
                    0.5200013333333333,
                    0.3400043333333334,
                    0.5000016666666667,
                    0.1400076666666667,
                    0.2000066666666667,
                    0.16000733333333336,
                    0.2600056666666667,
                    0.12000800000000002,
                    0.5000016666666667,
                    0.36000400000000005,
                    0.04000933333333334,
                    0.04000933333333334,
                    0.4800020000000001,
                    0.38000366666666674,
                    0.1400076666666667,
                    0.22000633333333336,
                    0.060009000000000014,
                    0.4800020000000001,
                    0.2000066666666667,
                    0.5200013333333333,
                    0.5400010000000001,
                    0.300005,
                    0.4600023333333334,
                    0.12000800000000002,
                    0.4600023333333334,
                    0.3400043333333334,
                    0.10000833333333334,
                    0.4800020000000001,
                    0.10000833333333334,
                    0.4600023333333334,
                    0.12000800000000002,
                    0.6,
                    0.300005,
                    0.22000633333333336,
                    0.5400010000000001,
                    0.38000366666666674,
                    0.18000700000000003,
                    0.300005,
                    0.16000733333333336,
                    0.02000966666666667,
                    0.04000933333333334,
                    0.04000933333333334,
                    0.4400026666666667,
                    0.36000400000000005,
                    0.18000700000000003,
                    0.38000366666666674,
                    0.10000833333333334,
                    0.38000366666666674,
                    0.4000033333333334,
                    0.4800020000000001,
                    0.22000633333333336,
                    0.24000600000000005,
                    0.10000833333333334,
                    0.6,
                    0.6,
                    0.4000033333333334,
                    0.2800053333333334,
                    0.2800053333333334,
                    0.4000033333333334,
                    0.08000866666666667,
                    0.4000033333333334,
                    0.2800053333333334,
                    0.00001,
                    0.3400043333333334,
                    0.04000933333333334,
                    0.4600023333333334,
                    0.4400026666666667,
                    0.3400043333333334,
                    0.22000633333333336,
                    0.4400026666666667,
                    0.08000866666666667,
                    0.3200046666666667,
                    0.1400076666666667,
                    0.10000833333333334,
                    0.02000966666666667,
                    0.16000733333333336,
                    0.1400076666666667,
                    0.4400026666666667,
                    0.00001,
                    0.22000633333333336,
                    0.18000700000000003,
                    0.00001,
                    0.3400043333333334,
                    0.2000066666666667,
                    0.18000700000000003,
                    0.36000400000000005,
                    0.1400076666666667,
                    0.060009000000000014,
                    0.4000033333333334,
                    0.12000800000000002,
                    0.00001,
                    0.5400010000000001,
                    0.16000733333333336
                  ],
                  "y": [
                    2.8,
                    0.6,
                    0.5,
                    2.9,
                    1.0999999999999999,
                    2.1,
                    2.7,
                    2.6,
                    0.5,
                    0.5,
                    1.6999999999999997,
                    2.5,
                    1.6999999999999997,
                    2.9,
                    2.5,
                    2.8,
                    1.4999999999999998,
                    0.4,
                    2.3,
                    1.2,
                    3,
                    1.4,
                    1.9,
                    0.6,
                    0.2,
                    1.9999999999999998,
                    1.2,
                    0.8999999999999999,
                    1.9,
                    2.6,
                    2.1999999999999997,
                    1.5999999999999999,
                    2.7,
                    2.5,
                    1.5999999999999999,
                    2.1,
                    2.4,
                    1.0999999999999999,
                    0.6,
                    2.5,
                    1.9,
                    1.6999999999999997,
                    0.6,
                    3,
                    2.8,
                    0.8,
                    1.6999999999999997,
                    2.5,
                    0.3,
                    1.4999999999999998,
                    2.7,
                    2.9,
                    2.7,
                    2.7,
                    0.2,
                    2.6,
                    0.5,
                    1.0999999999999999,
                    3,
                    1,
                    2.1,
                    1.7999999999999998,
                    1.4,
                    1.5999999999999999,
                    1.2999999999999998,
                    2.5,
                    1.7999999999999998,
                    1.9,
                    1.2999999999999998,
                    1.6999999999999997,
                    1.9,
                    2.5,
                    0.3,
                    2.9,
                    1,
                    1,
                    1.5999999999999999,
                    1.7999999999999998,
                    2.4,
                    1.9999999999999998,
                    2.3,
                    0.7,
                    1.9999999999999998,
                    0.8,
                    0.8,
                    1.9,
                    1.2,
                    0.2,
                    1.9999999999999998,
                    1.6999999999999997,
                    0.7,
                    1.7999999999999998,
                    1.7999999999999998,
                    2.9,
                    0.8999999999999999,
                    0.6,
                    2.1999999999999997,
                    1.9999999999999998,
                    1.9999999999999998,
                    2.1,
                    3,
                    2.6,
                    0.2,
                    0.5,
                    1,
                    2.7,
                    0.5,
                    0.3,
                    2.6,
                    0.8,
                    2.1999999999999997,
                    1.6999999999999997,
                    1,
                    2.3,
                    2.1999999999999997,
                    0.8999999999999999,
                    0.5,
                    2.8,
                    1.9999999999999998,
                    2.1999999999999997,
                    0.6,
                    2.1999999999999997,
                    2.7,
                    1.9,
                    2.1,
                    1.2999999999999998,
                    0.6,
                    1.6999999999999997,
                    1.5999999999999999,
                    2.4,
                    0.4,
                    0.3,
                    3,
                    0.4,
                    0.6,
                    2.5,
                    1.6999999999999997,
                    1,
                    0.8,
                    1.5999999999999999,
                    2.8,
                    2.3,
                    1,
                    0.3,
                    1.9,
                    1.9999999999999998,
                    2.6,
                    0.8999999999999999,
                    0.2,
                    2.1,
                    1.6999999999999997,
                    3,
                    2.4,
                    2.1999999999999997,
                    2.3,
                    2.8,
                    2.7,
                    2.9,
                    2.7,
                    1.2,
                    0.7,
                    2.8,
                    2.1999999999999997,
                    1.4,
                    0.4,
                    0.2,
                    1.6999999999999997,
                    0.2,
                    2.1,
                    1.0999999999999999,
                    1.5999999999999999,
                    2.9,
                    3,
                    2.5,
                    0.5,
                    1.5999999999999999,
                    1.6999999999999997,
                    1.4,
                    1.5999999999999999,
                    0.7,
                    1.4,
                    1.4999999999999998,
                    1.9999999999999998,
                    1.7999999999999998,
                    1,
                    1.0999999999999999,
                    3,
                    1.4,
                    1.2,
                    1.9999999999999998,
                    2.3,
                    2.3,
                    2.5,
                    3,
                    2.1,
                    0.3,
                    0.5,
                    1.7999999999999998,
                    0.7,
                    1.2999999999999998
                  ],
                  "z": [
                    34,
                    30,
                    18,
                    21,
                    25,
                    20,
                    31,
                    27,
                    27,
                    23,
                    31,
                    31,
                    22,
                    17,
                    33,
                    24,
                    31,
                    32,
                    18,
                    20,
                    26,
                    20,
                    29,
                    21,
                    27,
                    30,
                    23,
                    26,
                    27,
                    21,
                    29,
                    27,
                    34,
                    23,
                    33,
                    32,
                    29,
                    20,
                    26,
                    32,
                    25,
                    34,
                    30,
                    29,
                    25,
                    30,
                    32,
                    27,
                    30,
                    25,
                    26,
                    31,
                    17,
                    22,
                    32,
                    29,
                    24,
                    28,
                    31,
                    23,
                    32,
                    30,
                    26,
                    31,
                    32,
                    26,
                    23,
                    25,
                    20,
                    32,
                    23,
                    23,
                    21,
                    19,
                    20,
                    18,
                    24,
                    29,
                    34,
                    18,
                    32,
                    20,
                    23,
                    23,
                    25,
                    17,
                    17,
                    33,
                    34,
                    23,
                    18,
                    17,
                    28,
                    20,
                    25,
                    32,
                    21,
                    25,
                    31,
                    29,
                    19,
                    27,
                    32,
                    19,
                    34,
                    32,
                    26,
                    25,
                    30,
                    23,
                    20,
                    24,
                    33,
                    22,
                    22,
                    23,
                    29,
                    32,
                    18,
                    28,
                    32,
                    21,
                    30,
                    23,
                    18,
                    17,
                    33,
                    23,
                    27,
                    17,
                    32,
                    33,
                    30,
                    18,
                    29,
                    25,
                    30,
                    25,
                    25,
                    17,
                    28,
                    33,
                    20,
                    23,
                    32,
                    22,
                    29,
                    32,
                    21,
                    17,
                    24,
                    17,
                    25,
                    33,
                    33,
                    32,
                    20,
                    24,
                    30,
                    29,
                    26,
                    31,
                    31,
                    27,
                    23,
                    21,
                    18,
                    29,
                    17,
                    31,
                    22,
                    18,
                    17,
                    30,
                    27,
                    27,
                    33,
                    30,
                    27,
                    27,
                    26,
                    33,
                    17,
                    20,
                    21,
                    19,
                    20,
                    27,
                    29,
                    33,
                    17,
                    24,
                    30,
                    26,
                    32,
                    27,
                    20,
                    29,
                    26,
                    32
                  ]
                }
              ],
              "layout": {
                "scene": {
                  "xaxis": {
                    "title": {
                      "text": "Noise Percentage"
                    }
                  },
                  "yaxis": {
                    "title": {
                      "text": "Time Warp Sigma"
                    }
                  },
                  "zaxis": {
                    "title": {
                      "text": "Shift Max"
                    }
                  }
                },
                "template": {
                  "data": {
                    "bar": [
                      {
                        "error_x": {
                          "color": "#2a3f5f"
                        },
                        "error_y": {
                          "color": "#2a3f5f"
                        },
                        "marker": {
                          "line": {
                            "color": "#E5ECF6",
                            "width": 0.5
                          },
                          "pattern": {
                            "fillmode": "overlay",
                            "size": 10,
                            "solidity": 0.2
                          }
                        },
                        "type": "bar"
                      }
                    ],
                    "barpolar": [
                      {
                        "marker": {
                          "line": {
                            "color": "#E5ECF6",
                            "width": 0.5
                          },
                          "pattern": {
                            "fillmode": "overlay",
                            "size": 10,
                            "solidity": 0.2
                          }
                        },
                        "type": "barpolar"
                      }
                    ],
                    "carpet": [
                      {
                        "aaxis": {
                          "endlinecolor": "#2a3f5f",
                          "gridcolor": "white",
                          "linecolor": "white",
                          "minorgridcolor": "white",
                          "startlinecolor": "#2a3f5f"
                        },
                        "baxis": {
                          "endlinecolor": "#2a3f5f",
                          "gridcolor": "white",
                          "linecolor": "white",
                          "minorgridcolor": "white",
                          "startlinecolor": "#2a3f5f"
                        },
                        "type": "carpet"
                      }
                    ],
                    "choropleth": [
                      {
                        "colorbar": {
                          "outlinewidth": 0,
                          "ticks": ""
                        },
                        "type": "choropleth"
                      }
                    ],
                    "contour": [
                      {
                        "colorbar": {
                          "outlinewidth": 0,
                          "ticks": ""
                        },
                        "colorscale": [
                          [
                            0,
                            "#0d0887"
                          ],
                          [
                            0.1111111111111111,
                            "#46039f"
                          ],
                          [
                            0.2222222222222222,
                            "#7201a8"
                          ],
                          [
                            0.3333333333333333,
                            "#9c179e"
                          ],
                          [
                            0.4444444444444444,
                            "#bd3786"
                          ],
                          [
                            0.5555555555555556,
                            "#d8576b"
                          ],
                          [
                            0.6666666666666666,
                            "#ed7953"
                          ],
                          [
                            0.7777777777777778,
                            "#fb9f3a"
                          ],
                          [
                            0.8888888888888888,
                            "#fdca26"
                          ],
                          [
                            1,
                            "#f0f921"
                          ]
                        ],
                        "type": "contour"
                      }
                    ],
                    "contourcarpet": [
                      {
                        "colorbar": {
                          "outlinewidth": 0,
                          "ticks": ""
                        },
                        "type": "contourcarpet"
                      }
                    ],
                    "heatmap": [
                      {
                        "colorbar": {
                          "outlinewidth": 0,
                          "ticks": ""
                        },
                        "colorscale": [
                          [
                            0,
                            "#0d0887"
                          ],
                          [
                            0.1111111111111111,
                            "#46039f"
                          ],
                          [
                            0.2222222222222222,
                            "#7201a8"
                          ],
                          [
                            0.3333333333333333,
                            "#9c179e"
                          ],
                          [
                            0.4444444444444444,
                            "#bd3786"
                          ],
                          [
                            0.5555555555555556,
                            "#d8576b"
                          ],
                          [
                            0.6666666666666666,
                            "#ed7953"
                          ],
                          [
                            0.7777777777777778,
                            "#fb9f3a"
                          ],
                          [
                            0.8888888888888888,
                            "#fdca26"
                          ],
                          [
                            1,
                            "#f0f921"
                          ]
                        ],
                        "type": "heatmap"
                      }
                    ],
                    "heatmapgl": [
                      {
                        "colorbar": {
                          "outlinewidth": 0,
                          "ticks": ""
                        },
                        "colorscale": [
                          [
                            0,
                            "#0d0887"
                          ],
                          [
                            0.1111111111111111,
                            "#46039f"
                          ],
                          [
                            0.2222222222222222,
                            "#7201a8"
                          ],
                          [
                            0.3333333333333333,
                            "#9c179e"
                          ],
                          [
                            0.4444444444444444,
                            "#bd3786"
                          ],
                          [
                            0.5555555555555556,
                            "#d8576b"
                          ],
                          [
                            0.6666666666666666,
                            "#ed7953"
                          ],
                          [
                            0.7777777777777778,
                            "#fb9f3a"
                          ],
                          [
                            0.8888888888888888,
                            "#fdca26"
                          ],
                          [
                            1,
                            "#f0f921"
                          ]
                        ],
                        "type": "heatmapgl"
                      }
                    ],
                    "histogram": [
                      {
                        "marker": {
                          "pattern": {
                            "fillmode": "overlay",
                            "size": 10,
                            "solidity": 0.2
                          }
                        },
                        "type": "histogram"
                      }
                    ],
                    "histogram2d": [
                      {
                        "colorbar": {
                          "outlinewidth": 0,
                          "ticks": ""
                        },
                        "colorscale": [
                          [
                            0,
                            "#0d0887"
                          ],
                          [
                            0.1111111111111111,
                            "#46039f"
                          ],
                          [
                            0.2222222222222222,
                            "#7201a8"
                          ],
                          [
                            0.3333333333333333,
                            "#9c179e"
                          ],
                          [
                            0.4444444444444444,
                            "#bd3786"
                          ],
                          [
                            0.5555555555555556,
                            "#d8576b"
                          ],
                          [
                            0.6666666666666666,
                            "#ed7953"
                          ],
                          [
                            0.7777777777777778,
                            "#fb9f3a"
                          ],
                          [
                            0.8888888888888888,
                            "#fdca26"
                          ],
                          [
                            1,
                            "#f0f921"
                          ]
                        ],
                        "type": "histogram2d"
                      }
                    ],
                    "histogram2dcontour": [
                      {
                        "colorbar": {
                          "outlinewidth": 0,
                          "ticks": ""
                        },
                        "colorscale": [
                          [
                            0,
                            "#0d0887"
                          ],
                          [
                            0.1111111111111111,
                            "#46039f"
                          ],
                          [
                            0.2222222222222222,
                            "#7201a8"
                          ],
                          [
                            0.3333333333333333,
                            "#9c179e"
                          ],
                          [
                            0.4444444444444444,
                            "#bd3786"
                          ],
                          [
                            0.5555555555555556,
                            "#d8576b"
                          ],
                          [
                            0.6666666666666666,
                            "#ed7953"
                          ],
                          [
                            0.7777777777777778,
                            "#fb9f3a"
                          ],
                          [
                            0.8888888888888888,
                            "#fdca26"
                          ],
                          [
                            1,
                            "#f0f921"
                          ]
                        ],
                        "type": "histogram2dcontour"
                      }
                    ],
                    "mesh3d": [
                      {
                        "colorbar": {
                          "outlinewidth": 0,
                          "ticks": ""
                        },
                        "type": "mesh3d"
                      }
                    ],
                    "parcoords": [
                      {
                        "line": {
                          "colorbar": {
                            "outlinewidth": 0,
                            "ticks": ""
                          }
                        },
                        "type": "parcoords"
                      }
                    ],
                    "pie": [
                      {
                        "automargin": true,
                        "type": "pie"
                      }
                    ],
                    "scatter": [
                      {
                        "fillpattern": {
                          "fillmode": "overlay",
                          "size": 10,
                          "solidity": 0.2
                        },
                        "type": "scatter"
                      }
                    ],
                    "scatter3d": [
                      {
                        "line": {
                          "colorbar": {
                            "outlinewidth": 0,
                            "ticks": ""
                          }
                        },
                        "marker": {
                          "colorbar": {
                            "outlinewidth": 0,
                            "ticks": ""
                          }
                        },
                        "type": "scatter3d"
                      }
                    ],
                    "scattercarpet": [
                      {
                        "marker": {
                          "colorbar": {
                            "outlinewidth": 0,
                            "ticks": ""
                          }
                        },
                        "type": "scattercarpet"
                      }
                    ],
                    "scattergeo": [
                      {
                        "marker": {
                          "colorbar": {
                            "outlinewidth": 0,
                            "ticks": ""
                          }
                        },
                        "type": "scattergeo"
                      }
                    ],
                    "scattergl": [
                      {
                        "marker": {
                          "colorbar": {
                            "outlinewidth": 0,
                            "ticks": ""
                          }
                        },
                        "type": "scattergl"
                      }
                    ],
                    "scattermapbox": [
                      {
                        "marker": {
                          "colorbar": {
                            "outlinewidth": 0,
                            "ticks": ""
                          }
                        },
                        "type": "scattermapbox"
                      }
                    ],
                    "scatterpolar": [
                      {
                        "marker": {
                          "colorbar": {
                            "outlinewidth": 0,
                            "ticks": ""
                          }
                        },
                        "type": "scatterpolar"
                      }
                    ],
                    "scatterpolargl": [
                      {
                        "marker": {
                          "colorbar": {
                            "outlinewidth": 0,
                            "ticks": ""
                          }
                        },
                        "type": "scatterpolargl"
                      }
                    ],
                    "scatterternary": [
                      {
                        "marker": {
                          "colorbar": {
                            "outlinewidth": 0,
                            "ticks": ""
                          }
                        },
                        "type": "scatterternary"
                      }
                    ],
                    "surface": [
                      {
                        "colorbar": {
                          "outlinewidth": 0,
                          "ticks": ""
                        },
                        "colorscale": [
                          [
                            0,
                            "#0d0887"
                          ],
                          [
                            0.1111111111111111,
                            "#46039f"
                          ],
                          [
                            0.2222222222222222,
                            "#7201a8"
                          ],
                          [
                            0.3333333333333333,
                            "#9c179e"
                          ],
                          [
                            0.4444444444444444,
                            "#bd3786"
                          ],
                          [
                            0.5555555555555556,
                            "#d8576b"
                          ],
                          [
                            0.6666666666666666,
                            "#ed7953"
                          ],
                          [
                            0.7777777777777778,
                            "#fb9f3a"
                          ],
                          [
                            0.8888888888888888,
                            "#fdca26"
                          ],
                          [
                            1,
                            "#f0f921"
                          ]
                        ],
                        "type": "surface"
                      }
                    ],
                    "table": [
                      {
                        "cells": {
                          "fill": {
                            "color": "#EBF0F8"
                          },
                          "line": {
                            "color": "white"
                          }
                        },
                        "header": {
                          "fill": {
                            "color": "#C8D4E3"
                          },
                          "line": {
                            "color": "white"
                          }
                        },
                        "type": "table"
                      }
                    ]
                  },
                  "layout": {
                    "annotationdefaults": {
                      "arrowcolor": "#2a3f5f",
                      "arrowhead": 0,
                      "arrowwidth": 1
                    },
                    "autotypenumbers": "strict",
                    "coloraxis": {
                      "colorbar": {
                        "outlinewidth": 0,
                        "ticks": ""
                      }
                    },
                    "colorscale": {
                      "diverging": [
                        [
                          0,
                          "#8e0152"
                        ],
                        [
                          0.1,
                          "#c51b7d"
                        ],
                        [
                          0.2,
                          "#de77ae"
                        ],
                        [
                          0.3,
                          "#f1b6da"
                        ],
                        [
                          0.4,
                          "#fde0ef"
                        ],
                        [
                          0.5,
                          "#f7f7f7"
                        ],
                        [
                          0.6,
                          "#e6f5d0"
                        ],
                        [
                          0.7,
                          "#b8e186"
                        ],
                        [
                          0.8,
                          "#7fbc41"
                        ],
                        [
                          0.9,
                          "#4d9221"
                        ],
                        [
                          1,
                          "#276419"
                        ]
                      ],
                      "sequential": [
                        [
                          0,
                          "#0d0887"
                        ],
                        [
                          0.1111111111111111,
                          "#46039f"
                        ],
                        [
                          0.2222222222222222,
                          "#7201a8"
                        ],
                        [
                          0.3333333333333333,
                          "#9c179e"
                        ],
                        [
                          0.4444444444444444,
                          "#bd3786"
                        ],
                        [
                          0.5555555555555556,
                          "#d8576b"
                        ],
                        [
                          0.6666666666666666,
                          "#ed7953"
                        ],
                        [
                          0.7777777777777778,
                          "#fb9f3a"
                        ],
                        [
                          0.8888888888888888,
                          "#fdca26"
                        ],
                        [
                          1,
                          "#f0f921"
                        ]
                      ],
                      "sequentialminus": [
                        [
                          0,
                          "#0d0887"
                        ],
                        [
                          0.1111111111111111,
                          "#46039f"
                        ],
                        [
                          0.2222222222222222,
                          "#7201a8"
                        ],
                        [
                          0.3333333333333333,
                          "#9c179e"
                        ],
                        [
                          0.4444444444444444,
                          "#bd3786"
                        ],
                        [
                          0.5555555555555556,
                          "#d8576b"
                        ],
                        [
                          0.6666666666666666,
                          "#ed7953"
                        ],
                        [
                          0.7777777777777778,
                          "#fb9f3a"
                        ],
                        [
                          0.8888888888888888,
                          "#fdca26"
                        ],
                        [
                          1,
                          "#f0f921"
                        ]
                      ]
                    },
                    "colorway": [
                      "#636efa",
                      "#EF553B",
                      "#00cc96",
                      "#ab63fa",
                      "#FFA15A",
                      "#19d3f3",
                      "#FF6692",
                      "#B6E880",
                      "#FF97FF",
                      "#FECB52"
                    ],
                    "font": {
                      "color": "#2a3f5f"
                    },
                    "geo": {
                      "bgcolor": "white",
                      "lakecolor": "white",
                      "landcolor": "#E5ECF6",
                      "showlakes": true,
                      "showland": true,
                      "subunitcolor": "white"
                    },
                    "hoverlabel": {
                      "align": "left"
                    },
                    "hovermode": "closest",
                    "mapbox": {
                      "style": "light"
                    },
                    "paper_bgcolor": "white",
                    "plot_bgcolor": "#E5ECF6",
                    "polar": {
                      "angularaxis": {
                        "gridcolor": "white",
                        "linecolor": "white",
                        "ticks": ""
                      },
                      "bgcolor": "#E5ECF6",
                      "radialaxis": {
                        "gridcolor": "white",
                        "linecolor": "white",
                        "ticks": ""
                      }
                    },
                    "scene": {
                      "xaxis": {
                        "backgroundcolor": "#E5ECF6",
                        "gridcolor": "white",
                        "gridwidth": 2,
                        "linecolor": "white",
                        "showbackground": true,
                        "ticks": "",
                        "zerolinecolor": "white"
                      },
                      "yaxis": {
                        "backgroundcolor": "#E5ECF6",
                        "gridcolor": "white",
                        "gridwidth": 2,
                        "linecolor": "white",
                        "showbackground": true,
                        "ticks": "",
                        "zerolinecolor": "white"
                      },
                      "zaxis": {
                        "backgroundcolor": "#E5ECF6",
                        "gridcolor": "white",
                        "gridwidth": 2,
                        "linecolor": "white",
                        "showbackground": true,
                        "ticks": "",
                        "zerolinecolor": "white"
                      }
                    },
                    "shapedefaults": {
                      "line": {
                        "color": "#2a3f5f"
                      }
                    },
                    "ternary": {
                      "aaxis": {
                        "gridcolor": "white",
                        "linecolor": "white",
                        "ticks": ""
                      },
                      "baxis": {
                        "gridcolor": "white",
                        "linecolor": "white",
                        "ticks": ""
                      },
                      "bgcolor": "#E5ECF6",
                      "caxis": {
                        "gridcolor": "white",
                        "linecolor": "white",
                        "ticks": ""
                      }
                    },
                    "title": {
                      "x": 0.05
                    },
                    "xaxis": {
                      "automargin": true,
                      "gridcolor": "white",
                      "linecolor": "white",
                      "ticks": "",
                      "title": {
                        "standoff": 15
                      },
                      "zerolinecolor": "white",
                      "zerolinewidth": 2
                    },
                    "yaxis": {
                      "automargin": true,
                      "gridcolor": "white",
                      "linecolor": "white",
                      "ticks": "",
                      "title": {
                        "standoff": 15
                      },
                      "zerolinecolor": "white",
                      "zerolinewidth": 2
                    }
                  }
                },
                "title": {
                  "text": "3D Bubble Plot of Augmentation Parameters and Validation Accuracy"
                }
              }
            }
          },
          "metadata": {},
          "output_type": "display_data"
        }
      ],
      "source": [
        "import plotly.graph_objects as go\n",
        "\n",
        "# Extract parameters and accuracies for plotting\n",
        "noise_percentages = [r['noise_percentage'] for r in results]\n",
        "time_warp_sigmas = [r['time_warp_sigma'] for r in results]\n",
        "shift_maxes = [r['shift_max'] for r in results]\n",
        "accuracies = [r['accuracy'] for r in results]\n",
        "\n",
        "# Bubble sizes proportional to accuracy - 0.8 (shifted for better scaling)\n",
        "bubble_sizes = [(acc - 0.80) * 100 for acc in accuracies]\n",
        "\n",
        "# Create a 3D scatter plot using Plotly\n",
        "fig = go.Figure()\n",
        "\n",
        "fig.add_trace(go.Scatter3d(\n",
        "    x=noise_percentages,\n",
        "    y=time_warp_sigmas,\n",
        "    z=shift_maxes,\n",
        "    mode='markers',\n",
        "    marker=dict(\n",
        "        size=bubble_sizes,\n",
        "        color=accuracies,                # Set color to the accuracy values\n",
        "        colorscale='Viridis',            # Choose a colorscale\n",
        "        colorbar=dict(title='Accuracy'), # Show color scale\n",
        "        opacity=0.8,\n",
        "    ),\n",
        "    text=[f'Accuracy: {acc:.4f}' for acc in accuracies]  # Hover text\n",
        "))\n",
        "\n",
        "# Set titles and labels\n",
        "fig.update_layout(\n",
        "    scene=dict(\n",
        "        xaxis_title='Noise Percentage',\n",
        "        yaxis_title='Time Warp Sigma',\n",
        "        zaxis_title='Shift Max'\n",
        "    ),\n",
        "    title='3D Bubble Plot of Augmentation Parameters and Validation Accuracy'\n",
        ")\n",
        "\n",
        "# Show the figure\n",
        "fig.show()"
      ]
    },
    {
      "cell_type": "code",
      "execution_count": null,
      "metadata": {},
      "outputs": [],
      "source": [
        "import seaborn as sns\n",
        "\n",
        "# Create the plot\n",
        "plt.figure(figsize=(12, 6))\n",
        "\n",
        "# Using seaborn barplot with estimator set to mean and ci for standard error\n",
        "sns.barplot(\n",
        "    data=thresholds,\n",
        "    x='Lab',\n",
        "    y='diff',\n",
        "    hue='Logic',\n",
        "    estimator=np.mean,      # Use mean as the estimator\n",
        "    errorbar='se',                # Show standard error\n",
        "    palette='muted',\n",
        "    capsize=0.2             # Add caps to error bars\n",
        ")\n",
        "\n",
        "# Customize the plot\n",
        "plt.title('Mean Difference and Standard Error for Different Logics by Lab')\n",
        "plt.xlabel('Lab')\n",
        "plt.ylabel('Mean Difference (dB)')\n",
        "plt.legend(title='Logic')\n",
        "plt.tight_layout()\n",
        "plt.ylim(top=20)\n",
        "\n",
        "# Show the plot\n",
        "plt.show()"
      ]
    }
  ],
  "metadata": {
    "colab": {
      "provenance": []
    },
    "kernelspec": {
      "display_name": "Python 3",
      "name": "python3"
    },
    "language_info": {
      "codemirror_mode": {
        "name": "ipython",
        "version": 3
      },
      "file_extension": ".py",
      "mimetype": "text/x-python",
      "name": "python",
      "nbconvert_exporter": "python",
      "pygments_lexer": "ipython3",
      "version": "3.11.0"
    }
  },
  "nbformat": 4,
  "nbformat_minor": 0
}
